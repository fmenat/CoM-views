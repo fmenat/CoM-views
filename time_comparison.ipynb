{
 "cells": [
  {
   "cell_type": "code",
   "execution_count": 1,
   "id": "864210a2",
   "metadata": {},
   "outputs": [],
   "source": [
    "import numpy as np\n",
    "import pandas as pd\n",
    "import seaborn as sns\n",
    "import matplotlib.pyplot as plt\n",
    "import matplotlib\n",
    "import xarray as xr\n",
    "import os, time, sys\n",
    "import matplotlib.colors as mcolors\n",
    "sns.set_style(\"whitegrid\")"
   ]
  },
  {
   "cell_type": "markdown",
   "id": "64d78459",
   "metadata": {},
   "source": [
    "## Train models"
   ]
  },
  {
   "cell_type": "code",
   "execution_count": 2,
   "id": "fa208d52",
   "metadata": {},
   "outputs": [
    {
     "name": "stderr",
     "output_type": "stream",
     "text": [
      "/home/mena/miniconda3/envs/views2/lib/python3.8/site-packages/tqdm/auto.py:21: TqdmWarning: IProgress not found. Please update jupyter and ipywidgets. See https://ipywidgets.readthedocs.io/en/stable/user_install.html\n",
      "  from .autonotebook import tqdm as notebook_tqdm\n"
     ]
    }
   ],
   "source": [
    "import yaml\n",
    "sys.path.insert(0,'../')\n",
    "from train_baseline_ensemble import main_run as main_run_ensemble\n",
    "from train_baseline_input import main_run as main_run_input\n",
    "from train import main_run as main_run\n",
    "\n",
    "storage_pd= pd.DataFrame()\n",
    "columns_ = [\"training_time\", \"prediction_time_full\", \"prediction_time_S2_S2VI_100\", \"prediction_time_S2_S2VI_S1_100\", \"prediction_time_S1_weather_DEM_100\"]"
   ]
  },
  {
   "cell_type": "code",
   "execution_count": 3,
   "id": "d9f29285",
   "metadata": {},
   "outputs": [
    {
     "name": "stdout",
     "output_type": "stream",
     "text": [
      "Normalize views\n",
      "******************************** Executing model on run 1 and kfold 1\n",
      "You select 5 views from the 8 available, you could use get_view_names() to check which are available, the selected views are ['S1', 'weather', 'DEM', 'S2', 'S2VI'], with additional views ['S2_S2VI']\n",
      "first dimension of list will be the views, instead of the standard of n-samples\n"
     ]
    },
    {
     "name": "stderr",
     "output_type": "stream",
     "text": [
      "100%|██████████| 29642/29642 [00:00<00:00, 285501.35it/s]\n"
     ]
    },
    {
     "name": "stdout",
     "output_type": "stream",
     "text": [
      "You select 5 views from the 8 available, you could use get_view_names() to check which are available, the selected views are ['S1', 'weather', 'DEM', 'S2', 'S2VI'], with additional views ['S2_S2VI']\n",
      "first dimension of list will be the views, instead of the standard of n-samples\n"
     ]
    },
    {
     "name": "stderr",
     "output_type": "stream",
     "text": [
      "100%|██████████| 29642/29642 [00:00<00:00, 532230.98it/s]\n",
      "/home/mena/miniconda3/envs/views2/lib/python3.8/site-packages/pytorch_lightning/utilities/parsing.py:197: UserWarning: Attribute 'predictive_model' is an instance of `nn.Module` and is already saved during checkpointing. It is recommended to ignore them using `self.save_hyperparameters(ignore=['predictive_model'])`.\n",
      "  rank_zero_warn(\n",
      "/home/mena/Documents/repos/com-views/src/datasets/views_loader.py:8: RuntimeWarning: divide by zero encountered in remainder\n",
      "  if v % int(v) == 0:\n"
     ]
    },
    {
     "name": "stdout",
     "output_type": "stream",
     "text": [
      "Training with 19761 samples and validating on 9881\n",
      "Initial parameters of model: \"input_dim_to_stack\": [2, 2, 2, 12]\n",
      "\"loss_args\":          {'name': 'ce', 'weight': tensor([0.4331, 3.4307, 0.3464, 2.3982, 0.9846, 7.8107, 2.6418, 1.1638, 7.2385,\n",
      "        0.6344])}\n",
      "\"predictive_model\":   Sequential(\n",
      "  (0): Generic_Encoder(\n",
      "    (pre_encoder): TempCNN(\n",
      "      (conv_layers): Sequential(\n",
      "        (0): Conv1D_BatchNorm_Relu_Dropout(\n",
      "          (block): Sequential(\n",
      "            (0): Conv1d(18, 128, kernel_size=(5,), stride=(1,), padding=(2,))\n",
      "            (1): BatchNorm1d(128, eps=1e-05, momentum=0.1, affine=True, track_running_stats=True)\n",
      "            (2): ReLU()\n",
      "            (3): Dropout(p=0.2, inplace=False)\n",
      "          )\n",
      "        )\n",
      "        (1): Conv1D_BatchNorm_Relu_Dropout(\n",
      "          (block): Sequential(\n",
      "            (0): Conv1d(128, 128, kernel_size=(5,), stride=(1,), padding=(2,))\n",
      "            (1): BatchNorm1d(128, eps=1e-05, momentum=0.1, affine=True, track_running_stats=True)\n",
      "            (2): ReLU()\n",
      "            (3): Dropout(p=0.2, inplace=False)\n",
      "          )\n",
      "        )\n",
      "        (2): Conv1D_BatchNorm_Relu_Dropout(\n",
      "          (block): Sequential(\n",
      "            (0): Conv1d(128, 128, kernel_size=(5,), stride=(1,), padding=(2,))\n",
      "            (1): BatchNorm1d(128, eps=1e-05, momentum=0.1, affine=True, track_running_stats=True)\n",
      "            (2): ReLU()\n",
      "            (3): Dropout(p=0.2, inplace=False)\n",
      "          )\n",
      "        )\n",
      "      )\n",
      "      (dense): FC_BatchNorm_Relu_Dropout(\n",
      "        (block): Sequential(\n",
      "          (0): Linear(in_features=1536, out_features=512, bias=True)\n",
      "          (1): BatchNorm1d(512, eps=1e-05, momentum=0.1, affine=True, track_running_stats=True)\n",
      "          (2): ReLU()\n",
      "          (3): Dropout(p=0.2, inplace=False)\n",
      "        )\n",
      "      )\n",
      "    )\n",
      "    (linear_layer): Linear(in_features=512, out_features=128, bias=True)\n",
      "    (norm_layer): Identity()\n",
      "    (tempdrop_layer): TemporalDropout(\n",
      "      (tempdrop): Dropout1d(p=0.3, inplace=False)\n",
      "    )\n",
      "  )\n",
      "  (1): Generic_Decoder(\n",
      "    (pre_decoder): MLP(\n",
      "      (layers): Sequential(\n",
      "        (0): Sequential(\n",
      "          (0): Linear(in_features=128, out_features=128, bias=True)\n",
      "          (1): ReLU()\n",
      "          (2): BatchNorm1d(128, eps=1e-05, momentum=0.1, affine=True, track_running_stats=True)\n",
      "          (3): Dropout(p=0.2, inplace=False)\n",
      "        )\n",
      "      )\n",
      "    )\n",
      "    (linear_layer): Linear(in_features=128, out_features=10, bias=True)\n",
      "  )\n",
      ")\n",
      "\"view_names\":         ['S1', 'weather', 'DEM', 'S2_S2VI']\n"
     ]
    },
    {
     "name": "stderr",
     "output_type": "stream",
     "text": [
      "GPU available: True (cuda), used: True\n",
      "TPU available: False, using: 0 TPU cores\n",
      "IPU available: False, using: 0 IPUs\n",
      "HPU available: False, using: 0 HPUs\n",
      "You are using a CUDA device ('NVIDIA GeForce RTX 3080 Laptop GPU') that has Tensor Cores. To properly utilize them, you should set `torch.set_float32_matmul_precision('medium' | 'high')` which will trade-off precision for performance. For more details, read https://pytorch.org/docs/stable/generated/torch.set_float32_matmul_precision.html#torch.set_float32_matmul_precision\n",
      "Missing logger folder: /home/mena/Documents/repos/com-views/lightning_logs\n",
      "LOCAL_RANK: 0 - CUDA_VISIBLE_DEVICES: [0]\n",
      "\n",
      "  | Name            | Type                | Params\n",
      "--------------------------------------------------------\n",
      "0 | views_encoder   | ModuleDict          | 0     \n",
      "1 | fusion_module   | FusionModuleMissing | 0     \n",
      "2 | prediction_head | Sequential          | 1.0 M \n",
      "3 | criteria        | CrossEntropyLoss    | 0     \n",
      "--------------------------------------------------------\n",
      "1.0 M     Trainable params\n",
      "0         Non-trainable params\n",
      "1.0 M     Total params\n",
      "4.193     Total estimated model params size (MB)\n"
     ]
    },
    {
     "name": "stdout",
     "output_type": "stream",
     "text": [
      "Epoch 0: 100%|██████████| 155/155 [00:02<00:00, 62.84it/s, v_num=0, train_objective=1.670]"
     ]
    },
    {
     "name": "stderr",
     "output_type": "stream",
     "text": [
      "Metric val_objective improved. New best score: 1.177\n"
     ]
    },
    {
     "name": "stdout",
     "output_type": "stream",
     "text": [
      "Epoch 1: 100%|██████████| 155/155 [00:02<00:00, 66.54it/s, v_num=0, train_objective=1.360]"
     ]
    },
    {
     "name": "stderr",
     "output_type": "stream",
     "text": [
      "Metric val_objective improved by 0.150 >= min_delta = 0.01. New best score: 1.026\n"
     ]
    },
    {
     "name": "stdout",
     "output_type": "stream",
     "text": [
      "Epoch 2: 100%|██████████| 155/155 [00:02<00:00, 66.48it/s, v_num=0, train_objective=0.952]"
     ]
    },
    {
     "name": "stderr",
     "output_type": "stream",
     "text": [
      "Metric val_objective improved by 0.072 >= min_delta = 0.01. New best score: 0.954\n",
      "`Trainer.fit` stopped: `max_epochs=3` reached.\n"
     ]
    },
    {
     "name": "stdout",
     "output_type": "stream",
     "text": [
      "Epoch 2: 100%|██████████| 155/155 [00:02<00:00, 65.55it/s, v_num=0, train_objective=0.952]\n",
      "Training done\n"
     ]
    },
    {
     "name": "stderr",
     "output_type": "stream",
     "text": [
      "/home/mena/Documents/repos/com-views/src/datasets/views_loader.py:8: RuntimeWarning: divide by zero encountered in remainder\n",
      "  if v % int(v) == 0:\n"
     ]
    },
    {
     "name": "stdout",
     "output_type": "stream",
     "text": [
      "Inference with the following views  ['S2_S2VI']  and percentage missing  1.0\n",
      "Fold 1/3 of Run 1/1 in Input-Forw_S2_S2VI finished...\n",
      "Inference with the following views  ['S2_S2VI', 'S1']  and percentage missing  1.0\n",
      "Fold 1/3 of Run 1/1 in Input-Forw_S2_S2VI_S1 finished...\n",
      "Inference with the following views  ['S1', 'weather', 'DEM']  and percentage missing  1.0\n",
      "Fold 1/3 of Run 1/1 in Input-Forw_S1_weather_DEM finished...\n",
      "Fold 1/3 of Run 1/1 in Input finished...\n",
      "******************************** Executing model on run 1 and kfold 2\n",
      "You select 5 views from the 8 available, you could use get_view_names() to check which are available, the selected views are ['S1', 'weather', 'DEM', 'S2', 'S2VI'], with additional views ['S2_S2VI']\n",
      "first dimension of list will be the views, instead of the standard of n-samples\n"
     ]
    },
    {
     "name": "stderr",
     "output_type": "stream",
     "text": [
      "100%|██████████| 29642/29642 [00:00<00:00, 279889.06it/s]\n"
     ]
    },
    {
     "name": "stdout",
     "output_type": "stream",
     "text": [
      "You select 5 views from the 8 available, you could use get_view_names() to check which are available, the selected views are ['S1', 'weather', 'DEM', 'S2', 'S2VI'], with additional views ['S2_S2VI']\n",
      "first dimension of list will be the views, instead of the standard of n-samples\n"
     ]
    },
    {
     "name": "stderr",
     "output_type": "stream",
     "text": [
      "100%|██████████| 29642/29642 [00:00<00:00, 527518.03it/s]\n",
      "/home/mena/miniconda3/envs/views2/lib/python3.8/site-packages/pytorch_lightning/utilities/parsing.py:197: UserWarning: Attribute 'predictive_model' is an instance of `nn.Module` and is already saved during checkpointing. It is recommended to ignore them using `self.save_hyperparameters(ignore=['predictive_model'])`.\n",
      "  rank_zero_warn(\n",
      "/home/mena/Documents/repos/com-views/src/datasets/views_loader.py:8: RuntimeWarning: divide by zero encountered in remainder\n",
      "  if v % int(v) == 0:\n",
      "GPU available: True (cuda), used: True\n",
      "TPU available: False, using: 0 TPU cores\n",
      "IPU available: False, using: 0 IPUs\n",
      "HPU available: False, using: 0 HPUs\n",
      "You are using a CUDA device ('NVIDIA GeForce RTX 3080 Laptop GPU') that has Tensor Cores. To properly utilize them, you should set `torch.set_float32_matmul_precision('medium' | 'high')` which will trade-off precision for performance. For more details, read https://pytorch.org/docs/stable/generated/torch.set_float32_matmul_precision.html#torch.set_float32_matmul_precision\n",
      "/home/mena/miniconda3/envs/views2/lib/python3.8/site-packages/pytorch_lightning/callbacks/model_checkpoint.py:612: UserWarning: Checkpoint directory /home/mena/Documents/repos/com-views/config_time/aux/run-saves/checkpoint_logs/cropharvest_multi_train/Input exists and is not empty.\n",
      "  rank_zero_warn(f\"Checkpoint directory {dirpath} exists and is not empty.\")\n",
      "LOCAL_RANK: 0 - CUDA_VISIBLE_DEVICES: [0]\n",
      "\n",
      "  | Name            | Type                | Params\n",
      "--------------------------------------------------------\n",
      "0 | views_encoder   | ModuleDict          | 0     \n",
      "1 | fusion_module   | FusionModuleMissing | 0     \n",
      "2 | prediction_head | Sequential          | 1.0 M \n",
      "3 | criteria        | CrossEntropyLoss    | 0     \n",
      "--------------------------------------------------------\n",
      "1.0 M     Trainable params\n",
      "0         Non-trainable params\n",
      "1.0 M     Total params\n",
      "4.193     Total estimated model params size (MB)\n"
     ]
    },
    {
     "name": "stdout",
     "output_type": "stream",
     "text": [
      "Training with 19761 samples and validating on 9881\n",
      "Initial parameters of model: \"input_dim_to_stack\": [2, 2, 2, 12]\n",
      "\"loss_args\":          {'name': 'ce', 'weight': tensor([0.4326, 3.4729, 0.3509, 2.3723, 0.9696, 7.2651, 2.7033, 1.2027, 6.7907,\n",
      "        0.6204])}\n",
      "\"predictive_model\":   Sequential(\n",
      "  (0): Generic_Encoder(\n",
      "    (pre_encoder): TempCNN(\n",
      "      (conv_layers): Sequential(\n",
      "        (0): Conv1D_BatchNorm_Relu_Dropout(\n",
      "          (block): Sequential(\n",
      "            (0): Conv1d(18, 128, kernel_size=(5,), stride=(1,), padding=(2,))\n",
      "            (1): BatchNorm1d(128, eps=1e-05, momentum=0.1, affine=True, track_running_stats=True)\n",
      "            (2): ReLU()\n",
      "            (3): Dropout(p=0.2, inplace=False)\n",
      "          )\n",
      "        )\n",
      "        (1): Conv1D_BatchNorm_Relu_Dropout(\n",
      "          (block): Sequential(\n",
      "            (0): Conv1d(128, 128, kernel_size=(5,), stride=(1,), padding=(2,))\n",
      "            (1): BatchNorm1d(128, eps=1e-05, momentum=0.1, affine=True, track_running_stats=True)\n",
      "            (2): ReLU()\n",
      "            (3): Dropout(p=0.2, inplace=False)\n",
      "          )\n",
      "        )\n",
      "        (2): Conv1D_BatchNorm_Relu_Dropout(\n",
      "          (block): Sequential(\n",
      "            (0): Conv1d(128, 128, kernel_size=(5,), stride=(1,), padding=(2,))\n",
      "            (1): BatchNorm1d(128, eps=1e-05, momentum=0.1, affine=True, track_running_stats=True)\n",
      "            (2): ReLU()\n",
      "            (3): Dropout(p=0.2, inplace=False)\n",
      "          )\n",
      "        )\n",
      "      )\n",
      "      (dense): FC_BatchNorm_Relu_Dropout(\n",
      "        (block): Sequential(\n",
      "          (0): Linear(in_features=1536, out_features=512, bias=True)\n",
      "          (1): BatchNorm1d(512, eps=1e-05, momentum=0.1, affine=True, track_running_stats=True)\n",
      "          (2): ReLU()\n",
      "          (3): Dropout(p=0.2, inplace=False)\n",
      "        )\n",
      "      )\n",
      "    )\n",
      "    (linear_layer): Linear(in_features=512, out_features=128, bias=True)\n",
      "    (norm_layer): Identity()\n",
      "    (tempdrop_layer): TemporalDropout(\n",
      "      (tempdrop): Dropout1d(p=0.3, inplace=False)\n",
      "    )\n",
      "  )\n",
      "  (1): Generic_Decoder(\n",
      "    (pre_decoder): MLP(\n",
      "      (layers): Sequential(\n",
      "        (0): Sequential(\n",
      "          (0): Linear(in_features=128, out_features=128, bias=True)\n",
      "          (1): ReLU()\n",
      "          (2): BatchNorm1d(128, eps=1e-05, momentum=0.1, affine=True, track_running_stats=True)\n",
      "          (3): Dropout(p=0.2, inplace=False)\n",
      "        )\n",
      "      )\n",
      "    )\n",
      "    (linear_layer): Linear(in_features=128, out_features=10, bias=True)\n",
      "  )\n",
      ")\n",
      "\"view_names\":         ['S1', 'weather', 'DEM', 'S2_S2VI']\n",
      "Epoch 0: 100%|██████████| 155/155 [00:02<00:00, 67.32it/s, v_num=1, train_objective=1.300]"
     ]
    },
    {
     "name": "stderr",
     "output_type": "stream",
     "text": [
      "Metric val_objective improved. New best score: 1.131\n"
     ]
    },
    {
     "name": "stdout",
     "output_type": "stream",
     "text": [
      "Epoch 1: 100%|██████████| 155/155 [00:02<00:00, 69.06it/s, v_num=1, train_objective=0.942]"
     ]
    },
    {
     "name": "stderr",
     "output_type": "stream",
     "text": [
      "Metric val_objective improved by 0.102 >= min_delta = 0.01. New best score: 1.029\n"
     ]
    },
    {
     "name": "stdout",
     "output_type": "stream",
     "text": [
      "Epoch 2: 100%|██████████| 155/155 [00:02<00:00, 63.40it/s, v_num=1, train_objective=1.680]"
     ]
    },
    {
     "name": "stderr",
     "output_type": "stream",
     "text": [
      "Metric val_objective improved by 0.027 >= min_delta = 0.01. New best score: 1.002\n",
      "`Trainer.fit` stopped: `max_epochs=3` reached.\n"
     ]
    },
    {
     "name": "stdout",
     "output_type": "stream",
     "text": [
      "Epoch 2: 100%|██████████| 155/155 [00:02<00:00, 62.54it/s, v_num=1, train_objective=1.680]\n",
      "Training done\n",
      "Inference with the following views  ['S2_S2VI']  and percentage missing  1.0\n",
      "Fold 2/3 of Run 1/1 in Input-Forw_S2_S2VI finished...\n",
      "Inference with the following views  ['S2_S2VI', 'S1']  and percentage missing  1.0\n",
      "Fold 2/3 of Run 1/1 in Input-Forw_S2_S2VI_S1 finished...\n",
      "Inference with the following views  ['S1', 'weather', 'DEM']  and percentage missing  1.0\n",
      "Fold 2/3 of Run 1/1 in Input-Forw_S1_weather_DEM finished...\n",
      "Fold 2/3 of Run 1/1 in Input finished...\n",
      "******************************** Executing model on run 1 and kfold 3\n",
      "You select 5 views from the 8 available, you could use get_view_names() to check which are available, the selected views are ['S1', 'weather', 'DEM', 'S2', 'S2VI'], with additional views ['S2_S2VI']\n",
      "first dimension of list will be the views, instead of the standard of n-samples\n"
     ]
    },
    {
     "name": "stderr",
     "output_type": "stream",
     "text": [
      "100%|██████████| 29642/29642 [00:00<00:00, 289043.11it/s]\n"
     ]
    },
    {
     "name": "stdout",
     "output_type": "stream",
     "text": [
      "You select 5 views from the 8 available, you could use get_view_names() to check which are available, the selected views are ['S1', 'weather', 'DEM', 'S2', 'S2VI'], with additional views ['S2_S2VI']\n",
      "first dimension of list will be the views, instead of the standard of n-samples\n"
     ]
    },
    {
     "name": "stderr",
     "output_type": "stream",
     "text": [
      "100%|██████████| 29642/29642 [00:00<00:00, 546050.72it/s]\n",
      "/home/mena/miniconda3/envs/views2/lib/python3.8/site-packages/pytorch_lightning/utilities/parsing.py:197: UserWarning: Attribute 'predictive_model' is an instance of `nn.Module` and is already saved during checkpointing. It is recommended to ignore them using `self.save_hyperparameters(ignore=['predictive_model'])`.\n",
      "  rank_zero_warn(\n",
      "/home/mena/Documents/repos/com-views/src/datasets/views_loader.py:8: RuntimeWarning: divide by zero encountered in remainder\n",
      "  if v % int(v) == 0:\n",
      "GPU available: True (cuda), used: True\n",
      "TPU available: False, using: 0 TPU cores\n",
      "IPU available: False, using: 0 IPUs\n",
      "HPU available: False, using: 0 HPUs\n",
      "You are using a CUDA device ('NVIDIA GeForce RTX 3080 Laptop GPU') that has Tensor Cores. To properly utilize them, you should set `torch.set_float32_matmul_precision('medium' | 'high')` which will trade-off precision for performance. For more details, read https://pytorch.org/docs/stable/generated/torch.set_float32_matmul_precision.html#torch.set_float32_matmul_precision\n",
      "/home/mena/miniconda3/envs/views2/lib/python3.8/site-packages/pytorch_lightning/callbacks/model_checkpoint.py:612: UserWarning: Checkpoint directory /home/mena/Documents/repos/com-views/config_time/aux/run-saves/checkpoint_logs/cropharvest_multi_train/Input exists and is not empty.\n",
      "  rank_zero_warn(f\"Checkpoint directory {dirpath} exists and is not empty.\")\n",
      "LOCAL_RANK: 0 - CUDA_VISIBLE_DEVICES: [0]\n",
      "\n",
      "  | Name            | Type                | Params\n",
      "--------------------------------------------------------\n",
      "0 | views_encoder   | ModuleDict          | 0     \n",
      "1 | fusion_module   | FusionModuleMissing | 0     \n",
      "2 | prediction_head | Sequential          | 1.0 M \n",
      "3 | criteria        | CrossEntropyLoss    | 0     \n",
      "--------------------------------------------------------\n",
      "1.0 M     Trainable params\n",
      "0         Non-trainable params\n",
      "1.0 M     Total params\n",
      "4.193     Total estimated model params size (MB)\n"
     ]
    },
    {
     "name": "stdout",
     "output_type": "stream",
     "text": [
      "Training with 19762 samples and validating on 9880\n",
      "Initial parameters of model: \"input_dim_to_stack\": [2, 2, 2, 12]\n",
      "\"loss_args\":          {'name': 'ce', 'weight': tensor([0.4402, 3.3666, 0.3497, 2.2741, 0.9635, 6.8381, 2.7333, 1.1941, 7.3739,\n",
      "        0.6214])}\n",
      "\"predictive_model\":   Sequential(\n",
      "  (0): Generic_Encoder(\n",
      "    (pre_encoder): TempCNN(\n",
      "      (conv_layers): Sequential(\n",
      "        (0): Conv1D_BatchNorm_Relu_Dropout(\n",
      "          (block): Sequential(\n",
      "            (0): Conv1d(18, 128, kernel_size=(5,), stride=(1,), padding=(2,))\n",
      "            (1): BatchNorm1d(128, eps=1e-05, momentum=0.1, affine=True, track_running_stats=True)\n",
      "            (2): ReLU()\n",
      "            (3): Dropout(p=0.2, inplace=False)\n",
      "          )\n",
      "        )\n",
      "        (1): Conv1D_BatchNorm_Relu_Dropout(\n",
      "          (block): Sequential(\n",
      "            (0): Conv1d(128, 128, kernel_size=(5,), stride=(1,), padding=(2,))\n",
      "            (1): BatchNorm1d(128, eps=1e-05, momentum=0.1, affine=True, track_running_stats=True)\n",
      "            (2): ReLU()\n",
      "            (3): Dropout(p=0.2, inplace=False)\n",
      "          )\n",
      "        )\n",
      "        (2): Conv1D_BatchNorm_Relu_Dropout(\n",
      "          (block): Sequential(\n",
      "            (0): Conv1d(128, 128, kernel_size=(5,), stride=(1,), padding=(2,))\n",
      "            (1): BatchNorm1d(128, eps=1e-05, momentum=0.1, affine=True, track_running_stats=True)\n",
      "            (2): ReLU()\n",
      "            (3): Dropout(p=0.2, inplace=False)\n",
      "          )\n",
      "        )\n",
      "      )\n",
      "      (dense): FC_BatchNorm_Relu_Dropout(\n",
      "        (block): Sequential(\n",
      "          (0): Linear(in_features=1536, out_features=512, bias=True)\n",
      "          (1): BatchNorm1d(512, eps=1e-05, momentum=0.1, affine=True, track_running_stats=True)\n",
      "          (2): ReLU()\n",
      "          (3): Dropout(p=0.2, inplace=False)\n",
      "        )\n",
      "      )\n",
      "    )\n",
      "    (linear_layer): Linear(in_features=512, out_features=128, bias=True)\n",
      "    (norm_layer): Identity()\n",
      "    (tempdrop_layer): TemporalDropout(\n",
      "      (tempdrop): Dropout1d(p=0.3, inplace=False)\n",
      "    )\n",
      "  )\n",
      "  (1): Generic_Decoder(\n",
      "    (pre_decoder): MLP(\n",
      "      (layers): Sequential(\n",
      "        (0): Sequential(\n",
      "          (0): Linear(in_features=128, out_features=128, bias=True)\n",
      "          (1): ReLU()\n",
      "          (2): BatchNorm1d(128, eps=1e-05, momentum=0.1, affine=True, track_running_stats=True)\n",
      "          (3): Dropout(p=0.2, inplace=False)\n",
      "        )\n",
      "      )\n",
      "    )\n",
      "    (linear_layer): Linear(in_features=128, out_features=10, bias=True)\n",
      "  )\n",
      ")\n",
      "\"view_names\":         ['S1', 'weather', 'DEM', 'S2_S2VI']\n",
      "Epoch 0: 100%|██████████| 155/155 [00:02<00:00, 67.73it/s, v_num=2, train_objective=0.987]"
     ]
    },
    {
     "name": "stderr",
     "output_type": "stream",
     "text": [
      "Metric val_objective improved. New best score: 1.072\n"
     ]
    },
    {
     "name": "stdout",
     "output_type": "stream",
     "text": [
      "Epoch 1: 100%|██████████| 155/155 [00:02<00:00, 61.18it/s, v_num=2, train_objective=1.030]"
     ]
    },
    {
     "name": "stderr",
     "output_type": "stream",
     "text": [
      "Metric val_objective improved by 0.031 >= min_delta = 0.01. New best score: 1.041\n"
     ]
    },
    {
     "name": "stdout",
     "output_type": "stream",
     "text": [
      "Epoch 2: 100%|██████████| 155/155 [00:02<00:00, 59.56it/s, v_num=2, train_objective=0.908]"
     ]
    },
    {
     "name": "stderr",
     "output_type": "stream",
     "text": [
      "Metric val_objective improved by 0.092 >= min_delta = 0.01. New best score: 0.949\n",
      "`Trainer.fit` stopped: `max_epochs=3` reached.\n"
     ]
    },
    {
     "name": "stdout",
     "output_type": "stream",
     "text": [
      "Epoch 2: 100%|██████████| 155/155 [00:02<00:00, 58.65it/s, v_num=2, train_objective=0.908]\n",
      "Training done\n",
      "Inference with the following views  ['S2_S2VI']  and percentage missing  1.0\n",
      "Fold 3/3 of Run 1/1 in Input-Forw_S2_S2VI finished...\n",
      "Inference with the following views  ['S2_S2VI', 'S1']  and percentage missing  1.0\n",
      "Fold 3/3 of Run 1/1 in Input-Forw_S2_S2VI_S1 finished...\n",
      "Inference with the following views  ['S1', 'weather', 'DEM']  and percentage missing  1.0\n",
      "Fold 3/3 of Run 1/1 in Input-Forw_S1_weather_DEM finished...\n",
      "Fold 3/3 of Run 1/1 in Input finished...\n",
      "Epochs for Input runs on average for 0.00 epochs +- 0.000\n",
      "Finished whole execution of 1 runs in 46.97 secs\n",
      "Normalize views\n",
      "******************************** Executing model on run 1 and kfold 1\n",
      "You select 5 views from the 8 available, you could use get_view_names() to check which are available, the selected views are ['S1', 'weather', 'DEM', 'S2', 'S2VI'], with additional views ['S2_S2VI']\n",
      "first dimension of list will be the views, instead of the standard of n-samples\n"
     ]
    },
    {
     "name": "stderr",
     "output_type": "stream",
     "text": [
      "100%|██████████| 29642/29642 [00:00<00:00, 272235.62it/s]\n"
     ]
    },
    {
     "name": "stdout",
     "output_type": "stream",
     "text": [
      "You select 5 views from the 8 available, you could use get_view_names() to check which are available, the selected views are ['S1', 'weather', 'DEM', 'S2', 'S2VI'], with additional views ['S2_S2VI']\n",
      "first dimension of list will be the views, instead of the standard of n-samples\n"
     ]
    },
    {
     "name": "stderr",
     "output_type": "stream",
     "text": [
      "100%|██████████| 29642/29642 [00:00<00:00, 504709.27it/s]\n",
      "/home/mena/miniconda3/envs/views2/lib/python3.8/site-packages/pytorch_lightning/utilities/parsing.py:197: UserWarning: Attribute 'predictive_model' is an instance of `nn.Module` and is already saved during checkpointing. It is recommended to ignore them using `self.save_hyperparameters(ignore=['predictive_model'])`.\n",
      "  rank_zero_warn(\n",
      "/home/mena/Documents/repos/com-views/src/datasets/views_loader.py:8: RuntimeWarning: divide by zero encountered in remainder\n",
      "  if v % int(v) == 0:\n",
      "GPU available: True (cuda), used: True\n",
      "TPU available: False, using: 0 TPU cores\n",
      "IPU available: False, using: 0 IPUs\n",
      "HPU available: False, using: 0 HPUs\n",
      "You are using a CUDA device ('NVIDIA GeForce RTX 3080 Laptop GPU') that has Tensor Cores. To properly utilize them, you should set `torch.set_float32_matmul_precision('medium' | 'high')` which will trade-off precision for performance. For more details, read https://pytorch.org/docs/stable/generated/torch.set_float32_matmul_precision.html#torch.set_float32_matmul_precision\n",
      "LOCAL_RANK: 0 - CUDA_VISIBLE_DEVICES: [0]\n",
      "\n",
      "  | Name            | Type                | Params\n",
      "--------------------------------------------------------\n",
      "0 | views_encoder   | ModuleDict          | 0     \n",
      "1 | fusion_module   | FusionModuleMissing | 0     \n",
      "2 | prediction_head | Sequential          | 1.0 M \n",
      "3 | criteria        | CrossEntropyLoss    | 0     \n",
      "--------------------------------------------------------\n",
      "1.0 M     Trainable params\n",
      "0         Non-trainable params\n",
      "1.0 M     Total params\n",
      "4.193     Total estimated model params size (MB)\n"
     ]
    },
    {
     "name": "stdout",
     "output_type": "stream",
     "text": [
      "Training with 19761 samples and validating on 9881\n",
      "Initial parameters of model: \"input_dim_to_stack\": [2, 2, 2, 12]\n",
      "\"loss_args\":          {'name': 'ce', 'weight': tensor([0.4331, 3.4307, 0.3464, 2.3982, 0.9846, 7.8107, 2.6418, 1.1638, 7.2385,\n",
      "        0.6344])}\n",
      "\"predictive_model\":   Sequential(\n",
      "  (0): Generic_Encoder(\n",
      "    (pre_encoder): TempCNN(\n",
      "      (conv_layers): Sequential(\n",
      "        (0): Conv1D_BatchNorm_Relu_Dropout(\n",
      "          (block): Sequential(\n",
      "            (0): Conv1d(18, 128, kernel_size=(5,), stride=(1,), padding=(2,))\n",
      "            (1): BatchNorm1d(128, eps=1e-05, momentum=0.1, affine=True, track_running_stats=True)\n",
      "            (2): ReLU()\n",
      "            (3): Dropout(p=0.2, inplace=False)\n",
      "          )\n",
      "        )\n",
      "        (1): Conv1D_BatchNorm_Relu_Dropout(\n",
      "          (block): Sequential(\n",
      "            (0): Conv1d(128, 128, kernel_size=(5,), stride=(1,), padding=(2,))\n",
      "            (1): BatchNorm1d(128, eps=1e-05, momentum=0.1, affine=True, track_running_stats=True)\n",
      "            (2): ReLU()\n",
      "            (3): Dropout(p=0.2, inplace=False)\n",
      "          )\n",
      "        )\n",
      "        (2): Conv1D_BatchNorm_Relu_Dropout(\n",
      "          (block): Sequential(\n",
      "            (0): Conv1d(128, 128, kernel_size=(5,), stride=(1,), padding=(2,))\n",
      "            (1): BatchNorm1d(128, eps=1e-05, momentum=0.1, affine=True, track_running_stats=True)\n",
      "            (2): ReLU()\n",
      "            (3): Dropout(p=0.2, inplace=False)\n",
      "          )\n",
      "        )\n",
      "      )\n",
      "      (dense): FC_BatchNorm_Relu_Dropout(\n",
      "        (block): Sequential(\n",
      "          (0): Linear(in_features=1536, out_features=512, bias=True)\n",
      "          (1): BatchNorm1d(512, eps=1e-05, momentum=0.1, affine=True, track_running_stats=True)\n",
      "          (2): ReLU()\n",
      "          (3): Dropout(p=0.2, inplace=False)\n",
      "        )\n",
      "      )\n",
      "    )\n",
      "    (linear_layer): Linear(in_features=512, out_features=128, bias=True)\n",
      "    (norm_layer): Identity()\n",
      "    (tempdrop_layer): Identity()\n",
      "  )\n",
      "  (1): Generic_Decoder(\n",
      "    (pre_decoder): MLP(\n",
      "      (layers): Sequential(\n",
      "        (0): Sequential(\n",
      "          (0): Linear(in_features=128, out_features=128, bias=True)\n",
      "          (1): ReLU()\n",
      "          (2): BatchNorm1d(128, eps=1e-05, momentum=0.1, affine=True, track_running_stats=True)\n",
      "          (3): Dropout(p=0.2, inplace=False)\n",
      "        )\n",
      "      )\n",
      "    )\n",
      "    (linear_layer): Linear(in_features=128, out_features=10, bias=True)\n",
      "  )\n",
      ")\n",
      "\"view_names\":         ['S1', 'weather', 'DEM', 'S2_S2VI']\n",
      "The missing as augmentation was set on with an augmentation of  15 and following missing_method = {'name': 'impute', 'where': 'input', 'value_fill': 0.0}\n",
      "Epoch 0: 100%|██████████| 155/155 [00:02<00:00, 62.96it/s, v_num=3, train_objective=1.810]"
     ]
    },
    {
     "name": "stderr",
     "output_type": "stream",
     "text": [
      "Metric val_objective improved. New best score: 1.213\n"
     ]
    },
    {
     "name": "stdout",
     "output_type": "stream",
     "text": [
      "Epoch 1: 100%|██████████| 155/155 [00:02<00:00, 58.67it/s, v_num=3, train_objective=1.220]"
     ]
    },
    {
     "name": "stderr",
     "output_type": "stream",
     "text": [
      "Metric val_objective improved by 0.112 >= min_delta = 0.01. New best score: 1.100\n"
     ]
    },
    {
     "name": "stdout",
     "output_type": "stream",
     "text": [
      "Epoch 2: 100%|██████████| 155/155 [00:02<00:00, 62.98it/s, v_num=3, train_objective=1.630]"
     ]
    },
    {
     "name": "stderr",
     "output_type": "stream",
     "text": [
      "`Trainer.fit` stopped: `max_epochs=3` reached.\n"
     ]
    },
    {
     "name": "stdout",
     "output_type": "stream",
     "text": [
      "Epoch 2: 100%|██████████| 155/155 [00:02<00:00, 62.93it/s, v_num=3, train_objective=1.630]\n",
      "Training done\n",
      "Inference with the following views  ['S2_S2VI']  and percentage missing  1.0\n",
      "Fold 1/3 of Run 1/1 in Input-SD-Forw_S2_S2VI finished...\n",
      "Inference with the following views  ['S2_S2VI', 'S1']  and percentage missing  1.0\n",
      "Fold 1/3 of Run 1/1 in Input-SD-Forw_S2_S2VI_S1 finished...\n",
      "Inference with the following views  ['S1', 'weather', 'DEM']  and percentage missing  1.0\n",
      "Fold 1/3 of Run 1/1 in Input-SD-Forw_S1_weather_DEM finished...\n",
      "Fold 1/3 of Run 1/1 in Input-SD finished...\n",
      "******************************** Executing model on run 1 and kfold 2\n",
      "You select 5 views from the 8 available, you could use get_view_names() to check which are available, the selected views are ['S1', 'weather', 'DEM', 'S2', 'S2VI'], with additional views ['S2_S2VI']\n",
      "first dimension of list will be the views, instead of the standard of n-samples\n"
     ]
    },
    {
     "name": "stderr",
     "output_type": "stream",
     "text": [
      "100%|██████████| 29642/29642 [00:00<00:00, 273323.67it/s]\n"
     ]
    },
    {
     "name": "stdout",
     "output_type": "stream",
     "text": [
      "You select 5 views from the 8 available, you could use get_view_names() to check which are available, the selected views are ['S1', 'weather', 'DEM', 'S2', 'S2VI'], with additional views ['S2_S2VI']\n",
      "first dimension of list will be the views, instead of the standard of n-samples\n"
     ]
    },
    {
     "name": "stderr",
     "output_type": "stream",
     "text": [
      "100%|██████████| 29642/29642 [00:00<00:00, 503046.98it/s]\n",
      "/home/mena/miniconda3/envs/views2/lib/python3.8/site-packages/pytorch_lightning/utilities/parsing.py:197: UserWarning: Attribute 'predictive_model' is an instance of `nn.Module` and is already saved during checkpointing. It is recommended to ignore them using `self.save_hyperparameters(ignore=['predictive_model'])`.\n",
      "  rank_zero_warn(\n",
      "/home/mena/Documents/repos/com-views/src/datasets/views_loader.py:8: RuntimeWarning: divide by zero encountered in remainder\n",
      "  if v % int(v) == 0:\n",
      "GPU available: True (cuda), used: True\n",
      "TPU available: False, using: 0 TPU cores\n",
      "IPU available: False, using: 0 IPUs\n",
      "HPU available: False, using: 0 HPUs\n",
      "You are using a CUDA device ('NVIDIA GeForce RTX 3080 Laptop GPU') that has Tensor Cores. To properly utilize them, you should set `torch.set_float32_matmul_precision('medium' | 'high')` which will trade-off precision for performance. For more details, read https://pytorch.org/docs/stable/generated/torch.set_float32_matmul_precision.html#torch.set_float32_matmul_precision\n",
      "/home/mena/miniconda3/envs/views2/lib/python3.8/site-packages/pytorch_lightning/callbacks/model_checkpoint.py:612: UserWarning: Checkpoint directory /home/mena/Documents/repos/com-views/config_time/aux/run-saves/checkpoint_logs/cropharvest_multi_train/Input-SD exists and is not empty.\n",
      "  rank_zero_warn(f\"Checkpoint directory {dirpath} exists and is not empty.\")\n",
      "LOCAL_RANK: 0 - CUDA_VISIBLE_DEVICES: [0]\n",
      "\n",
      "  | Name            | Type                | Params\n",
      "--------------------------------------------------------\n",
      "0 | views_encoder   | ModuleDict          | 0     \n",
      "1 | fusion_module   | FusionModuleMissing | 0     \n",
      "2 | prediction_head | Sequential          | 1.0 M \n",
      "3 | criteria        | CrossEntropyLoss    | 0     \n",
      "--------------------------------------------------------\n",
      "1.0 M     Trainable params\n",
      "0         Non-trainable params\n",
      "1.0 M     Total params\n",
      "4.193     Total estimated model params size (MB)\n"
     ]
    },
    {
     "name": "stdout",
     "output_type": "stream",
     "text": [
      "Training with 19761 samples and validating on 9881\n",
      "Initial parameters of model: \"input_dim_to_stack\": [2, 2, 2, 12]\n",
      "\"loss_args\":          {'name': 'ce', 'weight': tensor([0.4326, 3.4729, 0.3509, 2.3723, 0.9696, 7.2651, 2.7033, 1.2027, 6.7907,\n",
      "        0.6204])}\n",
      "\"predictive_model\":   Sequential(\n",
      "  (0): Generic_Encoder(\n",
      "    (pre_encoder): TempCNN(\n",
      "      (conv_layers): Sequential(\n",
      "        (0): Conv1D_BatchNorm_Relu_Dropout(\n",
      "          (block): Sequential(\n",
      "            (0): Conv1d(18, 128, kernel_size=(5,), stride=(1,), padding=(2,))\n",
      "            (1): BatchNorm1d(128, eps=1e-05, momentum=0.1, affine=True, track_running_stats=True)\n",
      "            (2): ReLU()\n",
      "            (3): Dropout(p=0.2, inplace=False)\n",
      "          )\n",
      "        )\n",
      "        (1): Conv1D_BatchNorm_Relu_Dropout(\n",
      "          (block): Sequential(\n",
      "            (0): Conv1d(128, 128, kernel_size=(5,), stride=(1,), padding=(2,))\n",
      "            (1): BatchNorm1d(128, eps=1e-05, momentum=0.1, affine=True, track_running_stats=True)\n",
      "            (2): ReLU()\n",
      "            (3): Dropout(p=0.2, inplace=False)\n",
      "          )\n",
      "        )\n",
      "        (2): Conv1D_BatchNorm_Relu_Dropout(\n",
      "          (block): Sequential(\n",
      "            (0): Conv1d(128, 128, kernel_size=(5,), stride=(1,), padding=(2,))\n",
      "            (1): BatchNorm1d(128, eps=1e-05, momentum=0.1, affine=True, track_running_stats=True)\n",
      "            (2): ReLU()\n",
      "            (3): Dropout(p=0.2, inplace=False)\n",
      "          )\n",
      "        )\n",
      "      )\n",
      "      (dense): FC_BatchNorm_Relu_Dropout(\n",
      "        (block): Sequential(\n",
      "          (0): Linear(in_features=1536, out_features=512, bias=True)\n",
      "          (1): BatchNorm1d(512, eps=1e-05, momentum=0.1, affine=True, track_running_stats=True)\n",
      "          (2): ReLU()\n",
      "          (3): Dropout(p=0.2, inplace=False)\n",
      "        )\n",
      "      )\n",
      "    )\n",
      "    (linear_layer): Linear(in_features=512, out_features=128, bias=True)\n",
      "    (norm_layer): Identity()\n",
      "    (tempdrop_layer): Identity()\n",
      "  )\n",
      "  (1): Generic_Decoder(\n",
      "    (pre_decoder): MLP(\n",
      "      (layers): Sequential(\n",
      "        (0): Sequential(\n",
      "          (0): Linear(in_features=128, out_features=128, bias=True)\n",
      "          (1): ReLU()\n",
      "          (2): BatchNorm1d(128, eps=1e-05, momentum=0.1, affine=True, track_running_stats=True)\n",
      "          (3): Dropout(p=0.2, inplace=False)\n",
      "        )\n",
      "      )\n",
      "    )\n",
      "    (linear_layer): Linear(in_features=128, out_features=10, bias=True)\n",
      "  )\n",
      ")\n",
      "\"view_names\":         ['S1', 'weather', 'DEM', 'S2_S2VI']\n",
      "The missing as augmentation was set on with an augmentation of  15 and following missing_method = {'name': 'impute', 'where': 'input', 'value_fill': 0.0}\n",
      "Epoch 0: 100%|██████████| 155/155 [00:02<00:00, 59.02it/s, v_num=4, train_objective=1.520]"
     ]
    },
    {
     "name": "stderr",
     "output_type": "stream",
     "text": [
      "Metric val_objective improved. New best score: 1.350\n"
     ]
    },
    {
     "name": "stdout",
     "output_type": "stream",
     "text": [
      "Epoch 2: 100%|██████████| 155/155 [00:02<00:00, 62.92it/s, v_num=4, train_objective=1.840]"
     ]
    },
    {
     "name": "stderr",
     "output_type": "stream",
     "text": [
      "Metric val_objective improved by 0.332 >= min_delta = 0.01. New best score: 1.018\n",
      "`Trainer.fit` stopped: `max_epochs=3` reached.\n"
     ]
    },
    {
     "name": "stdout",
     "output_type": "stream",
     "text": [
      "Epoch 2: 100%|██████████| 155/155 [00:02<00:00, 61.92it/s, v_num=4, train_objective=1.840]\n",
      "Training done\n",
      "Inference with the following views  ['S2_S2VI']  and percentage missing  1.0\n",
      "Fold 2/3 of Run 1/1 in Input-SD-Forw_S2_S2VI finished...\n",
      "Inference with the following views  ['S2_S2VI', 'S1']  and percentage missing  1.0\n",
      "Fold 2/3 of Run 1/1 in Input-SD-Forw_S2_S2VI_S1 finished...\n",
      "Inference with the following views  ['S1', 'weather', 'DEM']  and percentage missing  1.0\n",
      "Fold 2/3 of Run 1/1 in Input-SD-Forw_S1_weather_DEM finished...\n",
      "Fold 2/3 of Run 1/1 in Input-SD finished...\n",
      "******************************** Executing model on run 1 and kfold 3\n",
      "You select 5 views from the 8 available, you could use get_view_names() to check which are available, the selected views are ['S1', 'weather', 'DEM', 'S2', 'S2VI'], with additional views ['S2_S2VI']\n",
      "first dimension of list will be the views, instead of the standard of n-samples\n"
     ]
    },
    {
     "name": "stderr",
     "output_type": "stream",
     "text": [
      "100%|██████████| 29642/29642 [00:00<00:00, 266542.81it/s]\n"
     ]
    },
    {
     "name": "stdout",
     "output_type": "stream",
     "text": [
      "You select 5 views from the 8 available, you could use get_view_names() to check which are available, the selected views are ['S1', 'weather', 'DEM', 'S2', 'S2VI'], with additional views ['S2_S2VI']\n",
      "first dimension of list will be the views, instead of the standard of n-samples\n"
     ]
    },
    {
     "name": "stderr",
     "output_type": "stream",
     "text": [
      "100%|██████████| 29642/29642 [00:00<00:00, 501011.71it/s]\n",
      "/home/mena/miniconda3/envs/views2/lib/python3.8/site-packages/pytorch_lightning/utilities/parsing.py:197: UserWarning: Attribute 'predictive_model' is an instance of `nn.Module` and is already saved during checkpointing. It is recommended to ignore them using `self.save_hyperparameters(ignore=['predictive_model'])`.\n",
      "  rank_zero_warn(\n",
      "/home/mena/Documents/repos/com-views/src/datasets/views_loader.py:8: RuntimeWarning: divide by zero encountered in remainder\n",
      "  if v % int(v) == 0:\n",
      "GPU available: True (cuda), used: True\n",
      "TPU available: False, using: 0 TPU cores\n",
      "IPU available: False, using: 0 IPUs\n",
      "HPU available: False, using: 0 HPUs\n",
      "You are using a CUDA device ('NVIDIA GeForce RTX 3080 Laptop GPU') that has Tensor Cores. To properly utilize them, you should set `torch.set_float32_matmul_precision('medium' | 'high')` which will trade-off precision for performance. For more details, read https://pytorch.org/docs/stable/generated/torch.set_float32_matmul_precision.html#torch.set_float32_matmul_precision\n",
      "/home/mena/miniconda3/envs/views2/lib/python3.8/site-packages/pytorch_lightning/callbacks/model_checkpoint.py:612: UserWarning: Checkpoint directory /home/mena/Documents/repos/com-views/config_time/aux/run-saves/checkpoint_logs/cropharvest_multi_train/Input-SD exists and is not empty.\n",
      "  rank_zero_warn(f\"Checkpoint directory {dirpath} exists and is not empty.\")\n",
      "LOCAL_RANK: 0 - CUDA_VISIBLE_DEVICES: [0]\n",
      "\n",
      "  | Name            | Type                | Params\n",
      "--------------------------------------------------------\n",
      "0 | views_encoder   | ModuleDict          | 0     \n",
      "1 | fusion_module   | FusionModuleMissing | 0     \n",
      "2 | prediction_head | Sequential          | 1.0 M \n",
      "3 | criteria        | CrossEntropyLoss    | 0     \n",
      "--------------------------------------------------------\n",
      "1.0 M     Trainable params\n",
      "0         Non-trainable params\n",
      "1.0 M     Total params\n",
      "4.193     Total estimated model params size (MB)\n"
     ]
    },
    {
     "name": "stdout",
     "output_type": "stream",
     "text": [
      "Training with 19762 samples and validating on 9880\n",
      "Initial parameters of model: \"input_dim_to_stack\": [2, 2, 2, 12]\n",
      "\"loss_args\":          {'name': 'ce', 'weight': tensor([0.4402, 3.3666, 0.3497, 2.2741, 0.9635, 6.8381, 2.7333, 1.1941, 7.3739,\n",
      "        0.6214])}\n",
      "\"predictive_model\":   Sequential(\n",
      "  (0): Generic_Encoder(\n",
      "    (pre_encoder): TempCNN(\n",
      "      (conv_layers): Sequential(\n",
      "        (0): Conv1D_BatchNorm_Relu_Dropout(\n",
      "          (block): Sequential(\n",
      "            (0): Conv1d(18, 128, kernel_size=(5,), stride=(1,), padding=(2,))\n",
      "            (1): BatchNorm1d(128, eps=1e-05, momentum=0.1, affine=True, track_running_stats=True)\n",
      "            (2): ReLU()\n",
      "            (3): Dropout(p=0.2, inplace=False)\n",
      "          )\n",
      "        )\n",
      "        (1): Conv1D_BatchNorm_Relu_Dropout(\n",
      "          (block): Sequential(\n",
      "            (0): Conv1d(128, 128, kernel_size=(5,), stride=(1,), padding=(2,))\n",
      "            (1): BatchNorm1d(128, eps=1e-05, momentum=0.1, affine=True, track_running_stats=True)\n",
      "            (2): ReLU()\n",
      "            (3): Dropout(p=0.2, inplace=False)\n",
      "          )\n",
      "        )\n",
      "        (2): Conv1D_BatchNorm_Relu_Dropout(\n",
      "          (block): Sequential(\n",
      "            (0): Conv1d(128, 128, kernel_size=(5,), stride=(1,), padding=(2,))\n",
      "            (1): BatchNorm1d(128, eps=1e-05, momentum=0.1, affine=True, track_running_stats=True)\n",
      "            (2): ReLU()\n",
      "            (3): Dropout(p=0.2, inplace=False)\n",
      "          )\n",
      "        )\n",
      "      )\n",
      "      (dense): FC_BatchNorm_Relu_Dropout(\n",
      "        (block): Sequential(\n",
      "          (0): Linear(in_features=1536, out_features=512, bias=True)\n",
      "          (1): BatchNorm1d(512, eps=1e-05, momentum=0.1, affine=True, track_running_stats=True)\n",
      "          (2): ReLU()\n",
      "          (3): Dropout(p=0.2, inplace=False)\n",
      "        )\n",
      "      )\n",
      "    )\n",
      "    (linear_layer): Linear(in_features=512, out_features=128, bias=True)\n",
      "    (norm_layer): Identity()\n",
      "    (tempdrop_layer): Identity()\n",
      "  )\n",
      "  (1): Generic_Decoder(\n",
      "    (pre_decoder): MLP(\n",
      "      (layers): Sequential(\n",
      "        (0): Sequential(\n",
      "          (0): Linear(in_features=128, out_features=128, bias=True)\n",
      "          (1): ReLU()\n",
      "          (2): BatchNorm1d(128, eps=1e-05, momentum=0.1, affine=True, track_running_stats=True)\n",
      "          (3): Dropout(p=0.2, inplace=False)\n",
      "        )\n",
      "      )\n",
      "    )\n",
      "    (linear_layer): Linear(in_features=128, out_features=10, bias=True)\n",
      "  )\n",
      ")\n",
      "\"view_names\":         ['S1', 'weather', 'DEM', 'S2_S2VI']\n",
      "The missing as augmentation was set on with an augmentation of  15 and following missing_method = {'name': 'impute', 'where': 'input', 'value_fill': 0.0}\n",
      "Epoch 0: 100%|██████████| 155/155 [00:02<00:00, 62.97it/s, v_num=5, train_objective=1.740]"
     ]
    },
    {
     "name": "stderr",
     "output_type": "stream",
     "text": [
      "Metric val_objective improved. New best score: 1.181\n"
     ]
    },
    {
     "name": "stdout",
     "output_type": "stream",
     "text": [
      "Epoch 2: 100%|██████████| 155/155 [00:02<00:00, 62.69it/s, v_num=5, train_objective=1.560]"
     ]
    },
    {
     "name": "stderr",
     "output_type": "stream",
     "text": [
      "Metric val_objective improved by 0.174 >= min_delta = 0.01. New best score: 1.007\n",
      "`Trainer.fit` stopped: `max_epochs=3` reached.\n"
     ]
    },
    {
     "name": "stdout",
     "output_type": "stream",
     "text": [
      "Epoch 2: 100%|██████████| 155/155 [00:02<00:00, 61.42it/s, v_num=5, train_objective=1.560]\n",
      "Training done\n",
      "Inference with the following views  ['S2_S2VI']  and percentage missing  1.0\n",
      "Fold 3/3 of Run 1/1 in Input-SD-Forw_S2_S2VI finished...\n",
      "Inference with the following views  ['S2_S2VI', 'S1']  and percentage missing  1.0\n",
      "Fold 3/3 of Run 1/1 in Input-SD-Forw_S2_S2VI_S1 finished...\n",
      "Inference with the following views  ['S1', 'weather', 'DEM']  and percentage missing  1.0\n",
      "Fold 3/3 of Run 1/1 in Input-SD-Forw_S1_weather_DEM finished...\n",
      "Fold 3/3 of Run 1/1 in Input-SD finished...\n",
      "Epochs for Input-SD runs on average for 0.00 epochs +- 0.000\n",
      "Finished whole execution of 1 runs in 46.78 secs\n",
      "Normalize views\n",
      "******************************** Executing model on run 1 and kfold 1\n",
      "You select 5 views from the 8 available, you could use get_view_names() to check which are available, the selected views are ['S1', 'weather', 'DEM', 'S2', 'S2VI'], with additional views ['S2_S2VI']\n",
      "first dimension of list will be the views, instead of the standard of n-samples\n"
     ]
    },
    {
     "name": "stderr",
     "output_type": "stream",
     "text": [
      "100%|██████████| 29642/29642 [00:00<00:00, 258765.07it/s]\n"
     ]
    },
    {
     "name": "stdout",
     "output_type": "stream",
     "text": [
      "You select 5 views from the 8 available, you could use get_view_names() to check which are available, the selected views are ['S1', 'weather', 'DEM', 'S2', 'S2VI'], with additional views ['S2_S2VI']\n",
      "first dimension of list will be the views, instead of the standard of n-samples\n"
     ]
    },
    {
     "name": "stderr",
     "output_type": "stream",
     "text": [
      "100%|██████████| 29642/29642 [00:00<00:00, 463103.56it/s]\n",
      "/home/mena/miniconda3/envs/views2/lib/python3.8/site-packages/pytorch_lightning/utilities/parsing.py:197: UserWarning: Attribute 'predictive_model' is an instance of `nn.Module` and is already saved during checkpointing. It is recommended to ignore them using `self.save_hyperparameters(ignore=['predictive_model'])`.\n",
      "  rank_zero_warn(\n",
      "/home/mena/Documents/repos/com-views/src/datasets/views_loader.py:8: RuntimeWarning: divide by zero encountered in remainder\n",
      "  if v % int(v) == 0:\n",
      "GPU available: True (cuda), used: True\n",
      "TPU available: False, using: 0 TPU cores\n",
      "IPU available: False, using: 0 IPUs\n",
      "HPU available: False, using: 0 HPUs\n",
      "You are using a CUDA device ('NVIDIA GeForce RTX 3080 Laptop GPU') that has Tensor Cores. To properly utilize them, you should set `torch.set_float32_matmul_precision('medium' | 'high')` which will trade-off precision for performance. For more details, read https://pytorch.org/docs/stable/generated/torch.set_float32_matmul_precision.html#torch.set_float32_matmul_precision\n",
      "LOCAL_RANK: 0 - CUDA_VISIBLE_DEVICES: [0]\n",
      "\n",
      "  | Name            | Type                | Params\n",
      "--------------------------------------------------------\n",
      "0 | views_encoder   | ModuleDict          | 3.1 M \n",
      "1 | fusion_module   | FusionModuleMissing | 99.7 K\n",
      "2 | prediction_head | Generic_Decoder     | 18.1 K\n",
      "3 | criteria        | CrossEntropyLoss    | 0     \n",
      "--------------------------------------------------------\n",
      "3.2 M     Trainable params\n",
      "0         Non-trainable params\n",
      "3.2 M     Total params\n",
      "12.807    Total estimated model params size (MB)\n"
     ]
    },
    {
     "name": "stdout",
     "output_type": "stream",
     "text": [
      "Training with 19761 samples and validating on 9881\n",
      "Initial parameters of model: \"loss_args\":        {'name': 'ce', 'weight': tensor([0.4331, 3.4307, 0.3464, 2.3982, 0.9846, 7.8107, 2.6418, 1.1638, 7.2385,\n",
      "        0.6344])}\n",
      "\"predictive_model\": Generic_Decoder(\n",
      "  (pre_decoder): MLP(\n",
      "    (layers): Sequential(\n",
      "      (0): Sequential(\n",
      "        (0): Linear(in_features=128, out_features=128, bias=True)\n",
      "        (1): ReLU()\n",
      "        (2): BatchNorm1d(128, eps=1e-05, momentum=0.1, affine=True, track_running_stats=True)\n",
      "        (3): Dropout(p=0.2, inplace=False)\n",
      "      )\n",
      "    )\n",
      "  )\n",
      "  (linear_layer): Linear(in_features=128, out_features=10, bias=True)\n",
      ")\n",
      "\"view_names\":       ['S1', 'weather', 'DEM', 'S2_S2VI']\n",
      "The missing as augmentation was set on with an augmentation of  15 and following missing_method = {'name': 'ignore', 'where': '', 'value_fill': None}\n",
      "Epoch 0: 100%|██████████| 155/155 [00:02<00:00, 65.28it/s, v_num=6, train_objective=2.020]"
     ]
    },
    {
     "name": "stderr",
     "output_type": "stream",
     "text": [
      "Metric val_objective improved. New best score: 1.402\n"
     ]
    },
    {
     "name": "stdout",
     "output_type": "stream",
     "text": [
      "Epoch 1: 100%|██████████| 155/155 [00:02<00:00, 68.67it/s, v_num=6, train_objective=1.370]"
     ]
    },
    {
     "name": "stderr",
     "output_type": "stream",
     "text": [
      "Metric val_objective improved by 0.143 >= min_delta = 0.01. New best score: 1.259\n"
     ]
    },
    {
     "name": "stdout",
     "output_type": "stream",
     "text": [
      "Epoch 2: 100%|██████████| 155/155 [00:02<00:00, 67.61it/s, v_num=6, train_objective=1.270]"
     ]
    },
    {
     "name": "stderr",
     "output_type": "stream",
     "text": [
      "Metric val_objective improved by 0.129 >= min_delta = 0.01. New best score: 1.130\n",
      "`Trainer.fit` stopped: `max_epochs=3` reached.\n"
     ]
    },
    {
     "name": "stdout",
     "output_type": "stream",
     "text": [
      "Epoch 2: 100%|██████████| 155/155 [00:02<00:00, 64.64it/s, v_num=6, train_objective=1.270]\n",
      "Training done\n",
      "Inference with the following views  ['S2_S2VI']  and percentage missing  1.0\n",
      "Fold 1/3 of Run 1/1 in Feat_transformer-SD-ignore-Forw_S2_S2VI finished...\n",
      "Inference with the following views  ['S2_S2VI', 'S1']  and percentage missing  1.0\n",
      "Fold 1/3 of Run 1/1 in Feat_transformer-SD-ignore-Forw_S2_S2VI_S1 finished...\n",
      "Inference with the following views  ['S1', 'weather', 'DEM']  and percentage missing  1.0\n",
      "Fold 1/3 of Run 1/1 in Feat_transformer-SD-ignore-Forw_S1_weather_DEM finished...\n",
      "Fold 1/3 of Run 1/1 in Feat_transformer-SD-ignore finished...\n",
      "******************************** Executing model on run 1 and kfold 2\n",
      "You select 5 views from the 8 available, you could use get_view_names() to check which are available, the selected views are ['S1', 'weather', 'DEM', 'S2', 'S2VI'], with additional views ['S2_S2VI']\n",
      "first dimension of list will be the views, instead of the standard of n-samples\n"
     ]
    },
    {
     "name": "stderr",
     "output_type": "stream",
     "text": [
      "100%|██████████| 29642/29642 [00:00<00:00, 233742.80it/s]\n"
     ]
    },
    {
     "name": "stdout",
     "output_type": "stream",
     "text": [
      "You select 5 views from the 8 available, you could use get_view_names() to check which are available, the selected views are ['S1', 'weather', 'DEM', 'S2', 'S2VI'], with additional views ['S2_S2VI']\n",
      "first dimension of list will be the views, instead of the standard of n-samples\n"
     ]
    },
    {
     "name": "stderr",
     "output_type": "stream",
     "text": [
      "100%|██████████| 29642/29642 [00:00<00:00, 396787.97it/s]\n",
      "/home/mena/miniconda3/envs/views2/lib/python3.8/site-packages/pytorch_lightning/utilities/parsing.py:197: UserWarning: Attribute 'predictive_model' is an instance of `nn.Module` and is already saved during checkpointing. It is recommended to ignore them using `self.save_hyperparameters(ignore=['predictive_model'])`.\n",
      "  rank_zero_warn(\n",
      "/home/mena/Documents/repos/com-views/src/datasets/views_loader.py:8: RuntimeWarning: divide by zero encountered in remainder\n",
      "  if v % int(v) == 0:\n",
      "GPU available: True (cuda), used: True\n",
      "TPU available: False, using: 0 TPU cores\n",
      "IPU available: False, using: 0 IPUs\n",
      "HPU available: False, using: 0 HPUs\n",
      "You are using a CUDA device ('NVIDIA GeForce RTX 3080 Laptop GPU') that has Tensor Cores. To properly utilize them, you should set `torch.set_float32_matmul_precision('medium' | 'high')` which will trade-off precision for performance. For more details, read https://pytorch.org/docs/stable/generated/torch.set_float32_matmul_precision.html#torch.set_float32_matmul_precision\n",
      "/home/mena/miniconda3/envs/views2/lib/python3.8/site-packages/pytorch_lightning/callbacks/model_checkpoint.py:612: UserWarning: Checkpoint directory /home/mena/Documents/repos/com-views/config_time/aux/run-saves/checkpoint_logs/cropharvest_multi_train/Feat_transformer-SD-ignore exists and is not empty.\n",
      "  rank_zero_warn(f\"Checkpoint directory {dirpath} exists and is not empty.\")\n",
      "LOCAL_RANK: 0 - CUDA_VISIBLE_DEVICES: [0]\n",
      "\n",
      "  | Name            | Type                | Params\n",
      "--------------------------------------------------------\n",
      "0 | views_encoder   | ModuleDict          | 3.1 M \n",
      "1 | fusion_module   | FusionModuleMissing | 99.7 K\n",
      "2 | prediction_head | Generic_Decoder     | 18.1 K\n",
      "3 | criteria        | CrossEntropyLoss    | 0     \n",
      "--------------------------------------------------------\n",
      "3.2 M     Trainable params\n",
      "0         Non-trainable params\n",
      "3.2 M     Total params\n",
      "12.807    Total estimated model params size (MB)\n"
     ]
    },
    {
     "name": "stdout",
     "output_type": "stream",
     "text": [
      "Training with 19761 samples and validating on 9881\n",
      "Initial parameters of model: \"loss_args\":        {'name': 'ce', 'weight': tensor([0.4326, 3.4729, 0.3509, 2.3723, 0.9696, 7.2651, 2.7033, 1.2027, 6.7907,\n",
      "        0.6204])}\n",
      "\"predictive_model\": Generic_Decoder(\n",
      "  (pre_decoder): MLP(\n",
      "    (layers): Sequential(\n",
      "      (0): Sequential(\n",
      "        (0): Linear(in_features=128, out_features=128, bias=True)\n",
      "        (1): ReLU()\n",
      "        (2): BatchNorm1d(128, eps=1e-05, momentum=0.1, affine=True, track_running_stats=True)\n",
      "        (3): Dropout(p=0.2, inplace=False)\n",
      "      )\n",
      "    )\n",
      "  )\n",
      "  (linear_layer): Linear(in_features=128, out_features=10, bias=True)\n",
      ")\n",
      "\"view_names\":       ['S1', 'weather', 'DEM', 'S2_S2VI']\n",
      "The missing as augmentation was set on with an augmentation of  15 and following missing_method = {'name': 'ignore', 'where': '', 'value_fill': None}\n",
      "Epoch 0: 100%|██████████| 155/155 [00:02<00:00, 68.93it/s, v_num=7, train_objective=1.630]"
     ]
    },
    {
     "name": "stderr",
     "output_type": "stream",
     "text": [
      "Metric val_objective improved. New best score: 1.426\n"
     ]
    },
    {
     "name": "stdout",
     "output_type": "stream",
     "text": [
      "Epoch 1: 100%|██████████| 155/155 [00:02<00:00, 68.47it/s, v_num=7, train_objective=1.570]"
     ]
    },
    {
     "name": "stderr",
     "output_type": "stream",
     "text": [
      "Metric val_objective improved by 0.116 >= min_delta = 0.01. New best score: 1.310\n"
     ]
    },
    {
     "name": "stdout",
     "output_type": "stream",
     "text": [
      "Epoch 2: 100%|██████████| 155/155 [00:02<00:00, 69.25it/s, v_num=7, train_objective=1.740]"
     ]
    },
    {
     "name": "stderr",
     "output_type": "stream",
     "text": [
      "Metric val_objective improved by 0.129 >= min_delta = 0.01. New best score: 1.181\n",
      "`Trainer.fit` stopped: `max_epochs=3` reached.\n"
     ]
    },
    {
     "name": "stdout",
     "output_type": "stream",
     "text": [
      "Epoch 2: 100%|██████████| 155/155 [00:02<00:00, 66.37it/s, v_num=7, train_objective=1.740]\n",
      "Training done\n",
      "Inference with the following views  ['S2_S2VI']  and percentage missing  1.0\n",
      "Fold 2/3 of Run 1/1 in Feat_transformer-SD-ignore-Forw_S2_S2VI finished...\n",
      "Inference with the following views  ['S2_S2VI', 'S1']  and percentage missing  1.0\n",
      "Fold 2/3 of Run 1/1 in Feat_transformer-SD-ignore-Forw_S2_S2VI_S1 finished...\n",
      "Inference with the following views  ['S1', 'weather', 'DEM']  and percentage missing  1.0\n",
      "Fold 2/3 of Run 1/1 in Feat_transformer-SD-ignore-Forw_S1_weather_DEM finished...\n",
      "Fold 2/3 of Run 1/1 in Feat_transformer-SD-ignore finished...\n",
      "******************************** Executing model on run 1 and kfold 3\n",
      "You select 5 views from the 8 available, you could use get_view_names() to check which are available, the selected views are ['S1', 'weather', 'DEM', 'S2', 'S2VI'], with additional views ['S2_S2VI']\n",
      "first dimension of list will be the views, instead of the standard of n-samples\n"
     ]
    },
    {
     "name": "stderr",
     "output_type": "stream",
     "text": [
      "100%|██████████| 29642/29642 [00:00<00:00, 259038.41it/s]\n"
     ]
    },
    {
     "name": "stdout",
     "output_type": "stream",
     "text": [
      "You select 5 views from the 8 available, you could use get_view_names() to check which are available, the selected views are ['S1', 'weather', 'DEM', 'S2', 'S2VI'], with additional views ['S2_S2VI']\n",
      "first dimension of list will be the views, instead of the standard of n-samples\n"
     ]
    },
    {
     "name": "stderr",
     "output_type": "stream",
     "text": [
      "100%|██████████| 29642/29642 [00:00<00:00, 480201.61it/s]\n",
      "/home/mena/miniconda3/envs/views2/lib/python3.8/site-packages/pytorch_lightning/utilities/parsing.py:197: UserWarning: Attribute 'predictive_model' is an instance of `nn.Module` and is already saved during checkpointing. It is recommended to ignore them using `self.save_hyperparameters(ignore=['predictive_model'])`.\n",
      "  rank_zero_warn(\n",
      "/home/mena/Documents/repos/com-views/src/datasets/views_loader.py:8: RuntimeWarning: divide by zero encountered in remainder\n",
      "  if v % int(v) == 0:\n",
      "GPU available: True (cuda), used: True\n",
      "TPU available: False, using: 0 TPU cores\n",
      "IPU available: False, using: 0 IPUs\n",
      "HPU available: False, using: 0 HPUs\n",
      "You are using a CUDA device ('NVIDIA GeForce RTX 3080 Laptop GPU') that has Tensor Cores. To properly utilize them, you should set `torch.set_float32_matmul_precision('medium' | 'high')` which will trade-off precision for performance. For more details, read https://pytorch.org/docs/stable/generated/torch.set_float32_matmul_precision.html#torch.set_float32_matmul_precision\n",
      "/home/mena/miniconda3/envs/views2/lib/python3.8/site-packages/pytorch_lightning/callbacks/model_checkpoint.py:612: UserWarning: Checkpoint directory /home/mena/Documents/repos/com-views/config_time/aux/run-saves/checkpoint_logs/cropharvest_multi_train/Feat_transformer-SD-ignore exists and is not empty.\n",
      "  rank_zero_warn(f\"Checkpoint directory {dirpath} exists and is not empty.\")\n",
      "LOCAL_RANK: 0 - CUDA_VISIBLE_DEVICES: [0]\n",
      "\n",
      "  | Name            | Type                | Params\n",
      "--------------------------------------------------------\n",
      "0 | views_encoder   | ModuleDict          | 3.1 M \n",
      "1 | fusion_module   | FusionModuleMissing | 99.7 K\n",
      "2 | prediction_head | Generic_Decoder     | 18.1 K\n",
      "3 | criteria        | CrossEntropyLoss    | 0     \n",
      "--------------------------------------------------------\n",
      "3.2 M     Trainable params\n",
      "0         Non-trainable params\n",
      "3.2 M     Total params\n",
      "12.807    Total estimated model params size (MB)\n"
     ]
    },
    {
     "name": "stdout",
     "output_type": "stream",
     "text": [
      "Training with 19762 samples and validating on 9880\n",
      "Initial parameters of model: \"loss_args\":        {'name': 'ce', 'weight': tensor([0.4402, 3.3666, 0.3497, 2.2741, 0.9635, 6.8381, 2.7333, 1.1941, 7.3739,\n",
      "        0.6214])}\n",
      "\"predictive_model\": Generic_Decoder(\n",
      "  (pre_decoder): MLP(\n",
      "    (layers): Sequential(\n",
      "      (0): Sequential(\n",
      "        (0): Linear(in_features=128, out_features=128, bias=True)\n",
      "        (1): ReLU()\n",
      "        (2): BatchNorm1d(128, eps=1e-05, momentum=0.1, affine=True, track_running_stats=True)\n",
      "        (3): Dropout(p=0.2, inplace=False)\n",
      "      )\n",
      "    )\n",
      "  )\n",
      "  (linear_layer): Linear(in_features=128, out_features=10, bias=True)\n",
      ")\n",
      "\"view_names\":       ['S1', 'weather', 'DEM', 'S2_S2VI']\n",
      "The missing as augmentation was set on with an augmentation of  15 and following missing_method = {'name': 'ignore', 'where': '', 'value_fill': None}\n",
      "Epoch 0: 100%|██████████| 155/155 [00:02<00:00, 68.58it/s, v_num=8, train_objective=1.990]"
     ]
    },
    {
     "name": "stderr",
     "output_type": "stream",
     "text": [
      "Metric val_objective improved. New best score: 1.524\n"
     ]
    },
    {
     "name": "stdout",
     "output_type": "stream",
     "text": [
      "Epoch 1: 100%|██████████| 155/155 [00:02<00:00, 68.50it/s, v_num=8, train_objective=1.890]"
     ]
    },
    {
     "name": "stderr",
     "output_type": "stream",
     "text": [
      "Metric val_objective improved by 0.276 >= min_delta = 0.01. New best score: 1.248\n"
     ]
    },
    {
     "name": "stdout",
     "output_type": "stream",
     "text": [
      "Epoch 2: 100%|██████████| 155/155 [00:02<00:00, 66.09it/s, v_num=8, train_objective=1.310]"
     ]
    },
    {
     "name": "stderr",
     "output_type": "stream",
     "text": [
      "Metric val_objective improved by 0.071 >= min_delta = 0.01. New best score: 1.177\n",
      "`Trainer.fit` stopped: `max_epochs=3` reached.\n"
     ]
    },
    {
     "name": "stdout",
     "output_type": "stream",
     "text": [
      "Epoch 2: 100%|██████████| 155/155 [00:02<00:00, 63.49it/s, v_num=8, train_objective=1.310]\n",
      "Training done\n",
      "Inference with the following views  ['S2_S2VI']  and percentage missing  1.0\n",
      "Fold 3/3 of Run 1/1 in Feat_transformer-SD-ignore-Forw_S2_S2VI finished...\n",
      "Inference with the following views  ['S2_S2VI', 'S1']  and percentage missing  1.0\n",
      "Fold 3/3 of Run 1/1 in Feat_transformer-SD-ignore-Forw_S2_S2VI_S1 finished...\n",
      "Inference with the following views  ['S1', 'weather', 'DEM']  and percentage missing  1.0\n",
      "Fold 3/3 of Run 1/1 in Feat_transformer-SD-ignore-Forw_S1_weather_DEM finished...\n",
      "Fold 3/3 of Run 1/1 in Feat_transformer-SD-ignore finished...\n",
      "Epochs for Feat_transformer-SD-ignore runs on average for 0.00 epochs +- 0.000\n",
      "Finished whole execution of 1 runs in 30.16 secs\n",
      "Normalize views\n",
      "******************************** Executing model on run 1 and kfold 1\n",
      "You select 5 views from the 8 available, you could use get_view_names() to check which are available, the selected views are ['S1', 'weather', 'DEM', 'S2', 'S2VI'], with additional views ['S2_S2VI']\n",
      "first dimension of list will be the views, instead of the standard of n-samples\n"
     ]
    },
    {
     "name": "stderr",
     "output_type": "stream",
     "text": [
      "100%|██████████| 29642/29642 [00:00<00:00, 261507.70it/s]\n"
     ]
    },
    {
     "name": "stdout",
     "output_type": "stream",
     "text": [
      "You select 5 views from the 8 available, you could use get_view_names() to check which are available, the selected views are ['S1', 'weather', 'DEM', 'S2', 'S2VI'], with additional views ['S2_S2VI']\n",
      "first dimension of list will be the views, instead of the standard of n-samples\n"
     ]
    },
    {
     "name": "stderr",
     "output_type": "stream",
     "text": [
      "100%|██████████| 29642/29642 [00:00<00:00, 485548.31it/s]\n",
      "/home/mena/miniconda3/envs/views2/lib/python3.8/site-packages/pytorch_lightning/utilities/parsing.py:197: UserWarning: Attribute 'predictive_model' is an instance of `nn.Module` and is already saved during checkpointing. It is recommended to ignore them using `self.save_hyperparameters(ignore=['predictive_model'])`.\n",
      "  rank_zero_warn(\n",
      "/home/mena/Documents/repos/com-views/src/datasets/views_loader.py:8: RuntimeWarning: divide by zero encountered in remainder\n",
      "  if v % int(v) == 0:\n",
      "GPU available: True (cuda), used: True\n",
      "TPU available: False, using: 0 TPU cores\n",
      "IPU available: False, using: 0 IPUs\n",
      "HPU available: False, using: 0 HPUs\n",
      "You are using a CUDA device ('NVIDIA GeForce RTX 3080 Laptop GPU') that has Tensor Cores. To properly utilize them, you should set `torch.set_float32_matmul_precision('medium' | 'high')` which will trade-off precision for performance. For more details, read https://pytorch.org/docs/stable/generated/torch.set_float32_matmul_precision.html#torch.set_float32_matmul_precision\n",
      "LOCAL_RANK: 0 - CUDA_VISIBLE_DEVICES: [0]\n",
      "\n",
      "  | Name            | Type                | Params\n",
      "--------------------------------------------------------\n",
      "0 | views_encoder   | ModuleDict          | 3.1 M \n",
      "1 | fusion_module   | FusionModuleMissing | 0     \n",
      "2 | prediction_head | Generic_Decoder     | 67.2 K\n",
      "3 | criteria        | CrossEntropyLoss    | 0     \n",
      "--------------------------------------------------------\n",
      "3.2 M     Trainable params\n",
      "0         Non-trainable params\n",
      "3.2 M     Total params\n",
      "12.601    Total estimated model params size (MB)\n"
     ]
    },
    {
     "name": "stdout",
     "output_type": "stream",
     "text": [
      "Training with 19761 samples and validating on 9881\n",
      "Initial parameters of model: \"focus_full_view\":  True\n",
      "\"loss_args\":        {'name': 'ce', 'weight': tensor([0.4331, 3.4307, 0.3464, 2.3982, 0.9846, 7.8107, 2.6418, 1.1638, 7.2385,\n",
      "        0.6344])}\n",
      "\"predictive_model\": Generic_Decoder(\n",
      "  (pre_decoder): MLP(\n",
      "    (layers): Sequential(\n",
      "      (0): Sequential(\n",
      "        (0): Linear(in_features=512, out_features=128, bias=True)\n",
      "        (1): ReLU()\n",
      "        (2): BatchNorm1d(128, eps=1e-05, momentum=0.1, affine=True, track_running_stats=True)\n",
      "        (3): Dropout(p=0.2, inplace=False)\n",
      "      )\n",
      "    )\n",
      "  )\n",
      "  (linear_layer): Linear(in_features=128, out_features=10, bias=True)\n",
      ")\n",
      "\"view_names\":       ['S1', 'weather', 'DEM', 'S2_S2VI']\n",
      "The missing as augmentation was set on with an augmentation of  15 and following missing_method = {'name': 'impute', 'where': 'feature', 'value_fill': 0.0}\n",
      "Epoch 0: 100%|██████████| 155/155 [00:03<00:00, 45.49it/s, v_num=9, train_objective=2.340, train_fullview=0.979, train_missingview=1.360]"
     ]
    },
    {
     "name": "stderr",
     "output_type": "stream",
     "text": [
      "Metric val_objective improved. New best score: 1.018\n"
     ]
    },
    {
     "name": "stdout",
     "output_type": "stream",
     "text": [
      "Epoch 1: 100%|██████████| 155/155 [00:03<00:00, 44.95it/s, v_num=9, train_objective=2.680, train_fullview=1.190, train_missingview=1.490]"
     ]
    },
    {
     "name": "stderr",
     "output_type": "stream",
     "text": [
      "Metric val_objective improved by 0.123 >= min_delta = 0.01. New best score: 0.894\n"
     ]
    },
    {
     "name": "stdout",
     "output_type": "stream",
     "text": [
      "Epoch 2: 100%|██████████| 155/155 [00:03<00:00, 44.22it/s, v_num=9, train_objective=2.190, train_fullview=0.922, train_missingview=1.270]"
     ]
    },
    {
     "name": "stderr",
     "output_type": "stream",
     "text": [
      "`Trainer.fit` stopped: `max_epochs=3` reached.\n"
     ]
    },
    {
     "name": "stdout",
     "output_type": "stream",
     "text": [
      "Epoch 2: 100%|██████████| 155/155 [00:03<00:00, 44.20it/s, v_num=9, train_objective=2.190, train_fullview=0.922, train_missingview=1.270]\n",
      "Training done\n",
      "Inference with the following views  ['S2_S2VI']  and percentage missing  1.0\n",
      "Fold 1/3 of Run 1/1 in Feat_concat-MAUG-impute_feature-Forw_S2_S2VI finished...\n",
      "Inference with the following views  ['S2_S2VI', 'S1']  and percentage missing  1.0\n",
      "Fold 1/3 of Run 1/1 in Feat_concat-MAUG-impute_feature-Forw_S2_S2VI_S1 finished...\n",
      "Inference with the following views  ['S1', 'weather', 'DEM']  and percentage missing  1.0\n",
      "Fold 1/3 of Run 1/1 in Feat_concat-MAUG-impute_feature-Forw_S1_weather_DEM finished...\n",
      "Fold 1/3 of Run 1/1 in Feat_concat-MAUG-impute_feature finished...\n",
      "******************************** Executing model on run 1 and kfold 2\n",
      "You select 5 views from the 8 available, you could use get_view_names() to check which are available, the selected views are ['S1', 'weather', 'DEM', 'S2', 'S2VI'], with additional views ['S2_S2VI']\n",
      "first dimension of list will be the views, instead of the standard of n-samples\n"
     ]
    },
    {
     "name": "stderr",
     "output_type": "stream",
     "text": [
      "100%|██████████| 29642/29642 [00:00<00:00, 203807.99it/s]\n"
     ]
    },
    {
     "name": "stdout",
     "output_type": "stream",
     "text": [
      "You select 5 views from the 8 available, you could use get_view_names() to check which are available, the selected views are ['S1', 'weather', 'DEM', 'S2', 'S2VI'], with additional views ['S2_S2VI']\n",
      "first dimension of list will be the views, instead of the standard of n-samples\n"
     ]
    },
    {
     "name": "stderr",
     "output_type": "stream",
     "text": [
      "100%|██████████| 29642/29642 [00:00<00:00, 489980.13it/s]\n",
      "/home/mena/miniconda3/envs/views2/lib/python3.8/site-packages/pytorch_lightning/utilities/parsing.py:197: UserWarning: Attribute 'predictive_model' is an instance of `nn.Module` and is already saved during checkpointing. It is recommended to ignore them using `self.save_hyperparameters(ignore=['predictive_model'])`.\n",
      "  rank_zero_warn(\n",
      "/home/mena/Documents/repos/com-views/src/datasets/views_loader.py:8: RuntimeWarning: divide by zero encountered in remainder\n",
      "  if v % int(v) == 0:\n",
      "GPU available: True (cuda), used: True\n",
      "TPU available: False, using: 0 TPU cores\n",
      "IPU available: False, using: 0 IPUs\n",
      "HPU available: False, using: 0 HPUs\n",
      "You are using a CUDA device ('NVIDIA GeForce RTX 3080 Laptop GPU') that has Tensor Cores. To properly utilize them, you should set `torch.set_float32_matmul_precision('medium' | 'high')` which will trade-off precision for performance. For more details, read https://pytorch.org/docs/stable/generated/torch.set_float32_matmul_precision.html#torch.set_float32_matmul_precision\n",
      "/home/mena/miniconda3/envs/views2/lib/python3.8/site-packages/pytorch_lightning/callbacks/model_checkpoint.py:612: UserWarning: Checkpoint directory /home/mena/Documents/repos/com-views/config_time/aux/run-saves/checkpoint_logs/cropharvest_multi_train/Feat_concat-MAUG-impute_feature exists and is not empty.\n",
      "  rank_zero_warn(f\"Checkpoint directory {dirpath} exists and is not empty.\")\n",
      "LOCAL_RANK: 0 - CUDA_VISIBLE_DEVICES: [0]\n",
      "\n",
      "  | Name            | Type                | Params\n",
      "--------------------------------------------------------\n",
      "0 | views_encoder   | ModuleDict          | 3.1 M \n",
      "1 | fusion_module   | FusionModuleMissing | 0     \n",
      "2 | prediction_head | Generic_Decoder     | 67.2 K\n",
      "3 | criteria        | CrossEntropyLoss    | 0     \n",
      "--------------------------------------------------------\n",
      "3.2 M     Trainable params\n",
      "0         Non-trainable params\n",
      "3.2 M     Total params\n",
      "12.601    Total estimated model params size (MB)\n"
     ]
    },
    {
     "name": "stdout",
     "output_type": "stream",
     "text": [
      "Training with 19761 samples and validating on 9881\n",
      "Initial parameters of model: \"focus_full_view\":  True\n",
      "\"loss_args\":        {'name': 'ce', 'weight': tensor([0.4326, 3.4729, 0.3509, 2.3723, 0.9696, 7.2651, 2.7033, 1.2027, 6.7907,\n",
      "        0.6204])}\n",
      "\"predictive_model\": Generic_Decoder(\n",
      "  (pre_decoder): MLP(\n",
      "    (layers): Sequential(\n",
      "      (0): Sequential(\n",
      "        (0): Linear(in_features=512, out_features=128, bias=True)\n",
      "        (1): ReLU()\n",
      "        (2): BatchNorm1d(128, eps=1e-05, momentum=0.1, affine=True, track_running_stats=True)\n",
      "        (3): Dropout(p=0.2, inplace=False)\n",
      "      )\n",
      "    )\n",
      "  )\n",
      "  (linear_layer): Linear(in_features=128, out_features=10, bias=True)\n",
      ")\n",
      "\"view_names\":       ['S1', 'weather', 'DEM', 'S2_S2VI']\n",
      "The missing as augmentation was set on with an augmentation of  15 and following missing_method = {'name': 'impute', 'where': 'feature', 'value_fill': 0.0}\n",
      "Epoch 0: 100%|██████████| 155/155 [00:03<00:00, 44.76it/s, v_num=10, train_objective=2.240, train_fullview=0.937, train_missingview=1.310]"
     ]
    },
    {
     "name": "stderr",
     "output_type": "stream",
     "text": [
      "Metric val_objective improved. New best score: 1.141\n"
     ]
    },
    {
     "name": "stdout",
     "output_type": "stream",
     "text": [
      "Epoch 1: 100%|██████████| 155/155 [00:03<00:00, 44.56it/s, v_num=10, train_objective=2.850, train_fullview=1.200, train_missingview=1.640]"
     ]
    },
    {
     "name": "stderr",
     "output_type": "stream",
     "text": [
      "Metric val_objective improved by 0.130 >= min_delta = 0.01. New best score: 1.012\n"
     ]
    },
    {
     "name": "stdout",
     "output_type": "stream",
     "text": [
      "Epoch 2: 100%|██████████| 155/155 [00:03<00:00, 43.89it/s, v_num=10, train_objective=2.340, train_fullview=1.000, train_missingview=1.340]"
     ]
    },
    {
     "name": "stderr",
     "output_type": "stream",
     "text": [
      "Metric val_objective improved by 0.073 >= min_delta = 0.01. New best score: 0.939\n",
      "`Trainer.fit` stopped: `max_epochs=3` reached.\n"
     ]
    },
    {
     "name": "stdout",
     "output_type": "stream",
     "text": [
      "Epoch 2: 100%|██████████| 155/155 [00:03<00:00, 42.51it/s, v_num=10, train_objective=2.340, train_fullview=1.000, train_missingview=1.340]\n",
      "Training done\n",
      "Inference with the following views  ['S2_S2VI']  and percentage missing  1.0\n",
      "Fold 2/3 of Run 1/1 in Feat_concat-MAUG-impute_feature-Forw_S2_S2VI finished...\n",
      "Inference with the following views  ['S2_S2VI', 'S1']  and percentage missing  1.0\n",
      "Fold 2/3 of Run 1/1 in Feat_concat-MAUG-impute_feature-Forw_S2_S2VI_S1 finished...\n",
      "Inference with the following views  ['S1', 'weather', 'DEM']  and percentage missing  1.0\n",
      "Fold 2/3 of Run 1/1 in Feat_concat-MAUG-impute_feature-Forw_S1_weather_DEM finished...\n",
      "Fold 2/3 of Run 1/1 in Feat_concat-MAUG-impute_feature finished...\n",
      "******************************** Executing model on run 1 and kfold 3\n",
      "You select 5 views from the 8 available, you could use get_view_names() to check which are available, the selected views are ['S1', 'weather', 'DEM', 'S2', 'S2VI'], with additional views ['S2_S2VI']\n",
      "first dimension of list will be the views, instead of the standard of n-samples\n"
     ]
    },
    {
     "name": "stderr",
     "output_type": "stream",
     "text": [
      "100%|██████████| 29642/29642 [00:00<00:00, 246072.34it/s]\n"
     ]
    },
    {
     "name": "stdout",
     "output_type": "stream",
     "text": [
      "You select 5 views from the 8 available, you could use get_view_names() to check which are available, the selected views are ['S1', 'weather', 'DEM', 'S2', 'S2VI'], with additional views ['S2_S2VI']\n",
      "first dimension of list will be the views, instead of the standard of n-samples\n"
     ]
    },
    {
     "name": "stderr",
     "output_type": "stream",
     "text": [
      "100%|██████████| 29642/29642 [00:00<00:00, 456266.34it/s]\n",
      "/home/mena/miniconda3/envs/views2/lib/python3.8/site-packages/pytorch_lightning/utilities/parsing.py:197: UserWarning: Attribute 'predictive_model' is an instance of `nn.Module` and is already saved during checkpointing. It is recommended to ignore them using `self.save_hyperparameters(ignore=['predictive_model'])`.\n",
      "  rank_zero_warn(\n",
      "/home/mena/Documents/repos/com-views/src/datasets/views_loader.py:8: RuntimeWarning: divide by zero encountered in remainder\n",
      "  if v % int(v) == 0:\n",
      "GPU available: True (cuda), used: True\n",
      "TPU available: False, using: 0 TPU cores\n",
      "IPU available: False, using: 0 IPUs\n",
      "HPU available: False, using: 0 HPUs\n",
      "You are using a CUDA device ('NVIDIA GeForce RTX 3080 Laptop GPU') that has Tensor Cores. To properly utilize them, you should set `torch.set_float32_matmul_precision('medium' | 'high')` which will trade-off precision for performance. For more details, read https://pytorch.org/docs/stable/generated/torch.set_float32_matmul_precision.html#torch.set_float32_matmul_precision\n",
      "/home/mena/miniconda3/envs/views2/lib/python3.8/site-packages/pytorch_lightning/callbacks/model_checkpoint.py:612: UserWarning: Checkpoint directory /home/mena/Documents/repos/com-views/config_time/aux/run-saves/checkpoint_logs/cropharvest_multi_train/Feat_concat-MAUG-impute_feature exists and is not empty.\n",
      "  rank_zero_warn(f\"Checkpoint directory {dirpath} exists and is not empty.\")\n",
      "LOCAL_RANK: 0 - CUDA_VISIBLE_DEVICES: [0]\n",
      "\n",
      "  | Name            | Type                | Params\n",
      "--------------------------------------------------------\n",
      "0 | views_encoder   | ModuleDict          | 3.1 M \n",
      "1 | fusion_module   | FusionModuleMissing | 0     \n",
      "2 | prediction_head | Generic_Decoder     | 67.2 K\n",
      "3 | criteria        | CrossEntropyLoss    | 0     \n",
      "--------------------------------------------------------\n",
      "3.2 M     Trainable params\n",
      "0         Non-trainable params\n",
      "3.2 M     Total params\n",
      "12.601    Total estimated model params size (MB)\n"
     ]
    },
    {
     "name": "stdout",
     "output_type": "stream",
     "text": [
      "Training with 19762 samples and validating on 9880\n",
      "Initial parameters of model: \"focus_full_view\":  True\n",
      "\"loss_args\":        {'name': 'ce', 'weight': tensor([0.4402, 3.3666, 0.3497, 2.2741, 0.9635, 6.8381, 2.7333, 1.1941, 7.3739,\n",
      "        0.6214])}\n",
      "\"predictive_model\": Generic_Decoder(\n",
      "  (pre_decoder): MLP(\n",
      "    (layers): Sequential(\n",
      "      (0): Sequential(\n",
      "        (0): Linear(in_features=512, out_features=128, bias=True)\n",
      "        (1): ReLU()\n",
      "        (2): BatchNorm1d(128, eps=1e-05, momentum=0.1, affine=True, track_running_stats=True)\n",
      "        (3): Dropout(p=0.2, inplace=False)\n",
      "      )\n",
      "    )\n",
      "  )\n",
      "  (linear_layer): Linear(in_features=128, out_features=10, bias=True)\n",
      ")\n",
      "\"view_names\":       ['S1', 'weather', 'DEM', 'S2_S2VI']\n",
      "The missing as augmentation was set on with an augmentation of  15 and following missing_method = {'name': 'impute', 'where': 'feature', 'value_fill': 0.0}\n",
      "Epoch 0: 100%|██████████| 155/155 [00:03<00:00, 44.44it/s, v_num=11, train_objective=2.770, train_fullview=1.250, train_missingview=1.510]"
     ]
    },
    {
     "name": "stderr",
     "output_type": "stream",
     "text": [
      "Metric val_objective improved. New best score: 1.090\n"
     ]
    },
    {
     "name": "stdout",
     "output_type": "stream",
     "text": [
      "Epoch 1: 100%|██████████| 155/155 [00:03<00:00, 42.89it/s, v_num=11, train_objective=3.010, train_fullview=1.360, train_missingview=1.660]"
     ]
    },
    {
     "name": "stderr",
     "output_type": "stream",
     "text": [
      "Metric val_objective improved by 0.140 >= min_delta = 0.01. New best score: 0.950\n"
     ]
    },
    {
     "name": "stdout",
     "output_type": "stream",
     "text": [
      "Epoch 2: 100%|██████████| 155/155 [00:03<00:00, 42.82it/s, v_num=11, train_objective=2.010, train_fullview=0.868, train_missingview=1.140]"
     ]
    },
    {
     "name": "stderr",
     "output_type": "stream",
     "text": [
      "Metric val_objective improved by 0.052 >= min_delta = 0.01. New best score: 0.898\n",
      "`Trainer.fit` stopped: `max_epochs=3` reached.\n"
     ]
    },
    {
     "name": "stdout",
     "output_type": "stream",
     "text": [
      "Epoch 2: 100%|██████████| 155/155 [00:03<00:00, 41.43it/s, v_num=11, train_objective=2.010, train_fullview=0.868, train_missingview=1.140]\n",
      "Training done\n",
      "Inference with the following views  ['S2_S2VI']  and percentage missing  1.0\n",
      "Fold 3/3 of Run 1/1 in Feat_concat-MAUG-impute_feature-Forw_S2_S2VI finished...\n",
      "Inference with the following views  ['S2_S2VI', 'S1']  and percentage missing  1.0\n",
      "Fold 3/3 of Run 1/1 in Feat_concat-MAUG-impute_feature-Forw_S2_S2VI_S1 finished...\n",
      "Inference with the following views  ['S1', 'weather', 'DEM']  and percentage missing  1.0\n",
      "Fold 3/3 of Run 1/1 in Feat_concat-MAUG-impute_feature-Forw_S1_weather_DEM finished...\n",
      "Fold 3/3 of Run 1/1 in Feat_concat-MAUG-impute_feature finished...\n",
      "Epochs for Feat_concat-MAUG-impute_feature runs on average for 0.00 epochs +- 0.000\n",
      "Finished whole execution of 1 runs in 42.16 secs\n",
      "Normalize views\n",
      "******************************** Executing model on run 1 and kfold 1\n",
      "You select 5 views from the 8 available, you could use get_view_names() to check which are available, the selected views are ['S1', 'weather', 'DEM', 'S2', 'S2VI'], with additional views ['S2_S2VI']\n",
      "first dimension of list will be the views, instead of the standard of n-samples\n"
     ]
    },
    {
     "name": "stderr",
     "output_type": "stream",
     "text": [
      "100%|██████████| 29642/29642 [00:00<00:00, 250179.21it/s]\n"
     ]
    },
    {
     "name": "stdout",
     "output_type": "stream",
     "text": [
      "You select 5 views from the 8 available, you could use get_view_names() to check which are available, the selected views are ['S1', 'weather', 'DEM', 'S2', 'S2VI'], with additional views ['S2_S2VI']\n",
      "first dimension of list will be the views, instead of the standard of n-samples\n"
     ]
    },
    {
     "name": "stderr",
     "output_type": "stream",
     "text": [
      "100%|██████████| 29642/29642 [00:00<00:00, 468185.36it/s]\n",
      "/home/mena/Documents/repos/com-views/src/datasets/views_loader.py:8: RuntimeWarning: divide by zero encountered in remainder\n",
      "  if v % int(v) == 0:\n",
      "GPU available: True (cuda), used: True\n",
      "TPU available: False, using: 0 TPU cores\n",
      "IPU available: False, using: 0 IPUs\n",
      "HPU available: False, using: 0 HPUs\n",
      "You are using a CUDA device ('NVIDIA GeForce RTX 3080 Laptop GPU') that has Tensor Cores. To properly utilize them, you should set `torch.set_float32_matmul_precision('medium' | 'high')` which will trade-off precision for performance. For more details, read https://pytorch.org/docs/stable/generated/torch.set_float32_matmul_precision.html#torch.set_float32_matmul_precision\n",
      "LOCAL_RANK: 0 - CUDA_VISIBLE_DEVICES: [0]\n",
      "\n",
      "  | Name                   | Type                | Params\n",
      "---------------------------------------------------------------\n",
      "0 | views_encoder          | ModuleDict          | 3.1 M \n",
      "1 | fusion_module          | Identity            | 0     \n",
      "2 | prediction_head        | Identity            | 0     \n",
      "3 | criteria               | CrossEntropyLoss    | 0     \n",
      "4 | view_prediction_heads  | ModuleDict          | 18.1 K\n",
      "5 | prediction_aggregation | FusionModuleMissing | 0     \n",
      "6 | awareness_vectors      | ParameterDict       | 512   \n",
      "---------------------------------------------------------------\n",
      "3.1 M     Trainable params\n",
      "0         Non-trainable params\n",
      "3.1 M     Total params\n",
      "12.406    Total estimated model params size (MB)\n"
     ]
    },
    {
     "name": "stdout",
     "output_type": "stream",
     "text": [
      "Training with 19761 samples and validating on 9881\n",
      "int64 [0 0 0 ... 9 9 9]\n",
      "Initial parameters of model: \"awareness_merge\":       sum\n",
      "\"awareness_vectors\":     {'S1': Parameter containing:\n",
      "tensor([-0.2053, -0.0379,  0.0467,  0.8111, -1.0345,  0.6968,  1.0283, -0.0526,\n",
      "        -0.3790, -0.4353, -0.3550, -1.0538, -0.3344, -0.9150, -0.7383, -1.2139,\n",
      "        -0.5205,  0.8098,  1.1391,  0.1951, -0.5924, -0.0902, -0.9476, -1.0839,\n",
      "         1.9356, -1.3524, -0.6295, -0.5981, -2.4206, -0.2040,  0.1577, -2.4158,\n",
      "        -0.7490,  0.4696, -0.0634,  0.3145, -1.5069,  0.8274, -1.2948, -0.3404,\n",
      "         0.1058, -0.3055, -1.2432, -1.1721,  0.3759, -1.2353,  0.6634,  0.2729,\n",
      "        -0.4967, -0.2835, -2.1852, -0.9644,  0.0228, -1.1081,  0.5715, -0.9398,\n",
      "         0.2266, -0.6390,  1.3564,  0.2725, -0.0872,  1.6325,  0.5691,  1.7308,\n",
      "        -0.1589, -0.8721, -0.5080,  1.6875,  1.0430, -1.2071,  1.0021,  0.1722,\n",
      "         0.3534,  0.6964,  1.1600, -0.2938,  0.9160, -1.1807, -2.0532,  1.5221,\n",
      "        -0.3471, -0.0425, -0.5831,  1.3491,  1.3152,  1.3237,  1.1758, -0.9688,\n",
      "        -1.1788, -1.0284,  0.4303,  0.7616, -0.3628,  1.4127,  0.3188,  0.7729,\n",
      "        -0.1496, -0.6434,  1.4615, -0.6279, -0.4888,  1.2312, -1.0102, -1.7970,\n",
      "        -0.0142,  0.4154,  0.6978, -1.5409,  0.6071, -1.5505,  0.8177, -0.3109,\n",
      "         0.3717, -0.2223,  0.0177, -0.8778, -0.6239,  0.1687, -1.6159,  1.2151,\n",
      "         0.2897, -0.4268,  1.3196, -1.6746,  1.4553, -0.7203, -1.6373,  0.4613],\n",
      "       requires_grad=True), 'weather': Parameter containing:\n",
      "tensor([ 1.0647, -0.7063,  0.7612,  0.8536, -1.3402,  0.9981, -1.5578,  0.1578,\n",
      "        -0.5801,  0.5284,  0.3393,  1.2125, -2.1788,  0.2059,  1.7278, -0.2473,\n",
      "         0.9864,  1.1714, -0.6132,  0.5361, -0.3609,  0.9973,  0.2502,  1.4297,\n",
      "         0.2845,  0.7394,  0.1847,  0.1032,  0.6274, -0.2180,  0.3170, -1.5823,\n",
      "         0.2174, -0.4516, -0.3649, -1.3558,  1.0821, -0.5420, -1.2807,  0.5786,\n",
      "        -0.5099,  1.3728, -1.1928, -0.4904, -1.7676, -1.7038, -0.1459,  0.7292,\n",
      "        -1.1643,  2.1694, -0.7224, -0.3040,  0.0268,  0.5457,  1.3915, -1.5877,\n",
      "         0.0216,  0.3544, -1.3458, -1.2435,  0.4047, -1.4011, -0.1642, -1.1404,\n",
      "        -0.5503, -0.9658, -0.1126,  0.9243,  0.7857, -0.2199,  0.4491,  0.7013,\n",
      "         0.4015, -1.2976,  0.5567, -0.6846, -1.3791,  1.2998,  0.7854,  0.4417,\n",
      "         0.2013,  0.8758, -1.5132, -0.1723,  0.3337,  2.0358, -2.3582, -0.5245,\n",
      "        -1.5770, -0.0057, -0.4137, -0.3723, -0.2244, -0.7010, -1.2433,  2.0325,\n",
      "         0.3288, -0.0181, -0.2867, -0.4613,  0.2121, -2.1777,  0.1259, -0.2135,\n",
      "        -0.4178,  2.5140, -0.2385, -0.8357, -3.0332,  0.8636,  1.0501, -0.9215,\n",
      "        -0.9090,  0.7258,  1.2790, -0.4843, -0.9609,  0.5111,  1.1479,  0.0696,\n",
      "         0.0221,  1.7963,  0.0127,  1.8198,  0.5722, -1.0539, -1.2111, -1.7650],\n",
      "       requires_grad=True), 'DEM': Parameter containing:\n",
      "tensor([ 1.8513,  1.5258, -0.6290, -0.3005,  0.8536, -0.7469,  0.3931,  0.5679,\n",
      "        -1.0485, -0.8167,  0.9386, -0.9048, -0.9786,  0.3360,  0.6211,  1.2448,\n",
      "         0.3443,  0.4202, -0.2730,  0.7689, -0.4677, -0.7871, -0.7492,  0.7063,\n",
      "        -0.7270, -0.0673,  0.9567, -0.2511, -0.3551, -1.6553, -0.6731, -0.7521,\n",
      "        -0.7014,  0.7387,  1.2439, -1.4121,  1.1215,  1.2904,  0.3129,  1.8029,\n",
      "         0.2179, -0.0597, -1.1420, -0.1440, -1.4551, -0.0108, -0.2111,  0.5147,\n",
      "        -0.2991,  2.1075,  1.7477,  0.0684, -0.4178,  0.0983, -1.2435, -0.9059,\n",
      "        -1.1887, -0.4003,  1.1947, -0.4829,  0.0333, -2.2809, -0.3542,  0.1522,\n",
      "        -0.8258,  2.9932,  0.5415,  0.1162, -0.0883,  1.3093, -0.1709,  0.7478,\n",
      "        -0.8082, -0.6372,  0.0987, -0.9760,  0.4094, -0.0982,  0.3147,  2.4109,\n",
      "         1.1457,  0.0658,  0.4759, -0.9955, -1.6217, -1.3799, -1.1260, -0.4920,\n",
      "         1.2280,  1.0411, -1.2867, -0.2430, -2.0619,  1.3686, -0.5900, -0.8786,\n",
      "        -0.4756,  0.9028, -0.7072,  0.7516, -1.3940,  0.3178,  3.0060, -1.8937,\n",
      "         0.4338,  0.1235,  1.4242, -1.7049,  1.0843, -0.5574, -1.2056,  0.2628,\n",
      "         1.0200, -0.1732,  0.3745, -0.1181,  1.0792, -0.1133, -0.5623, -0.4673,\n",
      "        -1.2902,  1.3276,  0.2555,  1.5761, -0.8496,  0.4523, -1.2216, -0.4637],\n",
      "       requires_grad=True), 'S2_S2VI': Parameter containing:\n",
      "tensor([ 5.0660e-01, -1.2939e+00,  5.9829e-02,  5.5939e-02,  1.3390e+00,\n",
      "        -8.0868e-01,  1.2581e+00, -4.0797e-02,  1.1535e+00,  9.7856e-01,\n",
      "         1.7760e-01,  6.9011e-01,  1.8155e+00,  1.1979e+00, -9.2935e-01,\n",
      "         2.7203e-01,  1.5917e+00, -4.3421e-01,  2.0748e-01,  2.1068e-01,\n",
      "         6.3625e-01, -1.3515e+00, -5.2488e-02,  6.5222e-01, -6.0560e-02,\n",
      "        -3.3407e-01,  1.4817e+00, -7.4156e-01,  3.3708e-01,  4.5973e-01,\n",
      "        -6.1602e-01, -1.4668e+00,  3.0356e-01,  1.9750e+00,  3.9584e-01,\n",
      "         1.4032e-02, -8.7379e-01, -1.0708e+00,  1.9953e-01, -2.4847e+00,\n",
      "         1.2590e+00,  1.1446e+00, -4.9645e-01, -9.7909e-02,  1.3468e-01,\n",
      "         1.2126e+00,  5.4219e-01, -9.1200e-01, -1.5432e+00, -2.1181e-02,\n",
      "        -1.7096e+00,  2.0135e+00, -1.0064e+00, -8.8117e-01,  1.6151e+00,\n",
      "        -2.5609e-01, -1.6769e+00, -4.0314e-01,  1.1325e+00, -1.5114e+00,\n",
      "         4.1721e-01, -7.5113e-01,  4.8139e-02, -1.7094e+00, -1.9967e+00,\n",
      "         5.4406e-01,  1.0405e-01, -8.9192e-01, -2.4094e-01,  1.2975e+00,\n",
      "         2.7130e-01, -6.4602e-04,  1.2294e+00, -1.3887e+00, -9.5570e-01,\n",
      "        -1.2395e+00,  5.7038e-01,  1.7079e+00, -2.0255e-01,  5.8413e-01,\n",
      "         1.0078e+00,  7.9873e-01,  5.5928e-02,  4.7891e-01, -1.4838e-01,\n",
      "         7.1338e-01,  1.1391e+00,  8.0693e-01,  6.1727e-01,  1.3703e+00,\n",
      "         8.2614e-01,  1.9221e-01, -1.1900e+00,  1.4793e-01, -6.3283e-01,\n",
      "         9.3999e-01, -1.4863e+00, -3.9678e-01, -2.1876e+00, -5.0523e-01,\n",
      "         2.2411e+00, -1.0376e+00, -9.2150e-01,  3.8677e-01, -6.1749e-01,\n",
      "         4.4337e-01,  9.5316e-01,  2.1242e+00,  3.5119e-01,  1.2559e+00,\n",
      "         3.1469e-01, -1.1916e-01,  5.3702e-01, -2.0332e+00, -2.3721e-01,\n",
      "         1.0670e+00, -1.4932e+00, -4.2178e-01, -6.9200e-01,  1.1920e+00,\n",
      "         7.7359e-01,  8.0671e-01, -1.7447e+00, -1.3398e-01, -3.5465e-01,\n",
      "        -9.7640e-02,  1.9761e-01,  1.6109e+00], requires_grad=True)}\n",
      "\"loss_args\":             {'name': 'ce', 'weight': tensor([0.4331, 3.4307, 0.3464, 2.3982, 0.9846, 7.8107, 2.6418, 1.1638, 7.2385,\n",
      "        0.6344])}\n",
      "\"view_names\":            ['S1', 'weather', 'DEM', 'S2_S2VI']\n",
      "\"view_prediction_heads\": {'S1': Generic_Decoder(\n",
      "  (pre_decoder): MLP(\n",
      "    (layers): Sequential(\n",
      "      (0): Sequential(\n",
      "        (0): Linear(in_features=128, out_features=128, bias=True)\n",
      "        (1): ReLU()\n",
      "        (2): BatchNorm1d(128, eps=1e-05, momentum=0.1, affine=True, track_running_stats=True)\n",
      "        (3): Dropout(p=0.2, inplace=False)\n",
      "      )\n",
      "    )\n",
      "  )\n",
      "  (linear_layer): Linear(in_features=128, out_features=10, bias=True)\n",
      "), 'weather': Generic_Decoder(\n",
      "  (pre_decoder): MLP(\n",
      "    (layers): Sequential(\n",
      "      (0): Sequential(\n",
      "        (0): Linear(in_features=128, out_features=128, bias=True)\n",
      "        (1): ReLU()\n",
      "        (2): BatchNorm1d(128, eps=1e-05, momentum=0.1, affine=True, track_running_stats=True)\n",
      "        (3): Dropout(p=0.2, inplace=False)\n",
      "      )\n",
      "    )\n",
      "  )\n",
      "  (linear_layer): Linear(in_features=128, out_features=10, bias=True)\n",
      "), 'DEM': Generic_Decoder(\n",
      "  (pre_decoder): MLP(\n",
      "    (layers): Sequential(\n",
      "      (0): Sequential(\n",
      "        (0): Linear(in_features=128, out_features=128, bias=True)\n",
      "        (1): ReLU()\n",
      "        (2): BatchNorm1d(128, eps=1e-05, momentum=0.1, affine=True, track_running_stats=True)\n",
      "        (3): Dropout(p=0.2, inplace=False)\n",
      "      )\n",
      "    )\n",
      "  )\n",
      "  (linear_layer): Linear(in_features=128, out_features=10, bias=True)\n",
      "), 'S2_S2VI': Generic_Decoder(\n",
      "  (pre_decoder): MLP(\n",
      "    (layers): Sequential(\n",
      "      (0): Sequential(\n",
      "        (0): Linear(in_features=128, out_features=128, bias=True)\n",
      "        (1): ReLU()\n",
      "        (2): BatchNorm1d(128, eps=1e-05, momentum=0.1, affine=True, track_running_stats=True)\n",
      "        (3): Dropout(p=0.2, inplace=False)\n",
      "      )\n",
      "    )\n",
      "  )\n",
      "  (linear_layer): Linear(in_features=128, out_features=10, bias=True)\n",
      ")}\n",
      "Epoch 0: 100%|██████████| 155/155 [00:02<00:00, 62.61it/s, v_num=12, train_objective=6.980, train_lossS1=1.780, train_lossweather=1.600, train_lossDEM=2.270, train_lossS2_S2VI=1.330]"
     ]
    },
    {
     "name": "stderr",
     "output_type": "stream",
     "text": [
      "Metric val_objective improved. New best score: 6.956\n"
     ]
    },
    {
     "name": "stdout",
     "output_type": "stream",
     "text": [
      "Epoch 1: 100%|██████████| 155/155 [00:02<00:00, 61.60it/s, v_num=12, train_objective=6.100, train_lossS1=1.140, train_lossweather=1.800, train_lossDEM=2.210, train_lossS2_S2VI=0.950]"
     ]
    },
    {
     "name": "stderr",
     "output_type": "stream",
     "text": [
      "Metric val_objective improved by 0.251 >= min_delta = 0.04. New best score: 6.704\n"
     ]
    },
    {
     "name": "stdout",
     "output_type": "stream",
     "text": [
      "Epoch 2: 100%|██████████| 155/155 [00:02<00:00, 62.21it/s, v_num=12, train_objective=6.970, train_lossS1=1.510, train_lossweather=1.810, train_lossDEM=2.330, train_lossS2_S2VI=1.310]"
     ]
    },
    {
     "name": "stderr",
     "output_type": "stream",
     "text": [
      "Metric val_objective improved by 0.131 >= min_delta = 0.04. New best score: 6.573\n",
      "`Trainer.fit` stopped: `max_epochs=3` reached.\n"
     ]
    },
    {
     "name": "stdout",
     "output_type": "stream",
     "text": [
      "Epoch 2: 100%|██████████| 155/155 [00:02<00:00, 59.55it/s, v_num=12, train_objective=6.970, train_lossS1=1.510, train_lossweather=1.810, train_lossDEM=2.330, train_lossS2_S2VI=1.310]\n",
      "Training done\n",
      "Inference with the following views  ['S2_S2VI']  and percentage missing  1.0\n",
      "Fold 1/3 of Run 1/1 in PoolSensInv-Forw_S2_S2VI finished...\n",
      "Inference with the following views  ['S2_S2VI', 'S1']  and percentage missing  1.0\n",
      "Fold 1/3 of Run 1/1 in PoolSensInv-Forw_S2_S2VI_S1 finished...\n",
      "Inference with the following views  ['S1', 'weather', 'DEM']  and percentage missing  1.0\n",
      "Fold 1/3 of Run 1/1 in PoolSensInv-Forw_S1_weather_DEM finished...\n",
      "Fold 1/3 of Run 1/1 in PoolSensInv finished...\n",
      "******************************** Executing model on run 1 and kfold 2\n",
      "You select 5 views from the 8 available, you could use get_view_names() to check which are available, the selected views are ['S1', 'weather', 'DEM', 'S2', 'S2VI'], with additional views ['S2_S2VI']\n",
      "first dimension of list will be the views, instead of the standard of n-samples\n"
     ]
    },
    {
     "name": "stderr",
     "output_type": "stream",
     "text": [
      "100%|██████████| 29642/29642 [00:00<00:00, 248209.83it/s]\n"
     ]
    },
    {
     "name": "stdout",
     "output_type": "stream",
     "text": [
      "You select 5 views from the 8 available, you could use get_view_names() to check which are available, the selected views are ['S1', 'weather', 'DEM', 'S2', 'S2VI'], with additional views ['S2_S2VI']\n",
      "first dimension of list will be the views, instead of the standard of n-samples\n"
     ]
    },
    {
     "name": "stderr",
     "output_type": "stream",
     "text": [
      "100%|██████████| 29642/29642 [00:00<00:00, 465663.73it/s]\n",
      "/home/mena/Documents/repos/com-views/src/datasets/views_loader.py:8: RuntimeWarning: divide by zero encountered in remainder\n",
      "  if v % int(v) == 0:\n",
      "GPU available: True (cuda), used: True\n",
      "TPU available: False, using: 0 TPU cores\n",
      "IPU available: False, using: 0 IPUs\n",
      "HPU available: False, using: 0 HPUs\n",
      "You are using a CUDA device ('NVIDIA GeForce RTX 3080 Laptop GPU') that has Tensor Cores. To properly utilize them, you should set `torch.set_float32_matmul_precision('medium' | 'high')` which will trade-off precision for performance. For more details, read https://pytorch.org/docs/stable/generated/torch.set_float32_matmul_precision.html#torch.set_float32_matmul_precision\n",
      "/home/mena/miniconda3/envs/views2/lib/python3.8/site-packages/pytorch_lightning/callbacks/model_checkpoint.py:612: UserWarning: Checkpoint directory /home/mena/Documents/repos/com-views/config_time/aux/run-saves/checkpoint_logs/cropharvest_multi_train/PoolSensInv exists and is not empty.\n",
      "  rank_zero_warn(f\"Checkpoint directory {dirpath} exists and is not empty.\")\n",
      "LOCAL_RANK: 0 - CUDA_VISIBLE_DEVICES: [0]\n",
      "\n",
      "  | Name                   | Type                | Params\n",
      "---------------------------------------------------------------\n",
      "0 | views_encoder          | ModuleDict          | 3.1 M \n",
      "1 | fusion_module          | Identity            | 0     \n",
      "2 | prediction_head        | Identity            | 0     \n",
      "3 | criteria               | CrossEntropyLoss    | 0     \n",
      "4 | view_prediction_heads  | ModuleDict          | 18.1 K\n",
      "5 | prediction_aggregation | FusionModuleMissing | 0     \n",
      "6 | awareness_vectors      | ParameterDict       | 512   \n",
      "---------------------------------------------------------------\n",
      "3.1 M     Trainable params\n",
      "0         Non-trainable params\n",
      "3.1 M     Total params\n",
      "12.406    Total estimated model params size (MB)\n"
     ]
    },
    {
     "name": "stdout",
     "output_type": "stream",
     "text": [
      "Training with 19761 samples and validating on 9881\n",
      "int64 [0 0 0 ... 9 9 9]\n",
      "Initial parameters of model: \"awareness_merge\":       sum\n",
      "\"awareness_vectors\":     {'S1': Parameter containing:\n",
      "tensor([ 9.9113e-01, -2.9548e-01, -4.2634e-01, -8.5230e-01,  2.3045e-01,\n",
      "        -8.5734e-01, -1.8485e+00, -6.2462e-01, -9.1304e-01, -2.8167e-02,\n",
      "        -1.3903e+00,  1.0501e+00,  1.0435e+00,  1.0915e+00, -4.9077e-02,\n",
      "         2.9482e-03,  5.2587e-01, -7.2777e-01,  5.3293e-02,  2.0275e+00,\n",
      "         3.9437e-02,  1.9368e-01, -1.0924e+00,  1.5316e+00,  3.0001e-01,\n",
      "        -1.0901e+00,  1.2002e+00,  7.2193e-01,  9.7029e-01, -1.1399e+00,\n",
      "         4.7339e-01, -1.0427e+00,  1.2718e+00,  1.8829e+00,  4.2277e-01,\n",
      "         3.1609e-01,  1.2163e+00,  9.8521e-01,  1.2789e+00,  2.1507e+00,\n",
      "         5.8330e-01,  1.6330e-01, -2.2244e+00, -1.8131e-01, -8.3590e-01,\n",
      "        -3.5242e-01, -3.5803e-01, -4.2156e-01, -1.2805e+00, -6.1788e-01,\n",
      "         4.5850e-01, -2.5665e-01, -1.1594e+00,  4.2007e+00, -1.5803e+00,\n",
      "         3.5660e-01,  6.5914e-03,  3.0024e+00, -1.0569e+00,  1.5738e+00,\n",
      "         3.2474e-01, -6.7061e-01, -5.8879e-01,  5.2185e-01,  7.6189e-01,\n",
      "        -1.7896e+00,  3.3386e+00,  2.8606e-02,  1.4366e+00, -1.3937e+00,\n",
      "         2.0968e+00, -9.6698e-01, -1.0747e+00, -1.0898e+00, -6.0241e-01,\n",
      "        -2.9448e-01,  5.6271e-01, -3.9259e-01, -2.0863e-01,  1.7957e+00,\n",
      "         1.2527e-01, -1.3592e+00, -8.6793e-01, -2.8020e-01, -2.9857e-01,\n",
      "        -5.9202e-01,  1.7511e+00,  3.4029e-01, -7.2531e-01, -3.7749e-01,\n",
      "         7.4800e-01, -1.2808e+00, -3.8476e-01, -4.3828e-01,  5.6700e-01,\n",
      "        -1.2252e+00,  9.7963e-01,  1.3267e+00,  9.7042e-01, -1.2300e-01,\n",
      "        -2.1899e-01,  8.3833e-01,  1.0440e+00,  1.5657e+00,  1.9073e+00,\n",
      "         8.3313e-01, -1.7976e+00,  1.9672e+00, -1.1379e+00, -4.4377e-01,\n",
      "         5.3358e-01, -4.6420e-01, -5.2287e-01, -3.8810e-01,  8.8423e-01,\n",
      "         9.1394e-01, -2.0524e-02,  3.7545e-01, -1.6284e+00, -7.5120e-01,\n",
      "        -2.9503e+00,  3.0735e-04,  5.5899e-01,  1.2158e+00,  7.7175e-01,\n",
      "         9.2878e-01,  1.4318e+00, -1.5056e+00], requires_grad=True), 'weather': Parameter containing:\n",
      "tensor([ 0.5554, -1.6125, -0.2671, -0.3932, -0.5682, -1.1750, -0.7140, -0.5336,\n",
      "         0.0967,  0.2146,  1.3141,  0.9364,  0.0895, -0.0218,  0.6592,  0.3312,\n",
      "        -1.2506,  0.3010,  0.8613, -0.1595, -0.4983, -0.9902,  0.7290,  0.5000,\n",
      "        -0.9225, -0.1865, -0.6268, -1.1394,  1.0596,  0.1488, -1.0083, -0.5147,\n",
      "         3.3391,  0.8701,  2.6993,  0.2150,  0.6310,  0.0564, -0.1954,  0.8477,\n",
      "        -0.7700,  1.4200, -1.6346, -0.3149,  0.9708,  0.0690, -1.4978, -0.0457,\n",
      "         0.7724, -1.2481,  1.6594,  0.6010, -0.9235, -1.1821,  0.3912,  0.7298,\n",
      "        -0.8024,  0.9447,  0.6409,  1.2499,  1.0683,  0.9583, -0.8753, -2.1920,\n",
      "         0.8603, -2.3200,  0.6289, -0.4058, -1.0633,  1.5193, -1.5250, -0.7100,\n",
      "         0.3226,  0.9928, -1.3929, -0.6761,  0.8006,  0.8897, -0.5594, -0.0176,\n",
      "         0.3049, -2.0191,  0.5730, -1.6704, -1.9105, -0.7098, -2.0727, -1.3045,\n",
      "        -1.7259,  0.2362,  0.9016, -0.4563,  0.1541,  1.1471, -0.4565, -0.5753,\n",
      "         0.7855,  1.9323, -0.1506, -0.6826, -0.5225,  1.0370, -0.7520, -1.0424,\n",
      "        -0.5883,  0.7649, -1.1620, -0.0351, -0.4459, -0.2149, -0.2802,  0.3252,\n",
      "         0.3732, -1.8754, -0.7622, -1.6635, -0.1221,  0.4831, -1.3631, -0.8152,\n",
      "        -0.3603, -1.2576,  0.5515, -0.9390,  0.0397,  1.1553,  1.6264, -1.2952],\n",
      "       requires_grad=True), 'DEM': Parameter containing:\n",
      "tensor([-1.6765e+00, -5.5572e-01, -2.7333e+00, -1.2600e-01,  6.3786e-02,\n",
      "        -1.0127e-01,  1.4650e+00, -2.0046e+00,  2.2463e-01, -4.3918e-01,\n",
      "        -2.3353e-01,  9.0069e-02, -4.9447e-01, -1.3834e+00,  4.6021e-01,\n",
      "        -4.8736e-01, -9.6377e-01, -6.6798e-01,  1.4643e+00, -1.4453e+00,\n",
      "        -9.8872e-01,  5.6430e-02, -1.6501e+00, -9.5974e-01,  6.1555e-01,\n",
      "         6.6140e-01, -1.8942e-01, -5.0814e-01,  1.1309e-01,  2.5932e-01,\n",
      "        -4.1015e-01, -1.6717e+00,  5.4255e-01,  1.9154e-01, -2.3917e+00,\n",
      "        -3.6903e-01,  1.4684e+00, -6.5179e-01,  2.1019e-01,  7.2132e-01,\n",
      "        -1.0175e+00,  5.2680e-01, -5.3916e-01, -9.3223e-01,  7.4180e-01,\n",
      "         5.4222e-01, -8.0605e-01, -5.8478e-01, -5.8752e-01,  2.4570e-01,\n",
      "        -1.5518e+00, -2.4719e+00, -1.2657e+00, -6.9042e-01, -1.0952e+00,\n",
      "        -3.7935e-01, -4.0267e-01,  2.7671e-01,  1.5233e+00, -1.5101e-03,\n",
      "         1.3167e+00, -1.3953e+00,  4.5696e-01,  7.8642e-01, -2.2694e-01,\n",
      "         4.2894e-01, -9.1643e-01, -1.1910e+00,  1.2365e+00, -5.6236e-02,\n",
      "        -1.0104e-01,  4.3623e-01,  1.0781e+00, -9.3770e-02,  4.8694e-01,\n",
      "         1.3032e+00, -2.2763e-01, -2.0932e-01,  1.1439e+00,  1.0870e+00,\n",
      "        -7.7570e-01, -6.4084e-01, -7.7016e-01, -1.1317e+00,  5.7902e-01,\n",
      "         7.3873e-01,  5.7157e-02,  1.1498e+00,  9.6707e-02, -3.5292e-01,\n",
      "        -2.0833e+00,  5.9284e-01,  8.9181e-01,  1.4403e+00, -1.3062e-01,\n",
      "        -2.0628e+00, -1.1271e+00, -1.1887e+00,  6.5193e-01,  1.6179e-02,\n",
      "        -9.3968e-01,  7.4413e-01,  1.8670e+00,  1.2930e+00, -3.0409e-01,\n",
      "         1.8797e-01, -4.0248e-01, -2.4603e-01,  7.9857e-01,  9.9083e-01,\n",
      "         7.3859e-01, -7.2634e-01, -1.0438e-01, -4.8127e-01, -4.0514e-01,\n",
      "         2.0163e+00, -5.9280e-01,  7.8851e-01,  2.1960e-01, -6.3364e-01,\n",
      "        -8.1658e-01,  1.6936e+00,  5.0567e-01,  4.0682e-01, -2.1166e-01,\n",
      "        -3.4787e-01, -3.4212e+00,  1.6863e-01], requires_grad=True), 'S2_S2VI': Parameter containing:\n",
      "tensor([ 7.1872e-01,  1.9385e-01, -6.6155e-01,  1.4583e+00,  5.1960e-01,\n",
      "        -8.0261e-01,  1.7104e+00,  2.4524e-01,  3.7533e-01, -4.1403e-01,\n",
      "        -9.4114e-01,  1.9316e-01,  1.7658e+00,  3.1952e-01,  1.2759e+00,\n",
      "        -2.2372e-01,  2.5000e-01, -1.9432e+00, -3.2790e-01, -1.3485e+00,\n",
      "        -1.8856e-01, -1.3276e+00,  2.0576e+00,  1.2784e-01, -1.7800e+00,\n",
      "         2.6438e-01,  1.0509e-01, -1.7557e+00, -9.4608e-01,  1.4791e-01,\n",
      "         5.2006e-01,  4.9894e-01,  1.0390e+00,  3.1033e-01,  9.4466e-02,\n",
      "         1.3790e-01, -1.4006e-01,  6.0689e-01,  7.2003e-01, -1.3993e-01,\n",
      "        -9.9540e-01, -1.2021e+00,  5.8135e-01, -2.7827e-01, -2.5878e+00,\n",
      "         1.6212e+00, -4.4594e-01, -4.2489e-01,  7.6902e-01,  4.7581e-01,\n",
      "        -2.5698e-01, -7.1186e-01,  2.7959e-01, -6.2588e-02, -3.1164e-01,\n",
      "        -9.0590e-01,  7.5345e-01,  3.3711e-01,  3.4688e-02, -5.4599e-01,\n",
      "         8.3751e-01, -4.0773e-01,  3.2273e-01, -8.2166e-01, -6.4925e-01,\n",
      "        -2.0243e+00,  9.2299e-01,  5.7734e-01, -1.3519e+00,  3.3440e-01,\n",
      "         1.4117e+00,  9.0708e-01, -1.5599e+00,  5.5698e-02, -2.4630e-01,\n",
      "        -4.0681e-01, -6.3202e-01,  5.6567e-01,  3.7654e-02, -5.2612e-01,\n",
      "        -1.2492e+00, -7.7409e-01, -2.3270e+00,  1.1345e+00, -1.1346e-01,\n",
      "        -6.4753e-01, -2.0306e+00,  1.1381e+00, -2.8981e-01,  9.8827e-02,\n",
      "        -9.0476e-01, -4.6892e-01, -1.2927e-01,  1.0171e+00,  1.1367e+00,\n",
      "        -1.6941e-03,  5.3006e-01, -1.1349e+00,  2.5340e+00,  1.9822e-01,\n",
      "        -1.0263e+00,  1.7852e-01, -8.5434e-01, -7.5871e-01,  2.7836e-02,\n",
      "        -1.9374e+00, -3.7658e-01,  6.7053e-01,  3.3202e-01, -4.2904e-01,\n",
      "        -4.8519e-01, -5.0664e-01, -8.9715e-01, -7.3755e-01, -1.0341e-01,\n",
      "        -1.5761e-01, -6.7184e-01,  5.7819e-03,  1.1358e+00,  1.2179e-01,\n",
      "         2.9776e-01, -1.3395e+00, -1.5803e+00, -8.4424e-01, -2.4451e-01,\n",
      "        -9.6210e-01, -6.5185e-01, -1.5429e+00], requires_grad=True)}\n",
      "\"loss_args\":             {'name': 'ce', 'weight': tensor([0.4326, 3.4729, 0.3509, 2.3723, 0.9696, 7.2651, 2.7033, 1.2027, 6.7907,\n",
      "        0.6204])}\n",
      "\"view_names\":            ['S1', 'weather', 'DEM', 'S2_S2VI']\n",
      "\"view_prediction_heads\": {'S1': Generic_Decoder(\n",
      "  (pre_decoder): MLP(\n",
      "    (layers): Sequential(\n",
      "      (0): Sequential(\n",
      "        (0): Linear(in_features=128, out_features=128, bias=True)\n",
      "        (1): ReLU()\n",
      "        (2): BatchNorm1d(128, eps=1e-05, momentum=0.1, affine=True, track_running_stats=True)\n",
      "        (3): Dropout(p=0.2, inplace=False)\n",
      "      )\n",
      "    )\n",
      "  )\n",
      "  (linear_layer): Linear(in_features=128, out_features=10, bias=True)\n",
      "), 'weather': Generic_Decoder(\n",
      "  (pre_decoder): MLP(\n",
      "    (layers): Sequential(\n",
      "      (0): Sequential(\n",
      "        (0): Linear(in_features=128, out_features=128, bias=True)\n",
      "        (1): ReLU()\n",
      "        (2): BatchNorm1d(128, eps=1e-05, momentum=0.1, affine=True, track_running_stats=True)\n",
      "        (3): Dropout(p=0.2, inplace=False)\n",
      "      )\n",
      "    )\n",
      "  )\n",
      "  (linear_layer): Linear(in_features=128, out_features=10, bias=True)\n",
      "), 'DEM': Generic_Decoder(\n",
      "  (pre_decoder): MLP(\n",
      "    (layers): Sequential(\n",
      "      (0): Sequential(\n",
      "        (0): Linear(in_features=128, out_features=128, bias=True)\n",
      "        (1): ReLU()\n",
      "        (2): BatchNorm1d(128, eps=1e-05, momentum=0.1, affine=True, track_running_stats=True)\n",
      "        (3): Dropout(p=0.2, inplace=False)\n",
      "      )\n",
      "    )\n",
      "  )\n",
      "  (linear_layer): Linear(in_features=128, out_features=10, bias=True)\n",
      "), 'S2_S2VI': Generic_Decoder(\n",
      "  (pre_decoder): MLP(\n",
      "    (layers): Sequential(\n",
      "      (0): Sequential(\n",
      "        (0): Linear(in_features=128, out_features=128, bias=True)\n",
      "        (1): ReLU()\n",
      "        (2): BatchNorm1d(128, eps=1e-05, momentum=0.1, affine=True, track_running_stats=True)\n",
      "        (3): Dropout(p=0.2, inplace=False)\n",
      "      )\n",
      "    )\n",
      "  )\n",
      "  (linear_layer): Linear(in_features=128, out_features=10, bias=True)\n",
      ")}\n",
      "Epoch 0: 100%|██████████| 155/155 [00:02<00:00, 60.40it/s, v_num=13, train_objective=6.790, train_lossS1=1.670, train_lossweather=1.800, train_lossDEM=2.090, train_lossS2_S2VI=1.230]"
     ]
    },
    {
     "name": "stderr",
     "output_type": "stream",
     "text": [
      "Metric val_objective improved. New best score: 6.796\n"
     ]
    },
    {
     "name": "stdout",
     "output_type": "stream",
     "text": [
      "Epoch 1: 100%|██████████| 155/155 [00:02<00:00, 61.13it/s, v_num=13, train_objective=6.770, train_lossS1=1.480, train_lossweather=1.670, train_lossDEM=2.100, train_lossS2_S2VI=1.520]"
     ]
    },
    {
     "name": "stderr",
     "output_type": "stream",
     "text": [
      "Metric val_objective improved by 0.325 >= min_delta = 0.04. New best score: 6.471\n"
     ]
    },
    {
     "name": "stdout",
     "output_type": "stream",
     "text": [
      "Epoch 2: 100%|██████████| 155/155 [00:02<00:00, 61.30it/s, v_num=13, train_objective=6.890, train_lossS1=1.760, train_lossweather=1.740, train_lossDEM=2.160, train_lossS2_S2VI=1.230]"
     ]
    },
    {
     "name": "stderr",
     "output_type": "stream",
     "text": [
      "Metric val_objective improved by 0.249 >= min_delta = 0.04. New best score: 6.223\n",
      "`Trainer.fit` stopped: `max_epochs=3` reached.\n"
     ]
    },
    {
     "name": "stdout",
     "output_type": "stream",
     "text": [
      "Epoch 2: 100%|██████████| 155/155 [00:02<00:00, 58.24it/s, v_num=13, train_objective=6.890, train_lossS1=1.760, train_lossweather=1.740, train_lossDEM=2.160, train_lossS2_S2VI=1.230]\n",
      "Training done\n",
      "Inference with the following views  ['S2_S2VI']  and percentage missing  1.0\n",
      "Fold 2/3 of Run 1/1 in PoolSensInv-Forw_S2_S2VI finished...\n",
      "Inference with the following views  ['S2_S2VI', 'S1']  and percentage missing  1.0\n",
      "Fold 2/3 of Run 1/1 in PoolSensInv-Forw_S2_S2VI_S1 finished...\n",
      "Inference with the following views  ['S1', 'weather', 'DEM']  and percentage missing  1.0\n",
      "Fold 2/3 of Run 1/1 in PoolSensInv-Forw_S1_weather_DEM finished...\n",
      "Fold 2/3 of Run 1/1 in PoolSensInv finished...\n",
      "******************************** Executing model on run 1 and kfold 3\n",
      "You select 5 views from the 8 available, you could use get_view_names() to check which are available, the selected views are ['S1', 'weather', 'DEM', 'S2', 'S2VI'], with additional views ['S2_S2VI']\n",
      "first dimension of list will be the views, instead of the standard of n-samples\n"
     ]
    },
    {
     "name": "stderr",
     "output_type": "stream",
     "text": [
      "100%|██████████| 29642/29642 [00:00<00:00, 248668.05it/s]\n"
     ]
    },
    {
     "name": "stdout",
     "output_type": "stream",
     "text": [
      "You select 5 views from the 8 available, you could use get_view_names() to check which are available, the selected views are ['S1', 'weather', 'DEM', 'S2', 'S2VI'], with additional views ['S2_S2VI']\n",
      "first dimension of list will be the views, instead of the standard of n-samples\n"
     ]
    },
    {
     "name": "stderr",
     "output_type": "stream",
     "text": [
      "100%|██████████| 29642/29642 [00:00<00:00, 355520.23it/s]\n",
      "/home/mena/Documents/repos/com-views/src/datasets/views_loader.py:8: RuntimeWarning: divide by zero encountered in remainder\n",
      "  if v % int(v) == 0:\n",
      "GPU available: True (cuda), used: True\n",
      "TPU available: False, using: 0 TPU cores\n",
      "IPU available: False, using: 0 IPUs\n",
      "HPU available: False, using: 0 HPUs\n",
      "You are using a CUDA device ('NVIDIA GeForce RTX 3080 Laptop GPU') that has Tensor Cores. To properly utilize them, you should set `torch.set_float32_matmul_precision('medium' | 'high')` which will trade-off precision for performance. For more details, read https://pytorch.org/docs/stable/generated/torch.set_float32_matmul_precision.html#torch.set_float32_matmul_precision\n",
      "/home/mena/miniconda3/envs/views2/lib/python3.8/site-packages/pytorch_lightning/callbacks/model_checkpoint.py:612: UserWarning: Checkpoint directory /home/mena/Documents/repos/com-views/config_time/aux/run-saves/checkpoint_logs/cropharvest_multi_train/PoolSensInv exists and is not empty.\n",
      "  rank_zero_warn(f\"Checkpoint directory {dirpath} exists and is not empty.\")\n",
      "LOCAL_RANK: 0 - CUDA_VISIBLE_DEVICES: [0]\n",
      "\n",
      "  | Name                   | Type                | Params\n",
      "---------------------------------------------------------------\n",
      "0 | views_encoder          | ModuleDict          | 3.1 M \n",
      "1 | fusion_module          | Identity            | 0     \n",
      "2 | prediction_head        | Identity            | 0     \n",
      "3 | criteria               | CrossEntropyLoss    | 0     \n",
      "4 | view_prediction_heads  | ModuleDict          | 18.1 K\n",
      "5 | prediction_aggregation | FusionModuleMissing | 0     \n",
      "6 | awareness_vectors      | ParameterDict       | 512   \n",
      "---------------------------------------------------------------\n",
      "3.1 M     Trainable params\n",
      "0         Non-trainable params\n",
      "3.1 M     Total params\n",
      "12.406    Total estimated model params size (MB)\n"
     ]
    },
    {
     "name": "stdout",
     "output_type": "stream",
     "text": [
      "Training with 19762 samples and validating on 9880\n",
      "int64 [0 0 0 ... 9 9 9]\n",
      "Initial parameters of model: \"awareness_merge\":       sum\n",
      "\"awareness_vectors\":     {'S1': Parameter containing:\n",
      "tensor([ 1.6668, -0.2219, -2.1134, -1.4436,  2.4940,  0.1379, -1.4758, -0.2208,\n",
      "         0.3123, -1.2775, -0.6295, -0.0307,  0.4019,  0.5908,  0.5509, -2.3739,\n",
      "        -1.0316,  1.3998,  1.1562,  0.6910, -1.0142,  0.8972, -0.2620, -0.4217,\n",
      "        -1.2905, -1.4578, -1.0697, -0.8246, -0.3301,  0.7081, -1.3324, -0.9900,\n",
      "         0.2505, -0.6354, -0.7918, -0.5120,  0.3808,  1.3468,  0.7231, -0.7164,\n",
      "         0.0397,  0.9861, -1.0647, -0.2244, -0.4202,  0.2494,  0.9449, -0.0314,\n",
      "        -0.4510,  1.1760, -1.6351, -0.7125, -1.8649, -1.2066, -0.6724, -1.5439,\n",
      "         0.7037, -0.4901,  1.6456,  0.7951,  0.5383, -0.3234, -0.1371,  0.6252,\n",
      "        -0.3055,  0.1392, -2.9289, -0.3920,  0.2101, -0.7783,  0.9359,  0.2583,\n",
      "        -0.1365,  0.3966, -0.2426, -0.2286, -1.8243,  0.2455,  0.2641,  0.0713,\n",
      "         1.4191, -0.5491,  1.0681, -0.5618,  0.6817,  0.7325,  2.6083, -0.2021,\n",
      "         0.8493,  0.5135,  0.8095, -0.3295, -1.5010,  0.3999, -0.3663,  0.5931,\n",
      "        -1.3564,  0.3961,  0.2214, -0.3643, -0.4202, -1.5201,  0.3360, -0.2103,\n",
      "        -1.7154, -0.6146, -0.6769,  0.4842, -1.1086,  1.1355,  0.4379,  1.2328,\n",
      "        -0.4588,  0.2813, -0.0740, -2.0968,  0.2505,  2.4279,  0.1778, -1.9806,\n",
      "        -0.2406,  0.6458, -0.9614, -1.0197, -0.6490, -1.6816, -1.5445, -1.7861],\n",
      "       requires_grad=True), 'weather': Parameter containing:\n",
      "tensor([-0.2674,  1.2672,  0.2761,  1.2400, -0.2274,  0.8401,  1.4938, -0.6639,\n",
      "        -1.0610, -1.1101, -0.3667, -1.7294, -0.2320,  1.3506, -0.3478, -0.3841,\n",
      "        -0.6978,  0.3741, -0.6757, -0.7747, -1.0166, -2.3116,  0.2104,  0.7841,\n",
      "        -0.9500,  0.5610, -0.8546, -0.6742, -1.2090,  0.8209,  1.8132,  3.0074,\n",
      "        -1.2341, -0.9928,  0.7911, -0.7304,  0.1630, -0.8764, -2.0849,  0.1941,\n",
      "         0.0093, -0.5979, -0.5512,  1.0269, -2.1299, -0.0486, -2.5157,  1.1560,\n",
      "         0.2124, -0.1694,  0.6857,  0.4569,  0.6841,  0.0670,  0.2543, -0.5975,\n",
      "        -0.3549,  1.6795,  0.3118, -0.7028, -1.7728, -0.5377, -0.1804, -0.4189,\n",
      "         0.9436,  0.3480, -1.9510, -1.4457,  1.7149, -0.3943, -0.5911, -0.5022,\n",
      "         1.5575, -0.5334,  0.5760,  0.2357,  0.8366, -0.0940,  1.0025,  1.2413,\n",
      "        -0.7345, -0.2978, -0.7385,  1.2627, -0.0865,  0.4345,  0.8827, -1.2725,\n",
      "         0.8649,  0.5033,  0.8769, -1.2419,  0.9841,  1.1780,  1.5566, -0.2613,\n",
      "         1.0432,  0.6726, -0.9807,  0.5343, -0.3759, -0.3666, -2.4660, -1.0078,\n",
      "        -1.1642,  0.5608,  0.2437, -0.2328, -1.4882, -0.2377,  1.7233,  1.8721,\n",
      "        -0.4207, -0.9144,  0.2682,  0.6450, -0.2402, -1.4519,  0.1675,  0.7107,\n",
      "         0.6090, -0.9015, -0.5711,  0.6884,  0.4867, -1.4665,  0.9092, -0.1663],\n",
      "       requires_grad=True), 'DEM': Parameter containing:\n",
      "tensor([ 1.1239, -0.1799, -2.0964, -0.6679,  1.1036, -0.0185, -1.5827,  0.8733,\n",
      "         0.3096, -0.4477,  0.9540, -1.0648,  0.6566,  0.8156,  1.5418,  1.1781,\n",
      "         0.2757,  0.2268, -1.3403,  0.7985, -0.0254, -0.3512, -0.3121, -1.3929,\n",
      "         1.1507,  0.6980, -1.1388,  0.9507, -0.3649, -1.0150,  0.2119,  0.1961,\n",
      "        -0.6136, -0.6809,  0.1781,  0.3337,  0.6238,  0.8280, -0.9741, -1.0190,\n",
      "         0.3250, -0.0808, -1.0313, -1.9343, -0.2068,  0.2451, -0.5933, -0.4621,\n",
      "         1.1986,  0.9762, -1.4818, -0.3730, -0.0031, -2.1268,  0.2257,  1.3802,\n",
      "         1.3024,  0.1558, -0.5482,  1.4945, -1.1449, -0.5220,  0.9840,  0.1356,\n",
      "        -0.7244,  1.0490, -0.9645,  0.4576,  0.1695, -1.6847, -0.2225, -1.1213,\n",
      "        -0.4063, -0.3263,  0.8869, -0.9427,  1.4605,  2.0200, -1.7777, -0.1891,\n",
      "         0.5521,  0.2568,  2.3739, -0.9123,  0.6368, -1.4400, -0.4774,  1.1872,\n",
      "        -0.0328,  0.4041,  0.2343, -1.0200,  1.1803,  0.8720,  0.9661, -0.3863,\n",
      "         2.0085, -0.9690,  0.8454,  0.2265, -1.6199,  0.0117, -0.9618, -0.6820,\n",
      "         0.1792,  1.8203,  0.1739,  0.6382,  1.3931,  0.7985,  0.2452,  0.8504,\n",
      "        -1.0771, -1.0913, -0.1659,  0.1093,  1.3464, -1.6448, -0.8428, -1.4087,\n",
      "        -1.8701,  1.0403,  0.6374, -0.4944,  0.6307, -0.4209, -0.1197,  1.0491],\n",
      "       requires_grad=True), 'S2_S2VI': Parameter containing:\n",
      "tensor([-0.6573, -1.1902,  1.7461, -0.0905,  1.6648,  1.2098, -0.6442, -0.3544,\n",
      "        -1.5255, -0.3776, -2.3424, -2.6448, -0.0741, -0.0837, -1.2522, -0.5530,\n",
      "         1.7780, -1.0975, -0.0459, -1.1967,  1.1727,  0.6011, -0.5083,  0.4622,\n",
      "        -1.6629,  0.4481, -0.2931,  0.1064, -0.5602,  0.5835, -0.2345, -0.0938,\n",
      "         1.3501, -1.3801,  1.7583,  0.6032,  0.9648, -0.8335, -1.8819, -1.4469,\n",
      "        -2.5441, -0.3146,  0.4813, -0.3059,  0.2776,  1.1940,  1.2953,  0.0128,\n",
      "         0.1688,  2.1093,  1.2941,  1.6418,  0.3166,  1.4074, -1.5918,  0.6508,\n",
      "        -2.2670, -0.4225, -1.1271,  0.8834,  0.2876,  1.4480,  1.7388, -1.1791,\n",
      "         0.4974, -0.2307, -0.8258, -0.7444, -1.0742,  1.7197,  0.6300,  1.2077,\n",
      "         1.0829,  0.0077,  0.3752, -0.0626, -0.6611,  0.4957,  0.2037,  0.2453,\n",
      "        -0.0403,  2.0839,  0.2913, -1.7231, -0.8514,  0.4600, -0.0380,  1.3294,\n",
      "         1.0119,  0.0756, -2.2502,  0.0784, -1.8646, -0.0172,  0.7724,  1.6964,\n",
      "        -0.3568, -0.8709, -0.0748,  1.9170,  0.4692,  0.0989,  0.0546, -2.3529,\n",
      "        -1.1573, -0.1806,  0.9242,  0.6576,  1.1719, -1.7990,  0.5570,  0.7038,\n",
      "        -0.2839,  0.1132, -1.6426,  1.0552, -0.2272, -0.4297,  1.2467, -1.0208,\n",
      "         0.6792, -2.0139, -0.7668, -0.6934, -1.6133, -0.2985,  0.7001,  1.2434],\n",
      "       requires_grad=True)}\n",
      "\"loss_args\":             {'name': 'ce', 'weight': tensor([0.4402, 3.3666, 0.3497, 2.2741, 0.9635, 6.8381, 2.7333, 1.1941, 7.3739,\n",
      "        0.6214])}\n",
      "\"view_names\":            ['S1', 'weather', 'DEM', 'S2_S2VI']\n",
      "\"view_prediction_heads\": {'S1': Generic_Decoder(\n",
      "  (pre_decoder): MLP(\n",
      "    (layers): Sequential(\n",
      "      (0): Sequential(\n",
      "        (0): Linear(in_features=128, out_features=128, bias=True)\n",
      "        (1): ReLU()\n",
      "        (2): BatchNorm1d(128, eps=1e-05, momentum=0.1, affine=True, track_running_stats=True)\n",
      "        (3): Dropout(p=0.2, inplace=False)\n",
      "      )\n",
      "    )\n",
      "  )\n",
      "  (linear_layer): Linear(in_features=128, out_features=10, bias=True)\n",
      "), 'weather': Generic_Decoder(\n",
      "  (pre_decoder): MLP(\n",
      "    (layers): Sequential(\n",
      "      (0): Sequential(\n",
      "        (0): Linear(in_features=128, out_features=128, bias=True)\n",
      "        (1): ReLU()\n",
      "        (2): BatchNorm1d(128, eps=1e-05, momentum=0.1, affine=True, track_running_stats=True)\n",
      "        (3): Dropout(p=0.2, inplace=False)\n",
      "      )\n",
      "    )\n",
      "  )\n",
      "  (linear_layer): Linear(in_features=128, out_features=10, bias=True)\n",
      "), 'DEM': Generic_Decoder(\n",
      "  (pre_decoder): MLP(\n",
      "    (layers): Sequential(\n",
      "      (0): Sequential(\n",
      "        (0): Linear(in_features=128, out_features=128, bias=True)\n",
      "        (1): ReLU()\n",
      "        (2): BatchNorm1d(128, eps=1e-05, momentum=0.1, affine=True, track_running_stats=True)\n",
      "        (3): Dropout(p=0.2, inplace=False)\n",
      "      )\n",
      "    )\n",
      "  )\n",
      "  (linear_layer): Linear(in_features=128, out_features=10, bias=True)\n",
      "), 'S2_S2VI': Generic_Decoder(\n",
      "  (pre_decoder): MLP(\n",
      "    (layers): Sequential(\n",
      "      (0): Sequential(\n",
      "        (0): Linear(in_features=128, out_features=128, bias=True)\n",
      "        (1): ReLU()\n",
      "        (2): BatchNorm1d(128, eps=1e-05, momentum=0.1, affine=True, track_running_stats=True)\n",
      "        (3): Dropout(p=0.2, inplace=False)\n",
      "      )\n",
      "    )\n",
      "  )\n",
      "  (linear_layer): Linear(in_features=128, out_features=10, bias=True)\n",
      ")}\n",
      "Epoch 0: 100%|██████████| 155/155 [00:02<00:00, 60.88it/s, v_num=14, train_objective=6.720, train_lossS1=1.590, train_lossweather=1.670, train_lossDEM=2.150, train_lossS2_S2VI=1.310]"
     ]
    },
    {
     "name": "stderr",
     "output_type": "stream",
     "text": [
      "Metric val_objective improved. New best score: 6.741\n"
     ]
    },
    {
     "name": "stdout",
     "output_type": "stream",
     "text": [
      "Epoch 1: 100%|██████████| 155/155 [00:02<00:00, 59.73it/s, v_num=14, train_objective=5.950, train_lossS1=1.510, train_lossweather=1.480, train_lossDEM=1.920, train_lossS2_S2VI=1.040]"
     ]
    },
    {
     "name": "stderr",
     "output_type": "stream",
     "text": [
      "Metric val_objective improved by 0.231 >= min_delta = 0.04. New best score: 6.510\n"
     ]
    },
    {
     "name": "stdout",
     "output_type": "stream",
     "text": [
      "Epoch 2: 100%|██████████| 155/155 [00:02<00:00, 62.18it/s, v_num=14, train_objective=6.260, train_lossS1=1.540, train_lossweather=1.490, train_lossDEM=2.050, train_lossS2_S2VI=1.180]"
     ]
    },
    {
     "name": "stderr",
     "output_type": "stream",
     "text": [
      "Metric val_objective improved by 0.242 >= min_delta = 0.04. New best score: 6.268\n",
      "`Trainer.fit` stopped: `max_epochs=3` reached.\n"
     ]
    },
    {
     "name": "stdout",
     "output_type": "stream",
     "text": [
      "Epoch 2: 100%|██████████| 155/155 [00:02<00:00, 58.98it/s, v_num=14, train_objective=6.260, train_lossS1=1.540, train_lossweather=1.490, train_lossDEM=2.050, train_lossS2_S2VI=1.180]\n",
      "Training done\n",
      "Inference with the following views  ['S2_S2VI']  and percentage missing  1.0\n",
      "Fold 3/3 of Run 1/1 in PoolSensInv-Forw_S2_S2VI finished...\n",
      "Inference with the following views  ['S2_S2VI', 'S1']  and percentage missing  1.0\n",
      "Fold 3/3 of Run 1/1 in PoolSensInv-Forw_S2_S2VI_S1 finished...\n",
      "Inference with the following views  ['S1', 'weather', 'DEM']  and percentage missing  1.0\n",
      "Fold 3/3 of Run 1/1 in PoolSensInv-Forw_S1_weather_DEM finished...\n",
      "Fold 3/3 of Run 1/1 in PoolSensInv finished...\n",
      "Epochs for PoolSensInv runs on average for 0.00 epochs +- 0.000\n",
      "Finished whole execution of 1 runs in 34.74 secs\n",
      "Normalize views\n",
      "******************************** Executing model on run 1 and kfold 1\n",
      "You select 5 views from the 8 available, you could use get_view_names() to check which are available, the selected views are ['S1', 'weather', 'DEM', 'S2', 'S2VI'], with additional views ['S2_S2VI']\n",
      "first dimension of list will be the views, instead of the standard of n-samples\n"
     ]
    },
    {
     "name": "stderr",
     "output_type": "stream",
     "text": [
      "100%|██████████| 29642/29642 [00:00<00:00, 247361.42it/s]\n"
     ]
    },
    {
     "name": "stdout",
     "output_type": "stream",
     "text": [
      "You select 5 views from the 8 available, you could use get_view_names() to check which are available, the selected views are ['S1', 'weather', 'DEM', 'S2', 'S2VI'], with additional views ['S2_S2VI']\n",
      "first dimension of list will be the views, instead of the standard of n-samples\n"
     ]
    },
    {
     "name": "stderr",
     "output_type": "stream",
     "text": [
      "100%|██████████| 29642/29642 [00:00<00:00, 424237.82it/s]\n",
      "/home/mena/miniconda3/envs/views2/lib/python3.8/site-packages/pytorch_lightning/utilities/parsing.py:197: UserWarning: Attribute 'predictive_model' is an instance of `nn.Module` and is already saved during checkpointing. It is recommended to ignore them using `self.save_hyperparameters(ignore=['predictive_model'])`.\n",
      "  rank_zero_warn(\n",
      "/home/mena/Documents/repos/com-views/src/datasets/views_loader.py:8: RuntimeWarning: divide by zero encountered in remainder\n",
      "  if v % int(v) == 0:\n",
      "GPU available: True (cuda), used: True\n",
      "TPU available: False, using: 0 TPU cores\n",
      "IPU available: False, using: 0 IPUs\n",
      "HPU available: False, using: 0 HPUs\n",
      "You are using a CUDA device ('NVIDIA GeForce RTX 3080 Laptop GPU') that has Tensor Cores. To properly utilize them, you should set `torch.set_float32_matmul_precision('medium' | 'high')` which will trade-off precision for performance. For more details, read https://pytorch.org/docs/stable/generated/torch.set_float32_matmul_precision.html#torch.set_float32_matmul_precision\n",
      "LOCAL_RANK: 0 - CUDA_VISIBLE_DEVICES: [0]\n",
      "\n",
      "  | Name            | Type                | Params\n",
      "--------------------------------------------------------\n",
      "0 | views_encoder   | ModuleDict          | 3.1 M \n",
      "1 | fusion_module   | FusionModuleMissing | 0     \n",
      "2 | prediction_head | Generic_Decoder     | 18.1 K\n",
      "3 | criteria        | CrossEntropyLoss    | 0     \n",
      "--------------------------------------------------------\n",
      "3.1 M     Trainable params\n",
      "0         Non-trainable params\n",
      "3.1 M     Total params\n",
      "12.408    Total estimated model params size (MB)\n"
     ]
    },
    {
     "name": "stdout",
     "output_type": "stream",
     "text": [
      "Training with 19761 samples and validating on 9881\n",
      "Initial parameters of model: \"loss_args\":        {'name': 'ce', 'weight': tensor([0.4382, 3.3954, 0.3491, 2.3525, 0.9478, 7.0324, 2.7033, 1.1805, 7.4011,\n",
      "        0.6311])}\n",
      "\"predictive_model\": Generic_Decoder(\n",
      "  (pre_decoder): MLP(\n",
      "    (layers): Sequential(\n",
      "      (0): Sequential(\n",
      "        (0): Linear(in_features=128, out_features=128, bias=True)\n",
      "        (1): ReLU()\n",
      "        (2): BatchNorm1d(128, eps=1e-05, momentum=0.1, affine=True, track_running_stats=True)\n",
      "        (3): Dropout(p=0.2, inplace=False)\n",
      "      )\n",
      "    )\n",
      "  )\n",
      "  (linear_layer): Linear(in_features=128, out_features=10, bias=True)\n",
      ")\n",
      "\"view_names\":       ['S1', 'weather', 'DEM', 'S2_S2VI']\n",
      "The missing as augmentation was set on with an augmentation of  15 and following missing_method = {'name': 'ignore', 'where': '', 'value_fill': None}\n",
      "Epoch 0: 100%|██████████| 155/155 [00:03<00:00, 44.92it/s, v_num=15, train_objective=1.530, train_fullview=1.210, train_missingview=1.550]"
     ]
    },
    {
     "name": "stderr",
     "output_type": "stream",
     "text": [
      "Metric val_objective improved. New best score: 1.013\n"
     ]
    },
    {
     "name": "stdout",
     "output_type": "stream",
     "text": [
      "Epoch 1: 100%|██████████| 155/155 [00:03<00:00, 42.27it/s, v_num=15, train_objective=1.450, train_fullview=1.150, train_missingview=1.470]"
     ]
    },
    {
     "name": "stderr",
     "output_type": "stream",
     "text": [
      "Metric val_objective improved by 0.084 >= min_delta = 0.01. New best score: 0.928\n"
     ]
    },
    {
     "name": "stdout",
     "output_type": "stream",
     "text": [
      "Epoch 2: 100%|██████████| 155/155 [00:03<00:00, 42.90it/s, v_num=15, train_objective=1.140, train_fullview=0.886, train_missingview=1.160]"
     ]
    },
    {
     "name": "stderr",
     "output_type": "stream",
     "text": [
      "Metric val_objective improved by 0.037 >= min_delta = 0.01. New best score: 0.891\n",
      "`Trainer.fit` stopped: `max_epochs=3` reached.\n"
     ]
    },
    {
     "name": "stdout",
     "output_type": "stream",
     "text": [
      "Epoch 2: 100%|██████████| 155/155 [00:03<00:00, 41.32it/s, v_num=15, train_objective=1.140, train_fullview=0.886, train_missingview=1.160]\n",
      "Training done\n",
      "Inference with the following views  ['S2_S2VI']  and percentage missing  1.0\n",
      "Fold 1/3 of Run 1/1 in Feat_avg_ignore-MAUG-ignore-Forw_S2_S2VI finished...\n",
      "Inference with the following views  ['S2_S2VI', 'S1']  and percentage missing  1.0\n",
      "Fold 1/3 of Run 1/1 in Feat_avg_ignore-MAUG-ignore-Forw_S2_S2VI_S1 finished...\n",
      "Inference with the following views  ['S1', 'weather', 'DEM']  and percentage missing  1.0\n",
      "Fold 1/3 of Run 1/1 in Feat_avg_ignore-MAUG-ignore-Forw_S1_weather_DEM finished...\n",
      "Fold 1/3 of Run 1/1 in Feat_avg_ignore-MAUG-ignore finished...\n",
      "******************************** Executing model on run 1 and kfold 2\n",
      "You select 5 views from the 8 available, you could use get_view_names() to check which are available, the selected views are ['S1', 'weather', 'DEM', 'S2', 'S2VI'], with additional views ['S2_S2VI']\n",
      "first dimension of list will be the views, instead of the standard of n-samples\n"
     ]
    },
    {
     "name": "stderr",
     "output_type": "stream",
     "text": [
      "100%|██████████| 29642/29642 [00:00<00:00, 223051.48it/s]\n"
     ]
    },
    {
     "name": "stdout",
     "output_type": "stream",
     "text": [
      "You select 5 views from the 8 available, you could use get_view_names() to check which are available, the selected views are ['S1', 'weather', 'DEM', 'S2', 'S2VI'], with additional views ['S2_S2VI']\n",
      "first dimension of list will be the views, instead of the standard of n-samples\n"
     ]
    },
    {
     "name": "stderr",
     "output_type": "stream",
     "text": [
      "100%|██████████| 29642/29642 [00:00<00:00, 361807.53it/s]\n",
      "/home/mena/miniconda3/envs/views2/lib/python3.8/site-packages/pytorch_lightning/utilities/parsing.py:197: UserWarning: Attribute 'predictive_model' is an instance of `nn.Module` and is already saved during checkpointing. It is recommended to ignore them using `self.save_hyperparameters(ignore=['predictive_model'])`.\n",
      "  rank_zero_warn(\n",
      "/home/mena/Documents/repos/com-views/src/datasets/views_loader.py:8: RuntimeWarning: divide by zero encountered in remainder\n",
      "  if v % int(v) == 0:\n",
      "GPU available: True (cuda), used: True\n",
      "TPU available: False, using: 0 TPU cores\n",
      "IPU available: False, using: 0 IPUs\n",
      "HPU available: False, using: 0 HPUs\n",
      "You are using a CUDA device ('NVIDIA GeForce RTX 3080 Laptop GPU') that has Tensor Cores. To properly utilize them, you should set `torch.set_float32_matmul_precision('medium' | 'high')` which will trade-off precision for performance. For more details, read https://pytorch.org/docs/stable/generated/torch.set_float32_matmul_precision.html#torch.set_float32_matmul_precision\n",
      "/home/mena/miniconda3/envs/views2/lib/python3.8/site-packages/pytorch_lightning/callbacks/model_checkpoint.py:612: UserWarning: Checkpoint directory /home/mena/Documents/repos/com-views/config_time/aux/run-saves/checkpoint_logs/cropharvest_multi_train/Feat_avg_ignore-MAUG-ignore exists and is not empty.\n",
      "  rank_zero_warn(f\"Checkpoint directory {dirpath} exists and is not empty.\")\n",
      "LOCAL_RANK: 0 - CUDA_VISIBLE_DEVICES: [0]\n",
      "\n",
      "  | Name            | Type                | Params\n",
      "--------------------------------------------------------\n",
      "0 | views_encoder   | ModuleDict          | 3.1 M \n",
      "1 | fusion_module   | FusionModuleMissing | 0     \n",
      "2 | prediction_head | Generic_Decoder     | 18.1 K\n",
      "3 | criteria        | CrossEntropyLoss    | 0     \n",
      "--------------------------------------------------------\n",
      "3.1 M     Trainable params\n",
      "0         Non-trainable params\n",
      "3.1 M     Total params\n",
      "12.408    Total estimated model params size (MB)\n"
     ]
    },
    {
     "name": "stdout",
     "output_type": "stream",
     "text": [
      "Training with 19761 samples and validating on 9881\n",
      "Initial parameters of model: \"loss_args\":        {'name': 'ce', 'weight': tensor([0.4306, 3.5670, 0.3493, 2.3609, 0.9935, 7.3735, 2.6959, 1.1762, 7.0324,\n",
      "        0.6228])}\n",
      "\"predictive_model\": Generic_Decoder(\n",
      "  (pre_decoder): MLP(\n",
      "    (layers): Sequential(\n",
      "      (0): Sequential(\n",
      "        (0): Linear(in_features=128, out_features=128, bias=True)\n",
      "        (1): ReLU()\n",
      "        (2): BatchNorm1d(128, eps=1e-05, momentum=0.1, affine=True, track_running_stats=True)\n",
      "        (3): Dropout(p=0.2, inplace=False)\n",
      "      )\n",
      "    )\n",
      "  )\n",
      "  (linear_layer): Linear(in_features=128, out_features=10, bias=True)\n",
      ")\n",
      "\"view_names\":       ['S1', 'weather', 'DEM', 'S2_S2VI']\n",
      "The missing as augmentation was set on with an augmentation of  15 and following missing_method = {'name': 'ignore', 'where': '', 'value_fill': None}\n",
      "Epoch 0: 100%|██████████| 155/155 [00:03<00:00, 40.10it/s, v_num=16, train_objective=1.200, train_fullview=0.864, train_missingview=1.220]"
     ]
    },
    {
     "name": "stderr",
     "output_type": "stream",
     "text": [
      "Metric val_objective improved. New best score: 1.018\n"
     ]
    },
    {
     "name": "stdout",
     "output_type": "stream",
     "text": [
      "Epoch 1: 100%|██████████| 155/155 [00:03<00:00, 42.53it/s, v_num=16, train_objective=1.280, train_fullview=0.940, train_missingview=1.310]"
     ]
    },
    {
     "name": "stderr",
     "output_type": "stream",
     "text": [
      "Metric val_objective improved by 0.102 >= min_delta = 0.01. New best score: 0.916\n"
     ]
    },
    {
     "name": "stdout",
     "output_type": "stream",
     "text": [
      "Epoch 2: 100%|██████████| 155/155 [00:03<00:00, 43.50it/s, v_num=16, train_objective=1.360, train_fullview=1.220, train_missingview=1.370]"
     ]
    },
    {
     "name": "stderr",
     "output_type": "stream",
     "text": [
      "Metric val_objective improved by 0.049 >= min_delta = 0.01. New best score: 0.867\n",
      "`Trainer.fit` stopped: `max_epochs=3` reached.\n"
     ]
    },
    {
     "name": "stdout",
     "output_type": "stream",
     "text": [
      "Epoch 2: 100%|██████████| 155/155 [00:03<00:00, 41.94it/s, v_num=16, train_objective=1.360, train_fullview=1.220, train_missingview=1.370]\n",
      "Training done\n",
      "Inference with the following views  ['S2_S2VI']  and percentage missing  1.0\n",
      "Fold 2/3 of Run 1/1 in Feat_avg_ignore-MAUG-ignore-Forw_S2_S2VI finished...\n",
      "Inference with the following views  ['S2_S2VI', 'S1']  and percentage missing  1.0\n",
      "Fold 2/3 of Run 1/1 in Feat_avg_ignore-MAUG-ignore-Forw_S2_S2VI_S1 finished...\n",
      "Inference with the following views  ['S1', 'weather', 'DEM']  and percentage missing  1.0\n",
      "Fold 2/3 of Run 1/1 in Feat_avg_ignore-MAUG-ignore-Forw_S1_weather_DEM finished...\n",
      "Fold 2/3 of Run 1/1 in Feat_avg_ignore-MAUG-ignore finished...\n",
      "******************************** Executing model on run 1 and kfold 3\n",
      "You select 5 views from the 8 available, you could use get_view_names() to check which are available, the selected views are ['S1', 'weather', 'DEM', 'S2', 'S2VI'], with additional views ['S2_S2VI']\n",
      "first dimension of list will be the views, instead of the standard of n-samples\n"
     ]
    },
    {
     "name": "stderr",
     "output_type": "stream",
     "text": [
      "100%|██████████| 29642/29642 [00:00<00:00, 231881.29it/s]\n"
     ]
    },
    {
     "name": "stdout",
     "output_type": "stream",
     "text": [
      "You select 5 views from the 8 available, you could use get_view_names() to check which are available, the selected views are ['S1', 'weather', 'DEM', 'S2', 'S2VI'], with additional views ['S2_S2VI']\n",
      "first dimension of list will be the views, instead of the standard of n-samples\n"
     ]
    },
    {
     "name": "stderr",
     "output_type": "stream",
     "text": [
      "100%|██████████| 29642/29642 [00:00<00:00, 440579.46it/s]\n",
      "/home/mena/miniconda3/envs/views2/lib/python3.8/site-packages/pytorch_lightning/utilities/parsing.py:197: UserWarning: Attribute 'predictive_model' is an instance of `nn.Module` and is already saved during checkpointing. It is recommended to ignore them using `self.save_hyperparameters(ignore=['predictive_model'])`.\n",
      "  rank_zero_warn(\n",
      "/home/mena/Documents/repos/com-views/src/datasets/views_loader.py:8: RuntimeWarning: divide by zero encountered in remainder\n",
      "  if v % int(v) == 0:\n",
      "GPU available: True (cuda), used: True\n",
      "TPU available: False, using: 0 TPU cores\n",
      "IPU available: False, using: 0 IPUs\n",
      "HPU available: False, using: 0 HPUs\n",
      "You are using a CUDA device ('NVIDIA GeForce RTX 3080 Laptop GPU') that has Tensor Cores. To properly utilize them, you should set `torch.set_float32_matmul_precision('medium' | 'high')` which will trade-off precision for performance. For more details, read https://pytorch.org/docs/stable/generated/torch.set_float32_matmul_precision.html#torch.set_float32_matmul_precision\n",
      "/home/mena/miniconda3/envs/views2/lib/python3.8/site-packages/pytorch_lightning/callbacks/model_checkpoint.py:612: UserWarning: Checkpoint directory /home/mena/Documents/repos/com-views/config_time/aux/run-saves/checkpoint_logs/cropharvest_multi_train/Feat_avg_ignore-MAUG-ignore exists and is not empty.\n",
      "  rank_zero_warn(f\"Checkpoint directory {dirpath} exists and is not empty.\")\n",
      "LOCAL_RANK: 0 - CUDA_VISIBLE_DEVICES: [0]\n",
      "\n",
      "  | Name            | Type                | Params\n",
      "--------------------------------------------------------\n",
      "0 | views_encoder   | ModuleDict          | 3.1 M \n",
      "1 | fusion_module   | FusionModuleMissing | 0     \n",
      "2 | prediction_head | Generic_Decoder     | 18.1 K\n",
      "3 | criteria        | CrossEntropyLoss    | 0     \n",
      "--------------------------------------------------------\n",
      "3.1 M     Trainable params\n",
      "0         Non-trainable params\n",
      "3.1 M     Total params\n",
      "12.408    Total estimated model params size (MB)\n"
     ]
    },
    {
     "name": "stdout",
     "output_type": "stream",
     "text": [
      "Training with 19762 samples and validating on 9880\n",
      "Initial parameters of model: \"loss_args\":        {'name': 'ce', 'weight': tensor([0.4371, 3.3158, 0.3486, 2.3277, 0.9773, 7.4574, 2.6778, 1.2035, 6.9585,\n",
      "        0.6222])}\n",
      "\"predictive_model\": Generic_Decoder(\n",
      "  (pre_decoder): MLP(\n",
      "    (layers): Sequential(\n",
      "      (0): Sequential(\n",
      "        (0): Linear(in_features=128, out_features=128, bias=True)\n",
      "        (1): ReLU()\n",
      "        (2): BatchNorm1d(128, eps=1e-05, momentum=0.1, affine=True, track_running_stats=True)\n",
      "        (3): Dropout(p=0.2, inplace=False)\n",
      "      )\n",
      "    )\n",
      "  )\n",
      "  (linear_layer): Linear(in_features=128, out_features=10, bias=True)\n",
      ")\n",
      "\"view_names\":       ['S1', 'weather', 'DEM', 'S2_S2VI']\n",
      "The missing as augmentation was set on with an augmentation of  15 and following missing_method = {'name': 'ignore', 'where': '', 'value_fill': None}\n",
      "Epoch 0: 100%|██████████| 155/155 [00:03<00:00, 43.68it/s, v_num=17, train_objective=1.380, train_fullview=1.150, train_missingview=1.400]"
     ]
    },
    {
     "name": "stderr",
     "output_type": "stream",
     "text": [
      "Metric val_objective improved. New best score: 1.036\n"
     ]
    },
    {
     "name": "stdout",
     "output_type": "stream",
     "text": [
      "Epoch 1: 100%|██████████| 155/155 [00:03<00:00, 44.31it/s, v_num=17, train_objective=1.660, train_fullview=1.490, train_missingview=1.670]"
     ]
    },
    {
     "name": "stderr",
     "output_type": "stream",
     "text": [
      "Metric val_objective improved by 0.112 >= min_delta = 0.01. New best score: 0.924\n"
     ]
    },
    {
     "name": "stdout",
     "output_type": "stream",
     "text": [
      "Epoch 2: 100%|██████████| 155/155 [00:03<00:00, 43.45it/s, v_num=17, train_objective=1.300, train_fullview=0.959, train_missingview=1.330]"
     ]
    },
    {
     "name": "stderr",
     "output_type": "stream",
     "text": [
      "Metric val_objective improved by 0.053 >= min_delta = 0.01. New best score: 0.871\n",
      "`Trainer.fit` stopped: `max_epochs=3` reached.\n"
     ]
    },
    {
     "name": "stdout",
     "output_type": "stream",
     "text": [
      "Epoch 2: 100%|██████████| 155/155 [00:03<00:00, 42.14it/s, v_num=17, train_objective=1.300, train_fullview=0.959, train_missingview=1.330]\n",
      "Training done\n",
      "Inference with the following views  ['S2_S2VI']  and percentage missing  1.0\n",
      "Fold 3/3 of Run 1/1 in Feat_avg_ignore-MAUG-ignore-Forw_S2_S2VI finished...\n",
      "Inference with the following views  ['S2_S2VI', 'S1']  and percentage missing  1.0\n",
      "Fold 3/3 of Run 1/1 in Feat_avg_ignore-MAUG-ignore-Forw_S2_S2VI_S1 finished...\n",
      "Inference with the following views  ['S1', 'weather', 'DEM']  and percentage missing  1.0\n",
      "Fold 3/3 of Run 1/1 in Feat_avg_ignore-MAUG-ignore-Forw_S1_weather_DEM finished...\n",
      "Fold 3/3 of Run 1/1 in Feat_avg_ignore-MAUG-ignore finished...\n",
      "Epochs for Feat_avg_ignore-MAUG-ignore runs on average for 0.00 epochs +- 0.000\n",
      "Finished whole execution of 1 runs in 42.38 secs\n",
      "Normalize views\n",
      "******************************** Executing model on run 1 and kfold 1\n",
      "You select 5 views from the 8 available, you could use get_view_names() to check which are available, the selected views are ['S1', 'weather', 'DEM', 'S2', 'S2VI'], with additional views ['S2_S2VI']\n",
      "first dimension of list will be the views, instead of the standard of n-samples\n"
     ]
    },
    {
     "name": "stderr",
     "output_type": "stream",
     "text": [
      "100%|██████████| 29642/29642 [00:00<00:00, 240525.36it/s]\n"
     ]
    },
    {
     "name": "stdout",
     "output_type": "stream",
     "text": [
      "You select 5 views from the 8 available, you could use get_view_names() to check which are available, the selected views are ['S1', 'weather', 'DEM', 'S2', 'S2VI'], with additional views ['S2_S2VI']\n",
      "first dimension of list will be the views, instead of the standard of n-samples\n"
     ]
    },
    {
     "name": "stderr",
     "output_type": "stream",
     "text": [
      "100%|██████████| 29642/29642 [00:00<00:00, 449394.05it/s]\n",
      "/home/mena/miniconda3/envs/views2/lib/python3.8/site-packages/pytorch_lightning/utilities/parsing.py:197: UserWarning: Attribute 'predictive_model' is an instance of `nn.Module` and is already saved during checkpointing. It is recommended to ignore them using `self.save_hyperparameters(ignore=['predictive_model'])`.\n",
      "  rank_zero_warn(\n",
      "/home/mena/Documents/repos/com-views/src/datasets/views_loader.py:8: RuntimeWarning: divide by zero encountered in remainder\n",
      "  if v % int(v) == 0:\n",
      "GPU available: True (cuda), used: True\n",
      "TPU available: False, using: 0 TPU cores\n",
      "IPU available: False, using: 0 IPUs\n",
      "HPU available: False, using: 0 HPUs\n",
      "You are using a CUDA device ('NVIDIA GeForce RTX 3080 Laptop GPU') that has Tensor Cores. To properly utilize them, you should set `torch.set_float32_matmul_precision('medium' | 'high')` which will trade-off precision for performance. For more details, read https://pytorch.org/docs/stable/generated/torch.set_float32_matmul_precision.html#torch.set_float32_matmul_precision\n",
      "LOCAL_RANK: 0 - CUDA_VISIBLE_DEVICES: [0]\n",
      "\n",
      "  | Name            | Type                | Params\n",
      "--------------------------------------------------------\n",
      "0 | views_encoder   | ModuleDict          | 3.1 M \n",
      "1 | fusion_module   | FusionModuleMissing | 262 K \n",
      "2 | prediction_head | Generic_Decoder     | 18.1 K\n",
      "3 | criteria        | CrossEntropyLoss    | 0     \n",
      "--------------------------------------------------------\n",
      "3.4 M     Trainable params\n",
      "0         Non-trainable params\n",
      "3.4 M     Total params\n",
      "13.459    Total estimated model params size (MB)\n"
     ]
    },
    {
     "name": "stdout",
     "output_type": "stream",
     "text": [
      "Training with 19761 samples and validating on 9881\n",
      "Initial parameters of model: \"loss_args\":        {'name': 'ce', 'weight': tensor([0.4382, 3.3954, 0.3491, 2.3525, 0.9478, 7.0324, 2.7033, 1.1805, 7.4011,\n",
      "        0.6311])}\n",
      "\"predictive_model\": Generic_Decoder(\n",
      "  (pre_decoder): MLP(\n",
      "    (layers): Sequential(\n",
      "      (0): Sequential(\n",
      "        (0): Linear(in_features=128, out_features=128, bias=True)\n",
      "        (1): ReLU()\n",
      "        (2): BatchNorm1d(128, eps=1e-05, momentum=0.1, affine=True, track_running_stats=True)\n",
      "        (3): Dropout(p=0.2, inplace=False)\n",
      "      )\n",
      "    )\n",
      "  )\n",
      "  (linear_layer): Linear(in_features=128, out_features=10, bias=True)\n",
      ")\n",
      "\"view_names\":       ['S1', 'weather', 'DEM', 'S2_S2VI']\n",
      "The missing as augmentation was set on with an augmentation of  15 and following missing_method = {'name': 'adapt', 'where': 'feature', 'value_fill': 0.0}\n",
      "Epoch 0: 100%|██████████| 155/155 [00:06<00:00, 23.38it/s, v_num=18, train_objective=1.410, train_fullview=1.180, train_missingview=1.430]"
     ]
    },
    {
     "name": "stderr",
     "output_type": "stream",
     "text": [
      "Metric val_objective improved. New best score: 0.961\n"
     ]
    },
    {
     "name": "stdout",
     "output_type": "stream",
     "text": [
      "Epoch 1: 100%|██████████| 155/155 [00:06<00:00, 22.95it/s, v_num=18, train_objective=1.350, train_fullview=1.100, train_missingview=1.370]"
     ]
    },
    {
     "name": "stderr",
     "output_type": "stream",
     "text": [
      "Metric val_objective improved by 0.131 >= min_delta = 0.01. New best score: 0.830\n"
     ]
    },
    {
     "name": "stdout",
     "output_type": "stream",
     "text": [
      "Epoch 2: 100%|██████████| 155/155 [00:06<00:00, 23.17it/s, v_num=18, train_objective=1.390, train_fullview=1.080, train_missingview=1.410]"
     ]
    },
    {
     "name": "stderr",
     "output_type": "stream",
     "text": [
      "Metric val_objective improved by 0.030 >= min_delta = 0.01. New best score: 0.800\n",
      "`Trainer.fit` stopped: `max_epochs=3` reached.\n"
     ]
    },
    {
     "name": "stdout",
     "output_type": "stream",
     "text": [
      "Epoch 2: 100%|██████████| 155/155 [00:06<00:00, 22.78it/s, v_num=18, train_objective=1.390, train_fullview=1.080, train_missingview=1.410]\n",
      "Training done\n",
      "Inference with the following views  ['S2_S2VI']  and percentage missing  1.0\n",
      "Fold 1/3 of Run 1/2 in Feat_concat_GFf-MAUG-adapt-Forw_S2_S2VI finished...\n",
      "Inference with the following views  ['S2_S2VI', 'S1']  and percentage missing  1.0\n",
      "Fold 1/3 of Run 1/2 in Feat_concat_GFf-MAUG-adapt-Forw_S2_S2VI_S1 finished...\n",
      "Inference with the following views  ['S1', 'weather', 'DEM']  and percentage missing  1.0\n",
      "Fold 1/3 of Run 1/2 in Feat_concat_GFf-MAUG-adapt-Forw_S1_weather_DEM finished...\n",
      "Fold 1/3 of Run 1/2 in Feat_concat_GFf-MAUG-adapt finished...\n",
      "******************************** Executing model on run 1 and kfold 2\n",
      "You select 5 views from the 8 available, you could use get_view_names() to check which are available, the selected views are ['S1', 'weather', 'DEM', 'S2', 'S2VI'], with additional views ['S2_S2VI']\n",
      "first dimension of list will be the views, instead of the standard of n-samples\n"
     ]
    },
    {
     "name": "stderr",
     "output_type": "stream",
     "text": [
      "100%|██████████| 29642/29642 [00:00<00:00, 219472.32it/s]\n"
     ]
    },
    {
     "name": "stdout",
     "output_type": "stream",
     "text": [
      "You select 5 views from the 8 available, you could use get_view_names() to check which are available, the selected views are ['S1', 'weather', 'DEM', 'S2', 'S2VI'], with additional views ['S2_S2VI']\n",
      "first dimension of list will be the views, instead of the standard of n-samples\n"
     ]
    },
    {
     "name": "stderr",
     "output_type": "stream",
     "text": [
      "100%|██████████| 29642/29642 [00:00<00:00, 429992.35it/s]\n",
      "/home/mena/miniconda3/envs/views2/lib/python3.8/site-packages/pytorch_lightning/utilities/parsing.py:197: UserWarning: Attribute 'predictive_model' is an instance of `nn.Module` and is already saved during checkpointing. It is recommended to ignore them using `self.save_hyperparameters(ignore=['predictive_model'])`.\n",
      "  rank_zero_warn(\n",
      "/home/mena/Documents/repos/com-views/src/datasets/views_loader.py:8: RuntimeWarning: divide by zero encountered in remainder\n",
      "  if v % int(v) == 0:\n",
      "GPU available: True (cuda), used: True\n",
      "TPU available: False, using: 0 TPU cores\n",
      "IPU available: False, using: 0 IPUs\n",
      "HPU available: False, using: 0 HPUs\n",
      "You are using a CUDA device ('NVIDIA GeForce RTX 3080 Laptop GPU') that has Tensor Cores. To properly utilize them, you should set `torch.set_float32_matmul_precision('medium' | 'high')` which will trade-off precision for performance. For more details, read https://pytorch.org/docs/stable/generated/torch.set_float32_matmul_precision.html#torch.set_float32_matmul_precision\n",
      "/home/mena/miniconda3/envs/views2/lib/python3.8/site-packages/pytorch_lightning/callbacks/model_checkpoint.py:612: UserWarning: Checkpoint directory /home/mena/Documents/repos/com-views/config_time/aux/run-saves/checkpoint_logs/cropharvest_multi_train/Feat_concat_GFf-MAUG-adapt exists and is not empty.\n",
      "  rank_zero_warn(f\"Checkpoint directory {dirpath} exists and is not empty.\")\n",
      "LOCAL_RANK: 0 - CUDA_VISIBLE_DEVICES: [0]\n",
      "\n",
      "  | Name            | Type                | Params\n",
      "--------------------------------------------------------\n",
      "0 | views_encoder   | ModuleDict          | 3.1 M \n",
      "1 | fusion_module   | FusionModuleMissing | 262 K \n",
      "2 | prediction_head | Generic_Decoder     | 18.1 K\n",
      "3 | criteria        | CrossEntropyLoss    | 0     \n",
      "--------------------------------------------------------\n",
      "3.4 M     Trainable params\n",
      "0         Non-trainable params\n",
      "3.4 M     Total params\n",
      "13.459    Total estimated model params size (MB)\n"
     ]
    },
    {
     "name": "stdout",
     "output_type": "stream",
     "text": [
      "Training with 19761 samples and validating on 9881\n",
      "Initial parameters of model: \"loss_args\":        {'name': 'ce', 'weight': tensor([0.4306, 3.5670, 0.3493, 2.3609, 0.9935, 7.3735, 2.6959, 1.1762, 7.0324,\n",
      "        0.6228])}\n",
      "\"predictive_model\": Generic_Decoder(\n",
      "  (pre_decoder): MLP(\n",
      "    (layers): Sequential(\n",
      "      (0): Sequential(\n",
      "        (0): Linear(in_features=128, out_features=128, bias=True)\n",
      "        (1): ReLU()\n",
      "        (2): BatchNorm1d(128, eps=1e-05, momentum=0.1, affine=True, track_running_stats=True)\n",
      "        (3): Dropout(p=0.2, inplace=False)\n",
      "      )\n",
      "    )\n",
      "  )\n",
      "  (linear_layer): Linear(in_features=128, out_features=10, bias=True)\n",
      ")\n",
      "\"view_names\":       ['S1', 'weather', 'DEM', 'S2_S2VI']\n",
      "The missing as augmentation was set on with an augmentation of  15 and following missing_method = {'name': 'adapt', 'where': 'feature', 'value_fill': 0.0}\n",
      "Epoch 0: 100%|██████████| 155/155 [00:07<00:00, 21.92it/s, v_num=19, train_objective=1.280, train_fullview=0.919, train_missingview=1.300]"
     ]
    },
    {
     "name": "stderr",
     "output_type": "stream",
     "text": [
      "Metric val_objective improved. New best score: 0.929\n"
     ]
    },
    {
     "name": "stdout",
     "output_type": "stream",
     "text": [
      "Epoch 1: 100%|██████████| 155/155 [00:08<00:00, 18.26it/s, v_num=19, train_objective=1.390, train_fullview=1.170, train_missingview=1.410]"
     ]
    },
    {
     "name": "stderr",
     "output_type": "stream",
     "text": [
      "Metric val_objective improved by 0.084 >= min_delta = 0.01. New best score: 0.845\n"
     ]
    },
    {
     "name": "stdout",
     "output_type": "stream",
     "text": [
      "Epoch 2: 100%|██████████| 155/155 [00:08<00:00, 18.12it/s, v_num=19, train_objective=1.260, train_fullview=1.080, train_missingview=1.280]"
     ]
    },
    {
     "name": "stderr",
     "output_type": "stream",
     "text": [
      "Metric val_objective improved by 0.055 >= min_delta = 0.01. New best score: 0.789\n",
      "`Trainer.fit` stopped: `max_epochs=3` reached.\n"
     ]
    },
    {
     "name": "stdout",
     "output_type": "stream",
     "text": [
      "Epoch 2: 100%|██████████| 155/155 [00:08<00:00, 17.81it/s, v_num=19, train_objective=1.260, train_fullview=1.080, train_missingview=1.280]\n",
      "Training done\n",
      "Inference with the following views  ['S2_S2VI']  and percentage missing  1.0\n",
      "Fold 2/3 of Run 1/2 in Feat_concat_GFf-MAUG-adapt-Forw_S2_S2VI finished...\n",
      "Inference with the following views  ['S2_S2VI', 'S1']  and percentage missing  1.0\n",
      "Fold 2/3 of Run 1/2 in Feat_concat_GFf-MAUG-adapt-Forw_S2_S2VI_S1 finished...\n",
      "Inference with the following views  ['S1', 'weather', 'DEM']  and percentage missing  1.0\n",
      "Fold 2/3 of Run 1/2 in Feat_concat_GFf-MAUG-adapt-Forw_S1_weather_DEM finished...\n",
      "Fold 2/3 of Run 1/2 in Feat_concat_GFf-MAUG-adapt finished...\n",
      "******************************** Executing model on run 1 and kfold 3\n",
      "You select 5 views from the 8 available, you could use get_view_names() to check which are available, the selected views are ['S1', 'weather', 'DEM', 'S2', 'S2VI'], with additional views ['S2_S2VI']\n",
      "first dimension of list will be the views, instead of the standard of n-samples\n"
     ]
    },
    {
     "name": "stderr",
     "output_type": "stream",
     "text": [
      "100%|██████████| 29642/29642 [00:00<00:00, 232892.49it/s]\n"
     ]
    },
    {
     "name": "stdout",
     "output_type": "stream",
     "text": [
      "You select 5 views from the 8 available, you could use get_view_names() to check which are available, the selected views are ['S1', 'weather', 'DEM', 'S2', 'S2VI'], with additional views ['S2_S2VI']\n",
      "first dimension of list will be the views, instead of the standard of n-samples\n"
     ]
    },
    {
     "name": "stderr",
     "output_type": "stream",
     "text": [
      "100%|██████████| 29642/29642 [00:00<00:00, 435766.12it/s]\n",
      "/home/mena/miniconda3/envs/views2/lib/python3.8/site-packages/pytorch_lightning/utilities/parsing.py:197: UserWarning: Attribute 'predictive_model' is an instance of `nn.Module` and is already saved during checkpointing. It is recommended to ignore them using `self.save_hyperparameters(ignore=['predictive_model'])`.\n",
      "  rank_zero_warn(\n",
      "/home/mena/Documents/repos/com-views/src/datasets/views_loader.py:8: RuntimeWarning: divide by zero encountered in remainder\n",
      "  if v % int(v) == 0:\n",
      "GPU available: True (cuda), used: True\n",
      "TPU available: False, using: 0 TPU cores\n",
      "IPU available: False, using: 0 IPUs\n",
      "HPU available: False, using: 0 HPUs\n",
      "You are using a CUDA device ('NVIDIA GeForce RTX 3080 Laptop GPU') that has Tensor Cores. To properly utilize them, you should set `torch.set_float32_matmul_precision('medium' | 'high')` which will trade-off precision for performance. For more details, read https://pytorch.org/docs/stable/generated/torch.set_float32_matmul_precision.html#torch.set_float32_matmul_precision\n",
      "/home/mena/miniconda3/envs/views2/lib/python3.8/site-packages/pytorch_lightning/callbacks/model_checkpoint.py:612: UserWarning: Checkpoint directory /home/mena/Documents/repos/com-views/config_time/aux/run-saves/checkpoint_logs/cropharvest_multi_train/Feat_concat_GFf-MAUG-adapt exists and is not empty.\n",
      "  rank_zero_warn(f\"Checkpoint directory {dirpath} exists and is not empty.\")\n",
      "LOCAL_RANK: 0 - CUDA_VISIBLE_DEVICES: [0]\n",
      "\n",
      "  | Name            | Type                | Params\n",
      "--------------------------------------------------------\n",
      "0 | views_encoder   | ModuleDict          | 3.1 M \n",
      "1 | fusion_module   | FusionModuleMissing | 262 K \n",
      "2 | prediction_head | Generic_Decoder     | 18.1 K\n",
      "3 | criteria        | CrossEntropyLoss    | 0     \n",
      "--------------------------------------------------------\n",
      "3.4 M     Trainable params\n",
      "0         Non-trainable params\n",
      "3.4 M     Total params\n",
      "13.459    Total estimated model params size (MB)\n"
     ]
    },
    {
     "name": "stdout",
     "output_type": "stream",
     "text": [
      "Training with 19762 samples and validating on 9880\n",
      "Initial parameters of model: \"loss_args\":        {'name': 'ce', 'weight': tensor([0.4371, 3.3158, 0.3486, 2.3277, 0.9773, 7.4574, 2.6778, 1.2035, 6.9585,\n",
      "        0.6222])}\n",
      "\"predictive_model\": Generic_Decoder(\n",
      "  (pre_decoder): MLP(\n",
      "    (layers): Sequential(\n",
      "      (0): Sequential(\n",
      "        (0): Linear(in_features=128, out_features=128, bias=True)\n",
      "        (1): ReLU()\n",
      "        (2): BatchNorm1d(128, eps=1e-05, momentum=0.1, affine=True, track_running_stats=True)\n",
      "        (3): Dropout(p=0.2, inplace=False)\n",
      "      )\n",
      "    )\n",
      "  )\n",
      "  (linear_layer): Linear(in_features=128, out_features=10, bias=True)\n",
      ")\n",
      "\"view_names\":       ['S1', 'weather', 'DEM', 'S2_S2VI']\n",
      "The missing as augmentation was set on with an augmentation of  15 and following missing_method = {'name': 'adapt', 'where': 'feature', 'value_fill': 0.0}\n",
      "Epoch 0: 100%|██████████| 155/155 [00:07<00:00, 20.56it/s, v_num=20, train_objective=1.300, train_fullview=0.996, train_missingview=1.320]"
     ]
    },
    {
     "name": "stderr",
     "output_type": "stream",
     "text": [
      "Metric val_objective improved. New best score: 0.927\n"
     ]
    },
    {
     "name": "stdout",
     "output_type": "stream",
     "text": [
      "Epoch 1: 100%|██████████| 155/155 [00:06<00:00, 22.56it/s, v_num=20, train_objective=1.160, train_fullview=0.837, train_missingview=1.190]"
     ]
    },
    {
     "name": "stderr",
     "output_type": "stream",
     "text": [
      "Metric val_objective improved by 0.057 >= min_delta = 0.01. New best score: 0.870\n"
     ]
    },
    {
     "name": "stdout",
     "output_type": "stream",
     "text": [
      "Epoch 2: 100%|██████████| 155/155 [00:06<00:00, 22.28it/s, v_num=20, train_objective=1.270, train_fullview=0.956, train_missingview=1.290]"
     ]
    },
    {
     "name": "stderr",
     "output_type": "stream",
     "text": [
      "Metric val_objective improved by 0.051 >= min_delta = 0.01. New best score: 0.820\n",
      "`Trainer.fit` stopped: `max_epochs=3` reached.\n"
     ]
    },
    {
     "name": "stdout",
     "output_type": "stream",
     "text": [
      "Epoch 2: 100%|██████████| 155/155 [00:07<00:00, 21.84it/s, v_num=20, train_objective=1.270, train_fullview=0.956, train_missingview=1.290]\n",
      "Training done\n",
      "Inference with the following views  ['S2_S2VI']  and percentage missing  1.0\n",
      "Fold 3/3 of Run 1/2 in Feat_concat_GFf-MAUG-adapt-Forw_S2_S2VI finished...\n",
      "Inference with the following views  ['S2_S2VI', 'S1']  and percentage missing  1.0\n",
      "Fold 3/3 of Run 1/2 in Feat_concat_GFf-MAUG-adapt-Forw_S2_S2VI_S1 finished...\n",
      "Inference with the following views  ['S1', 'weather', 'DEM']  and percentage missing  1.0\n",
      "Fold 3/3 of Run 1/2 in Feat_concat_GFf-MAUG-adapt-Forw_S1_weather_DEM finished...\n",
      "Fold 3/3 of Run 1/2 in Feat_concat_GFf-MAUG-adapt finished...\n",
      "******************************** Executing model on run 2 and kfold 1\n",
      "You select 5 views from the 8 available, you could use get_view_names() to check which are available, the selected views are ['S1', 'weather', 'DEM', 'S2', 'S2VI'], with additional views ['S2_S2VI']\n",
      "first dimension of list will be the views, instead of the standard of n-samples\n"
     ]
    },
    {
     "name": "stderr",
     "output_type": "stream",
     "text": [
      "100%|██████████| 29642/29642 [00:00<00:00, 228351.48it/s]\n"
     ]
    },
    {
     "name": "stdout",
     "output_type": "stream",
     "text": [
      "You select 5 views from the 8 available, you could use get_view_names() to check which are available, the selected views are ['S1', 'weather', 'DEM', 'S2', 'S2VI'], with additional views ['S2_S2VI']\n",
      "first dimension of list will be the views, instead of the standard of n-samples\n"
     ]
    },
    {
     "name": "stderr",
     "output_type": "stream",
     "text": [
      "100%|██████████| 29642/29642 [00:00<00:00, 328143.22it/s]\n",
      "/home/mena/miniconda3/envs/views2/lib/python3.8/site-packages/pytorch_lightning/utilities/parsing.py:197: UserWarning: Attribute 'predictive_model' is an instance of `nn.Module` and is already saved during checkpointing. It is recommended to ignore them using `self.save_hyperparameters(ignore=['predictive_model'])`.\n",
      "  rank_zero_warn(\n",
      "/home/mena/Documents/repos/com-views/src/datasets/views_loader.py:8: RuntimeWarning: divide by zero encountered in remainder\n",
      "  if v % int(v) == 0:\n",
      "GPU available: True (cuda), used: True\n",
      "TPU available: False, using: 0 TPU cores\n",
      "IPU available: False, using: 0 IPUs\n",
      "HPU available: False, using: 0 HPUs\n",
      "You are using a CUDA device ('NVIDIA GeForce RTX 3080 Laptop GPU') that has Tensor Cores. To properly utilize them, you should set `torch.set_float32_matmul_precision('medium' | 'high')` which will trade-off precision for performance. For more details, read https://pytorch.org/docs/stable/generated/torch.set_float32_matmul_precision.html#torch.set_float32_matmul_precision\n",
      "/home/mena/miniconda3/envs/views2/lib/python3.8/site-packages/pytorch_lightning/callbacks/model_checkpoint.py:612: UserWarning: Checkpoint directory /home/mena/Documents/repos/com-views/config_time/aux/run-saves/checkpoint_logs/cropharvest_multi_train/Feat_concat_GFf-MAUG-adapt exists and is not empty.\n",
      "  rank_zero_warn(f\"Checkpoint directory {dirpath} exists and is not empty.\")\n",
      "LOCAL_RANK: 0 - CUDA_VISIBLE_DEVICES: [0]\n",
      "\n",
      "  | Name            | Type                | Params\n",
      "--------------------------------------------------------\n",
      "0 | views_encoder   | ModuleDict          | 3.1 M \n",
      "1 | fusion_module   | FusionModuleMissing | 262 K \n",
      "2 | prediction_head | Generic_Decoder     | 18.1 K\n",
      "3 | criteria        | CrossEntropyLoss    | 0     \n",
      "--------------------------------------------------------\n",
      "3.4 M     Trainable params\n",
      "0         Non-trainable params\n",
      "3.4 M     Total params\n",
      "13.459    Total estimated model params size (MB)\n"
     ]
    },
    {
     "name": "stdout",
     "output_type": "stream",
     "text": [
      "Training with 19761 samples and validating on 9881\n",
      "Initial parameters of model: \"loss_args\":        {'name': 'ce', 'weight': tensor([0.4357, 3.4852, 0.3481, 2.4426, 0.9588, 7.0575, 2.7257, 1.1883, 6.9827,\n",
      "        0.6252])}\n",
      "\"predictive_model\": Generic_Decoder(\n",
      "  (pre_decoder): MLP(\n",
      "    (layers): Sequential(\n",
      "      (0): Sequential(\n",
      "        (0): Linear(in_features=128, out_features=128, bias=True)\n",
      "        (1): ReLU()\n",
      "        (2): BatchNorm1d(128, eps=1e-05, momentum=0.1, affine=True, track_running_stats=True)\n",
      "        (3): Dropout(p=0.2, inplace=False)\n",
      "      )\n",
      "    )\n",
      "  )\n",
      "  (linear_layer): Linear(in_features=128, out_features=10, bias=True)\n",
      ")\n",
      "\"view_names\":       ['S1', 'weather', 'DEM', 'S2_S2VI']\n",
      "The missing as augmentation was set on with an augmentation of  15 and following missing_method = {'name': 'adapt', 'where': 'feature', 'value_fill': 0.0}\n",
      "Epoch 0: 100%|██████████| 155/155 [00:06<00:00, 22.40it/s, v_num=21, train_objective=1.330, train_fullview=0.985, train_missingview=1.360]"
     ]
    },
    {
     "name": "stderr",
     "output_type": "stream",
     "text": [
      "Metric val_objective improved. New best score: 0.924\n"
     ]
    },
    {
     "name": "stdout",
     "output_type": "stream",
     "text": [
      "Epoch 1: 100%|██████████| 155/155 [00:07<00:00, 22.12it/s, v_num=21, train_objective=1.300, train_fullview=0.949, train_missingview=1.330]"
     ]
    },
    {
     "name": "stderr",
     "output_type": "stream",
     "text": [
      "Metric val_objective improved by 0.070 >= min_delta = 0.01. New best score: 0.854\n"
     ]
    },
    {
     "name": "stdout",
     "output_type": "stream",
     "text": [
      "Epoch 2: 100%|██████████| 155/155 [00:07<00:00, 22.08it/s, v_num=21, train_objective=1.190, train_fullview=0.755, train_missingview=1.220]"
     ]
    },
    {
     "name": "stderr",
     "output_type": "stream",
     "text": [
      "Metric val_objective improved by 0.056 >= min_delta = 0.01. New best score: 0.799\n",
      "`Trainer.fit` stopped: `max_epochs=3` reached.\n"
     ]
    },
    {
     "name": "stdout",
     "output_type": "stream",
     "text": [
      "Epoch 2: 100%|██████████| 155/155 [00:07<00:00, 21.69it/s, v_num=21, train_objective=1.190, train_fullview=0.755, train_missingview=1.220]\n",
      "Training done\n",
      "Inference with the following views  ['S2_S2VI']  and percentage missing  1.0\n",
      "Fold 1/3 of Run 2/2 in Feat_concat_GFf-MAUG-adapt-Forw_S2_S2VI finished...\n",
      "Inference with the following views  ['S2_S2VI', 'S1']  and percentage missing  1.0\n",
      "Fold 1/3 of Run 2/2 in Feat_concat_GFf-MAUG-adapt-Forw_S2_S2VI_S1 finished...\n",
      "Inference with the following views  ['S1', 'weather', 'DEM']  and percentage missing  1.0\n",
      "Fold 1/3 of Run 2/2 in Feat_concat_GFf-MAUG-adapt-Forw_S1_weather_DEM finished...\n",
      "Fold 1/3 of Run 2/2 in Feat_concat_GFf-MAUG-adapt finished...\n",
      "******************************** Executing model on run 2 and kfold 2\n",
      "You select 5 views from the 8 available, you could use get_view_names() to check which are available, the selected views are ['S1', 'weather', 'DEM', 'S2', 'S2VI'], with additional views ['S2_S2VI']\n",
      "first dimension of list will be the views, instead of the standard of n-samples\n"
     ]
    },
    {
     "name": "stderr",
     "output_type": "stream",
     "text": [
      "100%|██████████| 29642/29642 [00:00<00:00, 220274.90it/s]\n"
     ]
    },
    {
     "name": "stdout",
     "output_type": "stream",
     "text": [
      "You select 5 views from the 8 available, you could use get_view_names() to check which are available, the selected views are ['S1', 'weather', 'DEM', 'S2', 'S2VI'], with additional views ['S2_S2VI']\n",
      "first dimension of list will be the views, instead of the standard of n-samples\n"
     ]
    },
    {
     "name": "stderr",
     "output_type": "stream",
     "text": [
      "100%|██████████| 29642/29642 [00:00<00:00, 422708.88it/s]\n",
      "/home/mena/miniconda3/envs/views2/lib/python3.8/site-packages/pytorch_lightning/utilities/parsing.py:197: UserWarning: Attribute 'predictive_model' is an instance of `nn.Module` and is already saved during checkpointing. It is recommended to ignore them using `self.save_hyperparameters(ignore=['predictive_model'])`.\n",
      "  rank_zero_warn(\n",
      "/home/mena/Documents/repos/com-views/src/datasets/views_loader.py:8: RuntimeWarning: divide by zero encountered in remainder\n",
      "  if v % int(v) == 0:\n",
      "GPU available: True (cuda), used: True\n",
      "TPU available: False, using: 0 TPU cores\n",
      "IPU available: False, using: 0 IPUs\n",
      "HPU available: False, using: 0 HPUs\n",
      "You are using a CUDA device ('NVIDIA GeForce RTX 3080 Laptop GPU') that has Tensor Cores. To properly utilize them, you should set `torch.set_float32_matmul_precision('medium' | 'high')` which will trade-off precision for performance. For more details, read https://pytorch.org/docs/stable/generated/torch.set_float32_matmul_precision.html#torch.set_float32_matmul_precision\n",
      "/home/mena/miniconda3/envs/views2/lib/python3.8/site-packages/pytorch_lightning/callbacks/model_checkpoint.py:612: UserWarning: Checkpoint directory /home/mena/Documents/repos/com-views/config_time/aux/run-saves/checkpoint_logs/cropharvest_multi_train/Feat_concat_GFf-MAUG-adapt exists and is not empty.\n",
      "  rank_zero_warn(f\"Checkpoint directory {dirpath} exists and is not empty.\")\n",
      "LOCAL_RANK: 0 - CUDA_VISIBLE_DEVICES: [0]\n",
      "\n",
      "  | Name            | Type                | Params\n",
      "--------------------------------------------------------\n",
      "0 | views_encoder   | ModuleDict          | 3.1 M \n",
      "1 | fusion_module   | FusionModuleMissing | 262 K \n",
      "2 | prediction_head | Generic_Decoder     | 18.1 K\n",
      "3 | criteria        | CrossEntropyLoss    | 0     \n",
      "--------------------------------------------------------\n",
      "3.4 M     Trainable params\n",
      "0         Non-trainable params\n",
      "3.4 M     Total params\n",
      "13.459    Total estimated model params size (MB)\n"
     ]
    },
    {
     "name": "stdout",
     "output_type": "stream",
     "text": [
      "Training with 19761 samples and validating on 9881\n",
      "Initial parameters of model: \"loss_args\":        {'name': 'ce', 'weight': tensor([0.4356, 3.4790, 0.3496, 2.2978, 0.9778, 7.7799, 2.6454, 1.1652, 7.3189,\n",
      "        0.6259])}\n",
      "\"predictive_model\": Generic_Decoder(\n",
      "  (pre_decoder): MLP(\n",
      "    (layers): Sequential(\n",
      "      (0): Sequential(\n",
      "        (0): Linear(in_features=128, out_features=128, bias=True)\n",
      "        (1): ReLU()\n",
      "        (2): BatchNorm1d(128, eps=1e-05, momentum=0.1, affine=True, track_running_stats=True)\n",
      "        (3): Dropout(p=0.2, inplace=False)\n",
      "      )\n",
      "    )\n",
      "  )\n",
      "  (linear_layer): Linear(in_features=128, out_features=10, bias=True)\n",
      ")\n",
      "\"view_names\":       ['S1', 'weather', 'DEM', 'S2_S2VI']\n",
      "The missing as augmentation was set on with an augmentation of  15 and following missing_method = {'name': 'adapt', 'where': 'feature', 'value_fill': 0.0}\n",
      "Epoch 0: 100%|██████████| 155/155 [00:07<00:00, 21.68it/s, v_num=22, train_objective=1.880, train_fullview=1.610, train_missingview=1.900]"
     ]
    },
    {
     "name": "stderr",
     "output_type": "stream",
     "text": [
      "Metric val_objective improved. New best score: 0.935\n"
     ]
    },
    {
     "name": "stdout",
     "output_type": "stream",
     "text": [
      "Epoch 1: 100%|██████████| 155/155 [00:07<00:00, 21.64it/s, v_num=22, train_objective=1.420, train_fullview=1.170, train_missingview=1.440]"
     ]
    },
    {
     "name": "stderr",
     "output_type": "stream",
     "text": [
      "Metric val_objective improved by 0.087 >= min_delta = 0.01. New best score: 0.848\n"
     ]
    },
    {
     "name": "stdout",
     "output_type": "stream",
     "text": [
      "Epoch 2: 100%|██████████| 155/155 [00:07<00:00, 21.54it/s, v_num=22, train_objective=1.100, train_fullview=0.763, train_missingview=1.130]"
     ]
    },
    {
     "name": "stderr",
     "output_type": "stream",
     "text": [
      "Metric val_objective improved by 0.024 >= min_delta = 0.01. New best score: 0.824\n",
      "`Trainer.fit` stopped: `max_epochs=3` reached.\n"
     ]
    },
    {
     "name": "stdout",
     "output_type": "stream",
     "text": [
      "Epoch 2: 100%|██████████| 155/155 [00:07<00:00, 21.18it/s, v_num=22, train_objective=1.100, train_fullview=0.763, train_missingview=1.130]\n",
      "Training done\n",
      "Inference with the following views  ['S2_S2VI']  and percentage missing  1.0\n",
      "Fold 2/3 of Run 2/2 in Feat_concat_GFf-MAUG-adapt-Forw_S2_S2VI finished...\n",
      "Inference with the following views  ['S2_S2VI', 'S1']  and percentage missing  1.0\n",
      "Fold 2/3 of Run 2/2 in Feat_concat_GFf-MAUG-adapt-Forw_S2_S2VI_S1 finished...\n",
      "Inference with the following views  ['S1', 'weather', 'DEM']  and percentage missing  1.0\n",
      "Fold 2/3 of Run 2/2 in Feat_concat_GFf-MAUG-adapt-Forw_S1_weather_DEM finished...\n",
      "Fold 2/3 of Run 2/2 in Feat_concat_GFf-MAUG-adapt finished...\n",
      "******************************** Executing model on run 2 and kfold 3\n",
      "You select 5 views from the 8 available, you could use get_view_names() to check which are available, the selected views are ['S1', 'weather', 'DEM', 'S2', 'S2VI'], with additional views ['S2_S2VI']\n",
      "first dimension of list will be the views, instead of the standard of n-samples\n"
     ]
    },
    {
     "name": "stderr",
     "output_type": "stream",
     "text": [
      "100%|██████████| 29642/29642 [00:00<00:00, 194348.66it/s]\n"
     ]
    },
    {
     "name": "stdout",
     "output_type": "stream",
     "text": [
      "You select 5 views from the 8 available, you could use get_view_names() to check which are available, the selected views are ['S1', 'weather', 'DEM', 'S2', 'S2VI'], with additional views ['S2_S2VI']\n",
      "first dimension of list will be the views, instead of the standard of n-samples\n"
     ]
    },
    {
     "name": "stderr",
     "output_type": "stream",
     "text": [
      "100%|██████████| 29642/29642 [00:00<00:00, 339474.82it/s]\n",
      "/home/mena/miniconda3/envs/views2/lib/python3.8/site-packages/pytorch_lightning/utilities/parsing.py:197: UserWarning: Attribute 'predictive_model' is an instance of `nn.Module` and is already saved during checkpointing. It is recommended to ignore them using `self.save_hyperparameters(ignore=['predictive_model'])`.\n",
      "  rank_zero_warn(\n",
      "/home/mena/Documents/repos/com-views/src/datasets/views_loader.py:8: RuntimeWarning: divide by zero encountered in remainder\n",
      "  if v % int(v) == 0:\n",
      "GPU available: True (cuda), used: True\n",
      "TPU available: False, using: 0 TPU cores\n",
      "IPU available: False, using: 0 IPUs\n",
      "HPU available: False, using: 0 HPUs\n",
      "You are using a CUDA device ('NVIDIA GeForce RTX 3080 Laptop GPU') that has Tensor Cores. To properly utilize them, you should set `torch.set_float32_matmul_precision('medium' | 'high')` which will trade-off precision for performance. For more details, read https://pytorch.org/docs/stable/generated/torch.set_float32_matmul_precision.html#torch.set_float32_matmul_precision\n",
      "/home/mena/miniconda3/envs/views2/lib/python3.8/site-packages/pytorch_lightning/callbacks/model_checkpoint.py:612: UserWarning: Checkpoint directory /home/mena/Documents/repos/com-views/config_time/aux/run-saves/checkpoint_logs/cropharvest_multi_train/Feat_concat_GFf-MAUG-adapt exists and is not empty.\n",
      "  rank_zero_warn(f\"Checkpoint directory {dirpath} exists and is not empty.\")\n",
      "LOCAL_RANK: 0 - CUDA_VISIBLE_DEVICES: [0]\n",
      "\n",
      "  | Name            | Type                | Params\n",
      "--------------------------------------------------------\n",
      "0 | views_encoder   | ModuleDict          | 3.1 M \n",
      "1 | fusion_module   | FusionModuleMissing | 262 K \n",
      "2 | prediction_head | Generic_Decoder     | 18.1 K\n",
      "3 | criteria        | CrossEntropyLoss    | 0     \n",
      "--------------------------------------------------------\n",
      "3.4 M     Trainable params\n",
      "0         Non-trainable params\n",
      "3.4 M     Total params\n",
      "13.459    Total estimated model params size (MB)\n"
     ]
    },
    {
     "name": "stdout",
     "output_type": "stream",
     "text": [
      "Training with 19762 samples and validating on 9880\n",
      "Initial parameters of model: \"loss_args\":        {'name': 'ce', 'weight': tensor([0.4344, 3.3102, 0.3493, 2.3060, 0.9812, 7.0579, 2.7071, 1.2072, 7.0832,\n",
      "        0.6250])}\n",
      "\"predictive_model\": Generic_Decoder(\n",
      "  (pre_decoder): MLP(\n",
      "    (layers): Sequential(\n",
      "      (0): Sequential(\n",
      "        (0): Linear(in_features=128, out_features=128, bias=True)\n",
      "        (1): ReLU()\n",
      "        (2): BatchNorm1d(128, eps=1e-05, momentum=0.1, affine=True, track_running_stats=True)\n",
      "        (3): Dropout(p=0.2, inplace=False)\n",
      "      )\n",
      "    )\n",
      "  )\n",
      "  (linear_layer): Linear(in_features=128, out_features=10, bias=True)\n",
      ")\n",
      "\"view_names\":       ['S1', 'weather', 'DEM', 'S2_S2VI']\n",
      "The missing as augmentation was set on with an augmentation of  15 and following missing_method = {'name': 'adapt', 'where': 'feature', 'value_fill': 0.0}\n",
      "Epoch 0: 100%|██████████| 155/155 [00:07<00:00, 21.46it/s, v_num=23, train_objective=1.240, train_fullview=0.878, train_missingview=1.270]"
     ]
    },
    {
     "name": "stderr",
     "output_type": "stream",
     "text": [
      "Metric val_objective improved. New best score: 0.948\n"
     ]
    },
    {
     "name": "stdout",
     "output_type": "stream",
     "text": [
      "Epoch 1: 100%|██████████| 155/155 [00:07<00:00, 21.72it/s, v_num=23, train_objective=1.060, train_fullview=0.697, train_missingview=1.090]"
     ]
    },
    {
     "name": "stderr",
     "output_type": "stream",
     "text": [
      "Metric val_objective improved by 0.071 >= min_delta = 0.01. New best score: 0.877\n"
     ]
    },
    {
     "name": "stdout",
     "output_type": "stream",
     "text": [
      "Epoch 2: 100%|██████████| 155/155 [00:07<00:00, 21.48it/s, v_num=23, train_objective=1.060, train_fullview=0.735, train_missingview=1.080]"
     ]
    },
    {
     "name": "stderr",
     "output_type": "stream",
     "text": [
      "Metric val_objective improved by 0.103 >= min_delta = 0.01. New best score: 0.774\n",
      "`Trainer.fit` stopped: `max_epochs=3` reached.\n"
     ]
    },
    {
     "name": "stdout",
     "output_type": "stream",
     "text": [
      "Epoch 2: 100%|██████████| 155/155 [00:07<00:00, 21.17it/s, v_num=23, train_objective=1.060, train_fullview=0.735, train_missingview=1.080]\n",
      "Training done\n",
      "Inference with the following views  ['S2_S2VI']  and percentage missing  1.0\n",
      "Fold 3/3 of Run 2/2 in Feat_concat_GFf-MAUG-adapt-Forw_S2_S2VI finished...\n",
      "Inference with the following views  ['S2_S2VI', 'S1']  and percentage missing  1.0\n",
      "Fold 3/3 of Run 2/2 in Feat_concat_GFf-MAUG-adapt-Forw_S2_S2VI_S1 finished...\n",
      "Inference with the following views  ['S1', 'weather', 'DEM']  and percentage missing  1.0\n",
      "Fold 3/3 of Run 2/2 in Feat_concat_GFf-MAUG-adapt-Forw_S1_weather_DEM finished...\n",
      "Fold 3/3 of Run 2/2 in Feat_concat_GFf-MAUG-adapt finished...\n",
      "Epochs for Feat_concat_GFf-MAUG-adapt runs on average for 0.00 epochs +- 0.000\n",
      "Finished whole execution of 2 runs in 153.13 secs\n",
      "Normalize views\n",
      "******************************** Executing model on run 1 and kfold 1\n",
      "You select 5 views from the 8 available, you could use get_view_names() to check which are available, the selected views are ['S1', 'weather', 'DEM', 'S2', 'S2VI'], with additional views ['S2_S2VI']\n",
      "first dimension of list will be the views, instead of the standard of n-samples\n"
     ]
    },
    {
     "name": "stderr",
     "output_type": "stream",
     "text": [
      "100%|██████████| 29642/29642 [00:00<00:00, 205666.33it/s]\n"
     ]
    },
    {
     "name": "stdout",
     "output_type": "stream",
     "text": [
      "You select 5 views from the 8 available, you could use get_view_names() to check which are available, the selected views are ['S1', 'weather', 'DEM', 'S2', 'S2VI'], with additional views ['S2_S2VI']\n",
      "first dimension of list will be the views, instead of the standard of n-samples\n"
     ]
    },
    {
     "name": "stderr",
     "output_type": "stream",
     "text": [
      "100%|██████████| 29642/29642 [00:00<00:00, 338022.07it/s]\n",
      "/home/mena/miniconda3/envs/views2/lib/python3.8/site-packages/pytorch_lightning/utilities/parsing.py:197: UserWarning: Attribute 'predictive_model' is an instance of `nn.Module` and is already saved during checkpointing. It is recommended to ignore them using `self.save_hyperparameters(ignore=['predictive_model'])`.\n",
      "  rank_zero_warn(\n",
      "/home/mena/Documents/repos/com-views/src/datasets/views_loader.py:8: RuntimeWarning: divide by zero encountered in remainder\n",
      "  if v % int(v) == 0:\n",
      "GPU available: True (cuda), used: True\n",
      "TPU available: False, using: 0 TPU cores\n",
      "IPU available: False, using: 0 IPUs\n",
      "HPU available: False, using: 0 HPUs\n",
      "You are using a CUDA device ('NVIDIA GeForce RTX 3080 Laptop GPU') that has Tensor Cores. To properly utilize them, you should set `torch.set_float32_matmul_precision('medium' | 'high')` which will trade-off precision for performance. For more details, read https://pytorch.org/docs/stable/generated/torch.set_float32_matmul_precision.html#torch.set_float32_matmul_precision\n",
      "LOCAL_RANK: 0 - CUDA_VISIBLE_DEVICES: [0]\n",
      "\n",
      "  | Name            | Type                | Params\n",
      "--------------------------------------------------------\n",
      "0 | views_encoder   | ModuleDict          | 3.1 M \n",
      "1 | fusion_module   | FusionModuleMissing | 100 K \n",
      "2 | prediction_head | Generic_Decoder     | 18.1 K\n",
      "3 | criteria        | CrossEntropyLoss    | 0     \n",
      "--------------------------------------------------------\n",
      "3.2 M     Trainable params\n",
      "0         Non-trainable params\n",
      "3.2 M     Total params\n",
      "12.809    Total estimated model params size (MB)\n"
     ]
    },
    {
     "name": "stdout",
     "output_type": "stream",
     "text": [
      "Training with 19761 samples and validating on 9881\n",
      "Initial parameters of model: \"loss_args\":        {'name': 'ce', 'weight': tensor([0.4382, 3.3954, 0.3491, 2.3525, 0.9478, 7.0324, 2.7033, 1.1805, 7.4011,\n",
      "        0.6311])}\n",
      "\"predictive_model\": Generic_Decoder(\n",
      "  (pre_decoder): MLP(\n",
      "    (layers): Sequential(\n",
      "      (0): Sequential(\n",
      "        (0): Linear(in_features=128, out_features=128, bias=True)\n",
      "        (1): ReLU()\n",
      "        (2): BatchNorm1d(128, eps=1e-05, momentum=0.1, affine=True, track_running_stats=True)\n",
      "        (3): Dropout(p=0.2, inplace=False)\n",
      "      )\n",
      "    )\n",
      "  )\n",
      "  (linear_layer): Linear(in_features=128, out_features=10, bias=True)\n",
      ")\n",
      "\"view_names\":       ['S1', 'weather', 'DEM', 'S2_S2VI']\n",
      "The missing as augmentation was set on with an augmentation of  15 and following missing_method = {'name': 'ignore', 'where': '', 'value_fill': None}\n",
      "Epoch 0: 100%|██████████| 155/155 [00:07<00:00, 21.16it/s, v_num=24, train_objective=1.600, train_fullview=1.360, train_missingview=1.620]"
     ]
    },
    {
     "name": "stderr",
     "output_type": "stream",
     "text": [
      "Metric val_objective improved. New best score: 1.109\n"
     ]
    },
    {
     "name": "stdout",
     "output_type": "stream",
     "text": [
      "Epoch 1: 100%|██████████| 155/155 [00:07<00:00, 21.14it/s, v_num=24, train_objective=1.700, train_fullview=1.530, train_missingview=1.710]"
     ]
    },
    {
     "name": "stderr",
     "output_type": "stream",
     "text": [
      "Metric val_objective improved by 0.216 >= min_delta = 0.01. New best score: 0.893\n"
     ]
    },
    {
     "name": "stdout",
     "output_type": "stream",
     "text": [
      "Epoch 2: 100%|██████████| 155/155 [00:07<00:00, 21.79it/s, v_num=24, train_objective=1.370, train_fullview=1.030, train_missingview=1.400]"
     ]
    },
    {
     "name": "stderr",
     "output_type": "stream",
     "text": [
      "`Trainer.fit` stopped: `max_epochs=3` reached.\n"
     ]
    },
    {
     "name": "stdout",
     "output_type": "stream",
     "text": [
      "Epoch 2: 100%|██████████| 155/155 [00:07<00:00, 21.78it/s, v_num=24, train_objective=1.370, train_fullview=1.030, train_missingview=1.400]\n",
      "Training done\n",
      "Inference with the following views  ['S2_S2VI']  and percentage missing  1.0\n",
      "Fold 1/3 of Run 1/1 in Feat_transformer-MAUG-ignore-Forw_S2_S2VI finished...\n",
      "Inference with the following views  ['S2_S2VI', 'S1']  and percentage missing  1.0\n",
      "Fold 1/3 of Run 1/1 in Feat_transformer-MAUG-ignore-Forw_S2_S2VI_S1 finished...\n",
      "Inference with the following views  ['S1', 'weather', 'DEM']  and percentage missing  1.0\n",
      "Fold 1/3 of Run 1/1 in Feat_transformer-MAUG-ignore-Forw_S1_weather_DEM finished...\n",
      "Fold 1/3 of Run 1/1 in Feat_transformer-MAUG-ignore finished...\n",
      "******************************** Executing model on run 1 and kfold 2\n",
      "You select 5 views from the 8 available, you could use get_view_names() to check which are available, the selected views are ['S1', 'weather', 'DEM', 'S2', 'S2VI'], with additional views ['S2_S2VI']\n",
      "first dimension of list will be the views, instead of the standard of n-samples\n"
     ]
    },
    {
     "name": "stderr",
     "output_type": "stream",
     "text": [
      "100%|██████████| 29642/29642 [00:00<00:00, 225859.15it/s]\n"
     ]
    },
    {
     "name": "stdout",
     "output_type": "stream",
     "text": [
      "You select 5 views from the 8 available, you could use get_view_names() to check which are available, the selected views are ['S1', 'weather', 'DEM', 'S2', 'S2VI'], with additional views ['S2_S2VI']\n",
      "first dimension of list will be the views, instead of the standard of n-samples\n"
     ]
    },
    {
     "name": "stderr",
     "output_type": "stream",
     "text": [
      "100%|██████████| 29642/29642 [00:00<00:00, 422923.13it/s]\n",
      "/home/mena/miniconda3/envs/views2/lib/python3.8/site-packages/pytorch_lightning/utilities/parsing.py:197: UserWarning: Attribute 'predictive_model' is an instance of `nn.Module` and is already saved during checkpointing. It is recommended to ignore them using `self.save_hyperparameters(ignore=['predictive_model'])`.\n",
      "  rank_zero_warn(\n",
      "/home/mena/Documents/repos/com-views/src/datasets/views_loader.py:8: RuntimeWarning: divide by zero encountered in remainder\n",
      "  if v % int(v) == 0:\n",
      "GPU available: True (cuda), used: True\n",
      "TPU available: False, using: 0 TPU cores\n",
      "IPU available: False, using: 0 IPUs\n",
      "HPU available: False, using: 0 HPUs\n",
      "You are using a CUDA device ('NVIDIA GeForce RTX 3080 Laptop GPU') that has Tensor Cores. To properly utilize them, you should set `torch.set_float32_matmul_precision('medium' | 'high')` which will trade-off precision for performance. For more details, read https://pytorch.org/docs/stable/generated/torch.set_float32_matmul_precision.html#torch.set_float32_matmul_precision\n",
      "/home/mena/miniconda3/envs/views2/lib/python3.8/site-packages/pytorch_lightning/callbacks/model_checkpoint.py:612: UserWarning: Checkpoint directory /home/mena/Documents/repos/com-views/config_time/aux/run-saves/checkpoint_logs/cropharvest_multi_train/Feat_transformer-MAUG-ignore exists and is not empty.\n",
      "  rank_zero_warn(f\"Checkpoint directory {dirpath} exists and is not empty.\")\n",
      "LOCAL_RANK: 0 - CUDA_VISIBLE_DEVICES: [0]\n",
      "\n",
      "  | Name            | Type                | Params\n",
      "--------------------------------------------------------\n",
      "0 | views_encoder   | ModuleDict          | 3.1 M \n",
      "1 | fusion_module   | FusionModuleMissing | 100 K \n",
      "2 | prediction_head | Generic_Decoder     | 18.1 K\n",
      "3 | criteria        | CrossEntropyLoss    | 0     \n",
      "--------------------------------------------------------\n",
      "3.2 M     Trainable params\n",
      "0         Non-trainable params\n",
      "3.2 M     Total params\n",
      "12.809    Total estimated model params size (MB)\n"
     ]
    },
    {
     "name": "stdout",
     "output_type": "stream",
     "text": [
      "Training with 19761 samples and validating on 9881\n",
      "Initial parameters of model: \"loss_args\":        {'name': 'ce', 'weight': tensor([0.4306, 3.5670, 0.3493, 2.3609, 0.9935, 7.3735, 2.6959, 1.1762, 7.0324,\n",
      "        0.6228])}\n",
      "\"predictive_model\": Generic_Decoder(\n",
      "  (pre_decoder): MLP(\n",
      "    (layers): Sequential(\n",
      "      (0): Sequential(\n",
      "        (0): Linear(in_features=128, out_features=128, bias=True)\n",
      "        (1): ReLU()\n",
      "        (2): BatchNorm1d(128, eps=1e-05, momentum=0.1, affine=True, track_running_stats=True)\n",
      "        (3): Dropout(p=0.2, inplace=False)\n",
      "      )\n",
      "    )\n",
      "  )\n",
      "  (linear_layer): Linear(in_features=128, out_features=10, bias=True)\n",
      ")\n",
      "\"view_names\":       ['S1', 'weather', 'DEM', 'S2_S2VI']\n",
      "The missing as augmentation was set on with an augmentation of  15 and following missing_method = {'name': 'ignore', 'where': '', 'value_fill': None}\n",
      "Epoch 0: 100%|██████████| 155/155 [00:07<00:00, 21.31it/s, v_num=25, train_objective=1.640, train_fullview=1.500, train_missingview=1.650]"
     ]
    },
    {
     "name": "stderr",
     "output_type": "stream",
     "text": [
      "Metric val_objective improved. New best score: 1.098\n"
     ]
    },
    {
     "name": "stdout",
     "output_type": "stream",
     "text": [
      "Epoch 1: 100%|██████████| 155/155 [00:07<00:00, 21.73it/s, v_num=25, train_objective=1.560, train_fullview=1.420, train_missingview=1.570]"
     ]
    },
    {
     "name": "stderr",
     "output_type": "stream",
     "text": [
      "Metric val_objective improved by 0.168 >= min_delta = 0.01. New best score: 0.930\n"
     ]
    },
    {
     "name": "stdout",
     "output_type": "stream",
     "text": [
      "Epoch 2: 100%|██████████| 155/155 [00:07<00:00, 21.42it/s, v_num=25, train_objective=1.100, train_fullview=0.667, train_missingview=1.130]"
     ]
    },
    {
     "name": "stderr",
     "output_type": "stream",
     "text": [
      "Metric val_objective improved by 0.047 >= min_delta = 0.01. New best score: 0.883\n",
      "`Trainer.fit` stopped: `max_epochs=3` reached.\n"
     ]
    },
    {
     "name": "stdout",
     "output_type": "stream",
     "text": [
      "Epoch 2: 100%|██████████| 155/155 [00:07<00:00, 20.97it/s, v_num=25, train_objective=1.100, train_fullview=0.667, train_missingview=1.130]\n",
      "Training done\n",
      "Inference with the following views  ['S2_S2VI']  and percentage missing  1.0\n",
      "Fold 2/3 of Run 1/1 in Feat_transformer-MAUG-ignore-Forw_S2_S2VI finished...\n",
      "Inference with the following views  ['S2_S2VI', 'S1']  and percentage missing  1.0\n",
      "Fold 2/3 of Run 1/1 in Feat_transformer-MAUG-ignore-Forw_S2_S2VI_S1 finished...\n",
      "Inference with the following views  ['S1', 'weather', 'DEM']  and percentage missing  1.0\n",
      "Fold 2/3 of Run 1/1 in Feat_transformer-MAUG-ignore-Forw_S1_weather_DEM finished...\n",
      "Fold 2/3 of Run 1/1 in Feat_transformer-MAUG-ignore finished...\n",
      "******************************** Executing model on run 1 and kfold 3\n",
      "You select 5 views from the 8 available, you could use get_view_names() to check which are available, the selected views are ['S1', 'weather', 'DEM', 'S2', 'S2VI'], with additional views ['S2_S2VI']\n",
      "first dimension of list will be the views, instead of the standard of n-samples\n"
     ]
    },
    {
     "name": "stderr",
     "output_type": "stream",
     "text": [
      "100%|██████████| 29642/29642 [00:00<00:00, 199658.84it/s]\n"
     ]
    },
    {
     "name": "stdout",
     "output_type": "stream",
     "text": [
      "You select 5 views from the 8 available, you could use get_view_names() to check which are available, the selected views are ['S1', 'weather', 'DEM', 'S2', 'S2VI'], with additional views ['S2_S2VI']\n",
      "first dimension of list will be the views, instead of the standard of n-samples\n"
     ]
    },
    {
     "name": "stderr",
     "output_type": "stream",
     "text": [
      "100%|██████████| 29642/29642 [00:00<00:00, 394203.85it/s]\n",
      "/home/mena/miniconda3/envs/views2/lib/python3.8/site-packages/pytorch_lightning/utilities/parsing.py:197: UserWarning: Attribute 'predictive_model' is an instance of `nn.Module` and is already saved during checkpointing. It is recommended to ignore them using `self.save_hyperparameters(ignore=['predictive_model'])`.\n",
      "  rank_zero_warn(\n",
      "/home/mena/Documents/repos/com-views/src/datasets/views_loader.py:8: RuntimeWarning: divide by zero encountered in remainder\n",
      "  if v % int(v) == 0:\n",
      "GPU available: True (cuda), used: True\n",
      "TPU available: False, using: 0 TPU cores\n",
      "IPU available: False, using: 0 IPUs\n",
      "HPU available: False, using: 0 HPUs\n",
      "You are using a CUDA device ('NVIDIA GeForce RTX 3080 Laptop GPU') that has Tensor Cores. To properly utilize them, you should set `torch.set_float32_matmul_precision('medium' | 'high')` which will trade-off precision for performance. For more details, read https://pytorch.org/docs/stable/generated/torch.set_float32_matmul_precision.html#torch.set_float32_matmul_precision\n",
      "/home/mena/miniconda3/envs/views2/lib/python3.8/site-packages/pytorch_lightning/callbacks/model_checkpoint.py:612: UserWarning: Checkpoint directory /home/mena/Documents/repos/com-views/config_time/aux/run-saves/checkpoint_logs/cropharvest_multi_train/Feat_transformer-MAUG-ignore exists and is not empty.\n",
      "  rank_zero_warn(f\"Checkpoint directory {dirpath} exists and is not empty.\")\n",
      "LOCAL_RANK: 0 - CUDA_VISIBLE_DEVICES: [0]\n",
      "\n",
      "  | Name            | Type                | Params\n",
      "--------------------------------------------------------\n",
      "0 | views_encoder   | ModuleDict          | 3.1 M \n",
      "1 | fusion_module   | FusionModuleMissing | 100 K \n",
      "2 | prediction_head | Generic_Decoder     | 18.1 K\n",
      "3 | criteria        | CrossEntropyLoss    | 0     \n",
      "--------------------------------------------------------\n",
      "3.2 M     Trainable params\n",
      "0         Non-trainable params\n",
      "3.2 M     Total params\n",
      "12.809    Total estimated model params size (MB)\n"
     ]
    },
    {
     "name": "stdout",
     "output_type": "stream",
     "text": [
      "Training with 19762 samples and validating on 9880\n",
      "Initial parameters of model: \"loss_args\":        {'name': 'ce', 'weight': tensor([0.4371, 3.3158, 0.3486, 2.3277, 0.9773, 7.4574, 2.6778, 1.2035, 6.9585,\n",
      "        0.6222])}\n",
      "\"predictive_model\": Generic_Decoder(\n",
      "  (pre_decoder): MLP(\n",
      "    (layers): Sequential(\n",
      "      (0): Sequential(\n",
      "        (0): Linear(in_features=128, out_features=128, bias=True)\n",
      "        (1): ReLU()\n",
      "        (2): BatchNorm1d(128, eps=1e-05, momentum=0.1, affine=True, track_running_stats=True)\n",
      "        (3): Dropout(p=0.2, inplace=False)\n",
      "      )\n",
      "    )\n",
      "  )\n",
      "  (linear_layer): Linear(in_features=128, out_features=10, bias=True)\n",
      ")\n",
      "\"view_names\":       ['S1', 'weather', 'DEM', 'S2_S2VI']\n",
      "The missing as augmentation was set on with an augmentation of  15 and following missing_method = {'name': 'ignore', 'where': '', 'value_fill': None}\n",
      "Epoch 0: 100%|██████████| 155/155 [00:07<00:00, 21.74it/s, v_num=26, train_objective=1.440, train_fullview=1.280, train_missingview=1.460]"
     ]
    },
    {
     "name": "stderr",
     "output_type": "stream",
     "text": [
      "Metric val_objective improved. New best score: 1.075\n"
     ]
    },
    {
     "name": "stdout",
     "output_type": "stream",
     "text": [
      "Epoch 1: 100%|██████████| 155/155 [00:07<00:00, 21.74it/s, v_num=26, train_objective=1.320, train_fullview=1.140, train_missingview=1.330]"
     ]
    },
    {
     "name": "stderr",
     "output_type": "stream",
     "text": [
      "Metric val_objective improved by 0.144 >= min_delta = 0.01. New best score: 0.931\n"
     ]
    },
    {
     "name": "stdout",
     "output_type": "stream",
     "text": [
      "Epoch 2: 100%|██████████| 155/155 [00:07<00:00, 21.50it/s, v_num=26, train_objective=1.580, train_fullview=1.380, train_missingview=1.590]"
     ]
    },
    {
     "name": "stderr",
     "output_type": "stream",
     "text": [
      "Metric val_objective improved by 0.011 >= min_delta = 0.01. New best score: 0.920\n",
      "`Trainer.fit` stopped: `max_epochs=3` reached.\n"
     ]
    },
    {
     "name": "stdout",
     "output_type": "stream",
     "text": [
      "Epoch 2: 100%|██████████| 155/155 [00:07<00:00, 21.08it/s, v_num=26, train_objective=1.580, train_fullview=1.380, train_missingview=1.590]\n",
      "Training done\n",
      "Inference with the following views  ['S2_S2VI']  and percentage missing  1.0\n",
      "Fold 3/3 of Run 1/1 in Feat_transformer-MAUG-ignore-Forw_S2_S2VI finished...\n",
      "Inference with the following views  ['S2_S2VI', 'S1']  and percentage missing  1.0\n",
      "Fold 3/3 of Run 1/1 in Feat_transformer-MAUG-ignore-Forw_S2_S2VI_S1 finished...\n",
      "Inference with the following views  ['S1', 'weather', 'DEM']  and percentage missing  1.0\n",
      "Fold 3/3 of Run 1/1 in Feat_transformer-MAUG-ignore-Forw_S1_weather_DEM finished...\n",
      "Fold 3/3 of Run 1/1 in Feat_transformer-MAUG-ignore finished...\n",
      "Epochs for Feat_transformer-MAUG-ignore runs on average for 0.00 epochs +- 0.000\n",
      "Finished whole execution of 1 runs in 76.29 secs\n",
      "Normalize views\n",
      "******************************** Executing model on run 1 and kfold 1\n",
      "You select 5 views from the 8 available, you could use get_view_names() to check which are available, the selected views are ['S1', 'weather', 'DEM', 'S2', 'S2VI'], with additional views ['S2_S2VI']\n",
      "first dimension of list will be the views, instead of the standard of n-samples\n"
     ]
    },
    {
     "name": "stderr",
     "output_type": "stream",
     "text": [
      "100%|██████████| 29642/29642 [00:00<00:00, 234611.29it/s]\n"
     ]
    },
    {
     "name": "stdout",
     "output_type": "stream",
     "text": [
      "You select 5 views from the 8 available, you could use get_view_names() to check which are available, the selected views are ['S1', 'weather', 'DEM', 'S2', 'S2VI'], with additional views ['S2_S2VI']\n",
      "first dimension of list will be the views, instead of the standard of n-samples\n"
     ]
    },
    {
     "name": "stderr",
     "output_type": "stream",
     "text": [
      "100%|██████████| 29642/29642 [00:00<00:00, 427932.16it/s]\n",
      "/home/mena/miniconda3/envs/views2/lib/python3.8/site-packages/pytorch_lightning/utilities/parsing.py:197: UserWarning: Attribute 'predictive_model' is an instance of `nn.Module` and is already saved during checkpointing. It is recommended to ignore them using `self.save_hyperparameters(ignore=['predictive_model'])`.\n",
      "  rank_zero_warn(\n",
      "/home/mena/Documents/repos/com-views/src/datasets/views_loader.py:8: RuntimeWarning: divide by zero encountered in remainder\n",
      "  if v % int(v) == 0:\n",
      "GPU available: True (cuda), used: True\n",
      "TPU available: False, using: 0 TPU cores\n",
      "IPU available: False, using: 0 IPUs\n",
      "HPU available: False, using: 0 HPUs\n",
      "You are using a CUDA device ('NVIDIA GeForce RTX 3080 Laptop GPU') that has Tensor Cores. To properly utilize them, you should set `torch.set_float32_matmul_precision('medium' | 'high')` which will trade-off precision for performance. For more details, read https://pytorch.org/docs/stable/generated/torch.set_float32_matmul_precision.html#torch.set_float32_matmul_precision\n",
      "LOCAL_RANK: 0 - CUDA_VISIBLE_DEVICES: [0]\n",
      "\n",
      "  | Name            | Type                | Params\n",
      "--------------------------------------------------------\n",
      "0 | views_encoder   | ModuleDict          | 3.1 M \n",
      "1 | fusion_module   | FusionModuleMissing | 659 K \n",
      "2 | prediction_head | Generic_Decoder     | 18.1 K\n",
      "3 | criteria        | CrossEntropyLoss    | 0     \n",
      "--------------------------------------------------------\n",
      "3.8 M     Trainable params\n",
      "0         Non-trainable params\n",
      "3.8 M     Total params\n",
      "15.046    Total estimated model params size (MB)\n"
     ]
    },
    {
     "name": "stdout",
     "output_type": "stream",
     "text": [
      "Training with 19761 samples and validating on 9881\n",
      "Initial parameters of model: \"loss_args\":        {'name': 'ce', 'weight': tensor([0.4331, 3.4307, 0.3464, 2.3982, 0.9846, 7.8107, 2.6418, 1.1638, 7.2385,\n",
      "        0.6344])}\n",
      "\"predictive_model\": Generic_Decoder(\n",
      "  (pre_decoder): MLP(\n",
      "    (layers): Sequential(\n",
      "      (0): Sequential(\n",
      "        (0): Linear(in_features=128, out_features=128, bias=True)\n",
      "        (1): ReLU()\n",
      "        (2): BatchNorm1d(128, eps=1e-05, momentum=0.1, affine=True, track_running_stats=True)\n",
      "        (3): Dropout(p=0.2, inplace=False)\n",
      "      )\n",
      "    )\n",
      "  )\n",
      "  (linear_layer): Linear(in_features=128, out_features=10, bias=True)\n",
      ")\n",
      "\"view_names\":       ['S1', 'weather', 'DEM', 'S2_S2VI']\n",
      "The missing as augmentation was set on with an augmentation of  15 and following missing_method = {'name': 'ignore', 'where': '', 'value_fill': None}\n",
      "Epoch 0: 100%|██████████| 155/155 [00:06<00:00, 24.38it/s, v_num=27, train_objective=1.410, train_fullview=1.260, train_missingview=1.420]"
     ]
    },
    {
     "name": "stderr",
     "output_type": "stream",
     "text": [
      "Metric val_objective improved. New best score: 1.052\n"
     ]
    },
    {
     "name": "stdout",
     "output_type": "stream",
     "text": [
      "Epoch 1: 100%|██████████| 155/155 [00:06<00:00, 23.84it/s, v_num=27, train_objective=1.610, train_fullview=1.300, train_missingview=1.630]"
     ]
    },
    {
     "name": "stderr",
     "output_type": "stream",
     "text": [
      "Metric val_objective improved by 0.097 >= min_delta = 0.01. New best score: 0.955\n"
     ]
    },
    {
     "name": "stdout",
     "output_type": "stream",
     "text": [
      "Epoch 2: 100%|██████████| 155/155 [00:06<00:00, 23.51it/s, v_num=27, train_objective=1.450, train_fullview=1.150, train_missingview=1.470]"
     ]
    },
    {
     "name": "stderr",
     "output_type": "stream",
     "text": [
      "Metric val_objective improved by 0.027 >= min_delta = 0.01. New best score: 0.928\n",
      "`Trainer.fit` stopped: `max_epochs=3` reached.\n"
     ]
    },
    {
     "name": "stdout",
     "output_type": "stream",
     "text": [
      "Epoch 2: 100%|██████████| 155/155 [00:06<00:00, 23.06it/s, v_num=27, train_objective=1.450, train_fullview=1.150, train_missingview=1.470]\n",
      "Training done\n",
      "Inference with the following views  ['S2_S2VI']  and percentage missing  1.0\n",
      "Fold 1/3 of Run 1/2 in Feat_lstm-MAUG-ignore-Forw_S2_S2VI finished...\n",
      "Inference with the following views  ['S2_S2VI', 'S1']  and percentage missing  1.0\n",
      "Fold 1/3 of Run 1/2 in Feat_lstm-MAUG-ignore-Forw_S2_S2VI_S1 finished...\n",
      "Inference with the following views  ['S1', 'weather', 'DEM']  and percentage missing  1.0\n",
      "Fold 1/3 of Run 1/2 in Feat_lstm-MAUG-ignore-Forw_S1_weather_DEM finished...\n",
      "Fold 1/3 of Run 1/2 in Feat_lstm-MAUG-ignore finished...\n",
      "******************************** Executing model on run 1 and kfold 2\n",
      "You select 5 views from the 8 available, you could use get_view_names() to check which are available, the selected views are ['S1', 'weather', 'DEM', 'S2', 'S2VI'], with additional views ['S2_S2VI']\n",
      "first dimension of list will be the views, instead of the standard of n-samples\n"
     ]
    },
    {
     "name": "stderr",
     "output_type": "stream",
     "text": [
      "100%|██████████| 29642/29642 [00:00<00:00, 211041.95it/s]"
     ]
    },
    {
     "name": "stdout",
     "output_type": "stream",
     "text": [
      "You select 5 views from the 8 available, you could use get_view_names() to check which are available, the selected views are ['S1', 'weather', 'DEM', 'S2', 'S2VI'], with additional views ['S2_S2VI']\n",
      "first dimension of list will be the views, instead of the standard of n-samples\n"
     ]
    },
    {
     "name": "stderr",
     "output_type": "stream",
     "text": [
      "\n",
      "100%|██████████| 29642/29642 [00:00<00:00, 408473.73it/s]\n",
      "/home/mena/miniconda3/envs/views2/lib/python3.8/site-packages/pytorch_lightning/utilities/parsing.py:197: UserWarning: Attribute 'predictive_model' is an instance of `nn.Module` and is already saved during checkpointing. It is recommended to ignore them using `self.save_hyperparameters(ignore=['predictive_model'])`.\n",
      "  rank_zero_warn(\n",
      "/home/mena/Documents/repos/com-views/src/datasets/views_loader.py:8: RuntimeWarning: divide by zero encountered in remainder\n",
      "  if v % int(v) == 0:\n",
      "GPU available: True (cuda), used: True\n",
      "TPU available: False, using: 0 TPU cores\n",
      "IPU available: False, using: 0 IPUs\n",
      "HPU available: False, using: 0 HPUs\n",
      "You are using a CUDA device ('NVIDIA GeForce RTX 3080 Laptop GPU') that has Tensor Cores. To properly utilize them, you should set `torch.set_float32_matmul_precision('medium' | 'high')` which will trade-off precision for performance. For more details, read https://pytorch.org/docs/stable/generated/torch.set_float32_matmul_precision.html#torch.set_float32_matmul_precision\n",
      "/home/mena/miniconda3/envs/views2/lib/python3.8/site-packages/pytorch_lightning/callbacks/model_checkpoint.py:612: UserWarning: Checkpoint directory /home/mena/Documents/repos/com-views/config_time/aux/run-saves/checkpoint_logs/cropharvest_multi_train/Feat_lstm-MAUG-ignore exists and is not empty.\n",
      "  rank_zero_warn(f\"Checkpoint directory {dirpath} exists and is not empty.\")\n",
      "LOCAL_RANK: 0 - CUDA_VISIBLE_DEVICES: [0]\n",
      "\n",
      "  | Name            | Type                | Params\n",
      "--------------------------------------------------------\n",
      "0 | views_encoder   | ModuleDict          | 3.1 M \n",
      "1 | fusion_module   | FusionModuleMissing | 659 K \n",
      "2 | prediction_head | Generic_Decoder     | 18.1 K\n",
      "3 | criteria        | CrossEntropyLoss    | 0     \n",
      "--------------------------------------------------------\n",
      "3.8 M     Trainable params\n",
      "0         Non-trainable params\n",
      "3.8 M     Total params\n",
      "15.046    Total estimated model params size (MB)\n"
     ]
    },
    {
     "name": "stdout",
     "output_type": "stream",
     "text": [
      "Training with 19761 samples and validating on 9881\n",
      "Initial parameters of model: \"loss_args\":        {'name': 'ce', 'weight': tensor([0.4326, 3.4729, 0.3509, 2.3723, 0.9696, 7.2651, 2.7033, 1.2027, 6.7907,\n",
      "        0.6204])}\n",
      "\"predictive_model\": Generic_Decoder(\n",
      "  (pre_decoder): MLP(\n",
      "    (layers): Sequential(\n",
      "      (0): Sequential(\n",
      "        (0): Linear(in_features=128, out_features=128, bias=True)\n",
      "        (1): ReLU()\n",
      "        (2): BatchNorm1d(128, eps=1e-05, momentum=0.1, affine=True, track_running_stats=True)\n",
      "        (3): Dropout(p=0.2, inplace=False)\n",
      "      )\n",
      "    )\n",
      "  )\n",
      "  (linear_layer): Linear(in_features=128, out_features=10, bias=True)\n",
      ")\n",
      "\"view_names\":       ['S1', 'weather', 'DEM', 'S2_S2VI']\n",
      "The missing as augmentation was set on with an augmentation of  15 and following missing_method = {'name': 'ignore', 'where': '', 'value_fill': None}\n",
      "Epoch 0: 100%|██████████| 155/155 [00:06<00:00, 23.65it/s, v_num=28, train_objective=1.380, train_fullview=1.140, train_missingview=1.390]"
     ]
    },
    {
     "name": "stderr",
     "output_type": "stream",
     "text": [
      "Metric val_objective improved. New best score: 1.008\n"
     ]
    },
    {
     "name": "stdout",
     "output_type": "stream",
     "text": [
      "Epoch 2: 100%|██████████| 155/155 [00:06<00:00, 22.71it/s, v_num=28, train_objective=1.300, train_fullview=0.988, train_missingview=1.320]"
     ]
    },
    {
     "name": "stderr",
     "output_type": "stream",
     "text": [
      "Metric val_objective improved by 0.087 >= min_delta = 0.01. New best score: 0.921\n",
      "`Trainer.fit` stopped: `max_epochs=3` reached.\n"
     ]
    },
    {
     "name": "stdout",
     "output_type": "stream",
     "text": [
      "Epoch 2: 100%|██████████| 155/155 [00:06<00:00, 22.30it/s, v_num=28, train_objective=1.300, train_fullview=0.988, train_missingview=1.320]\n",
      "Training done\n",
      "Inference with the following views  ['S2_S2VI']  and percentage missing  1.0\n",
      "Fold 2/3 of Run 1/2 in Feat_lstm-MAUG-ignore-Forw_S2_S2VI finished...\n",
      "Inference with the following views  ['S2_S2VI', 'S1']  and percentage missing  1.0\n",
      "Fold 2/3 of Run 1/2 in Feat_lstm-MAUG-ignore-Forw_S2_S2VI_S1 finished...\n",
      "Inference with the following views  ['S1', 'weather', 'DEM']  and percentage missing  1.0\n",
      "Fold 2/3 of Run 1/2 in Feat_lstm-MAUG-ignore-Forw_S1_weather_DEM finished...\n",
      "Fold 2/3 of Run 1/2 in Feat_lstm-MAUG-ignore finished...\n",
      "******************************** Executing model on run 1 and kfold 3\n",
      "You select 5 views from the 8 available, you could use get_view_names() to check which are available, the selected views are ['S1', 'weather', 'DEM', 'S2', 'S2VI'], with additional views ['S2_S2VI']\n",
      "first dimension of list will be the views, instead of the standard of n-samples\n"
     ]
    },
    {
     "name": "stderr",
     "output_type": "stream",
     "text": [
      "100%|██████████| 29642/29642 [00:00<00:00, 182013.71it/s]\n"
     ]
    },
    {
     "name": "stdout",
     "output_type": "stream",
     "text": [
      "You select 5 views from the 8 available, you could use get_view_names() to check which are available, the selected views are ['S1', 'weather', 'DEM', 'S2', 'S2VI'], with additional views ['S2_S2VI']\n",
      "first dimension of list will be the views, instead of the standard of n-samples\n"
     ]
    },
    {
     "name": "stderr",
     "output_type": "stream",
     "text": [
      "100%|██████████| 29642/29642 [00:00<00:00, 412243.06it/s]\n",
      "/home/mena/miniconda3/envs/views2/lib/python3.8/site-packages/pytorch_lightning/utilities/parsing.py:197: UserWarning: Attribute 'predictive_model' is an instance of `nn.Module` and is already saved during checkpointing. It is recommended to ignore them using `self.save_hyperparameters(ignore=['predictive_model'])`.\n",
      "  rank_zero_warn(\n",
      "/home/mena/Documents/repos/com-views/src/datasets/views_loader.py:8: RuntimeWarning: divide by zero encountered in remainder\n",
      "  if v % int(v) == 0:\n",
      "GPU available: True (cuda), used: True\n",
      "TPU available: False, using: 0 TPU cores\n",
      "IPU available: False, using: 0 IPUs\n",
      "HPU available: False, using: 0 HPUs\n",
      "You are using a CUDA device ('NVIDIA GeForce RTX 3080 Laptop GPU') that has Tensor Cores. To properly utilize them, you should set `torch.set_float32_matmul_precision('medium' | 'high')` which will trade-off precision for performance. For more details, read https://pytorch.org/docs/stable/generated/torch.set_float32_matmul_precision.html#torch.set_float32_matmul_precision\n",
      "/home/mena/miniconda3/envs/views2/lib/python3.8/site-packages/pytorch_lightning/callbacks/model_checkpoint.py:612: UserWarning: Checkpoint directory /home/mena/Documents/repos/com-views/config_time/aux/run-saves/checkpoint_logs/cropharvest_multi_train/Feat_lstm-MAUG-ignore exists and is not empty.\n",
      "  rank_zero_warn(f\"Checkpoint directory {dirpath} exists and is not empty.\")\n",
      "LOCAL_RANK: 0 - CUDA_VISIBLE_DEVICES: [0]\n",
      "\n",
      "  | Name            | Type                | Params\n",
      "--------------------------------------------------------\n",
      "0 | views_encoder   | ModuleDict          | 3.1 M \n",
      "1 | fusion_module   | FusionModuleMissing | 659 K \n",
      "2 | prediction_head | Generic_Decoder     | 18.1 K\n",
      "3 | criteria        | CrossEntropyLoss    | 0     \n",
      "--------------------------------------------------------\n",
      "3.8 M     Trainable params\n",
      "0         Non-trainable params\n",
      "3.8 M     Total params\n",
      "15.046    Total estimated model params size (MB)\n"
     ]
    },
    {
     "name": "stdout",
     "output_type": "stream",
     "text": [
      "Training with 19762 samples and validating on 9880\n",
      "Initial parameters of model: \"loss_args\":        {'name': 'ce', 'weight': tensor([0.4402, 3.3666, 0.3497, 2.2741, 0.9635, 6.8381, 2.7333, 1.1941, 7.3739,\n",
      "        0.6214])}\n",
      "\"predictive_model\": Generic_Decoder(\n",
      "  (pre_decoder): MLP(\n",
      "    (layers): Sequential(\n",
      "      (0): Sequential(\n",
      "        (0): Linear(in_features=128, out_features=128, bias=True)\n",
      "        (1): ReLU()\n",
      "        (2): BatchNorm1d(128, eps=1e-05, momentum=0.1, affine=True, track_running_stats=True)\n",
      "        (3): Dropout(p=0.2, inplace=False)\n",
      "      )\n",
      "    )\n",
      "  )\n",
      "  (linear_layer): Linear(in_features=128, out_features=10, bias=True)\n",
      ")\n",
      "\"view_names\":       ['S1', 'weather', 'DEM', 'S2_S2VI']\n",
      "The missing as augmentation was set on with an augmentation of  15 and following missing_method = {'name': 'ignore', 'where': '', 'value_fill': None}\n",
      "Epoch 0: 100%|██████████| 155/155 [00:06<00:00, 22.91it/s, v_num=29, train_objective=1.950, train_fullview=1.830, train_missingview=1.960]"
     ]
    },
    {
     "name": "stderr",
     "output_type": "stream",
     "text": [
      "Metric val_objective improved. New best score: 1.011\n"
     ]
    },
    {
     "name": "stdout",
     "output_type": "stream",
     "text": [
      "Epoch 1: 100%|██████████| 155/155 [00:07<00:00, 22.01it/s, v_num=29, train_objective=1.580, train_fullview=1.380, train_missingview=1.600]"
     ]
    },
    {
     "name": "stderr",
     "output_type": "stream",
     "text": [
      "Metric val_objective improved by 0.129 >= min_delta = 0.01. New best score: 0.882\n"
     ]
    },
    {
     "name": "stdout",
     "output_type": "stream",
     "text": [
      "Epoch 2: 100%|██████████| 155/155 [00:07<00:00, 22.09it/s, v_num=29, train_objective=1.110, train_fullview=0.793, train_missingview=1.130]"
     ]
    },
    {
     "name": "stderr",
     "output_type": "stream",
     "text": [
      "Metric val_objective improved by 0.046 >= min_delta = 0.01. New best score: 0.836\n",
      "`Trainer.fit` stopped: `max_epochs=3` reached.\n"
     ]
    },
    {
     "name": "stdout",
     "output_type": "stream",
     "text": [
      "Epoch 2: 100%|██████████| 155/155 [00:07<00:00, 21.52it/s, v_num=29, train_objective=1.110, train_fullview=0.793, train_missingview=1.130]\n",
      "Training done\n",
      "Inference with the following views  ['S2_S2VI']  and percentage missing  1.0\n",
      "Fold 3/3 of Run 1/2 in Feat_lstm-MAUG-ignore-Forw_S2_S2VI finished...\n",
      "Inference with the following views  ['S2_S2VI', 'S1']  and percentage missing  1.0\n",
      "Fold 3/3 of Run 1/2 in Feat_lstm-MAUG-ignore-Forw_S2_S2VI_S1 finished...\n",
      "Inference with the following views  ['S1', 'weather', 'DEM']  and percentage missing  1.0\n",
      "Fold 3/3 of Run 1/2 in Feat_lstm-MAUG-ignore-Forw_S1_weather_DEM finished...\n",
      "Fold 3/3 of Run 1/2 in Feat_lstm-MAUG-ignore finished...\n",
      "******************************** Executing model on run 2 and kfold 1\n",
      "You select 5 views from the 8 available, you could use get_view_names() to check which are available, the selected views are ['S1', 'weather', 'DEM', 'S2', 'S2VI'], with additional views ['S2_S2VI']\n",
      "first dimension of list will be the views, instead of the standard of n-samples\n"
     ]
    },
    {
     "name": "stderr",
     "output_type": "stream",
     "text": [
      "100%|██████████| 29642/29642 [00:00<00:00, 201743.99it/s]\n"
     ]
    },
    {
     "name": "stdout",
     "output_type": "stream",
     "text": [
      "You select 5 views from the 8 available, you could use get_view_names() to check which are available, the selected views are ['S1', 'weather', 'DEM', 'S2', 'S2VI'], with additional views ['S2_S2VI']\n",
      "first dimension of list will be the views, instead of the standard of n-samples\n"
     ]
    },
    {
     "name": "stderr",
     "output_type": "stream",
     "text": [
      "100%|██████████| 29642/29642 [00:00<00:00, 371004.11it/s]\n",
      "/home/mena/miniconda3/envs/views2/lib/python3.8/site-packages/pytorch_lightning/utilities/parsing.py:197: UserWarning: Attribute 'predictive_model' is an instance of `nn.Module` and is already saved during checkpointing. It is recommended to ignore them using `self.save_hyperparameters(ignore=['predictive_model'])`.\n",
      "  rank_zero_warn(\n",
      "/home/mena/Documents/repos/com-views/src/datasets/views_loader.py:8: RuntimeWarning: divide by zero encountered in remainder\n",
      "  if v % int(v) == 0:\n",
      "GPU available: True (cuda), used: True\n",
      "TPU available: False, using: 0 TPU cores\n",
      "IPU available: False, using: 0 IPUs\n",
      "HPU available: False, using: 0 HPUs\n",
      "You are using a CUDA device ('NVIDIA GeForce RTX 3080 Laptop GPU') that has Tensor Cores. To properly utilize them, you should set `torch.set_float32_matmul_precision('medium' | 'high')` which will trade-off precision for performance. For more details, read https://pytorch.org/docs/stable/generated/torch.set_float32_matmul_precision.html#torch.set_float32_matmul_precision\n",
      "/home/mena/miniconda3/envs/views2/lib/python3.8/site-packages/pytorch_lightning/callbacks/model_checkpoint.py:612: UserWarning: Checkpoint directory /home/mena/Documents/repos/com-views/config_time/aux/run-saves/checkpoint_logs/cropharvest_multi_train/Feat_lstm-MAUG-ignore exists and is not empty.\n",
      "  rank_zero_warn(f\"Checkpoint directory {dirpath} exists and is not empty.\")\n",
      "LOCAL_RANK: 0 - CUDA_VISIBLE_DEVICES: [0]\n",
      "\n",
      "  | Name            | Type                | Params\n",
      "--------------------------------------------------------\n",
      "0 | views_encoder   | ModuleDict          | 3.1 M \n",
      "1 | fusion_module   | FusionModuleMissing | 659 K \n",
      "2 | prediction_head | Generic_Decoder     | 18.1 K\n",
      "3 | criteria        | CrossEntropyLoss    | 0     \n",
      "--------------------------------------------------------\n",
      "3.8 M     Trainable params\n",
      "0         Non-trainable params\n",
      "3.8 M     Total params\n",
      "15.046    Total estimated model params size (MB)\n"
     ]
    },
    {
     "name": "stdout",
     "output_type": "stream",
     "text": [
      "Training with 19761 samples and validating on 9881\n",
      "Initial parameters of model: \"loss_args\":        {'name': 'ce', 'weight': tensor([0.4382, 3.3954, 0.3491, 2.3525, 0.9478, 7.0324, 2.7033, 1.1805, 7.4011,\n",
      "        0.6311])}\n",
      "\"predictive_model\": Generic_Decoder(\n",
      "  (pre_decoder): MLP(\n",
      "    (layers): Sequential(\n",
      "      (0): Sequential(\n",
      "        (0): Linear(in_features=128, out_features=128, bias=True)\n",
      "        (1): ReLU()\n",
      "        (2): BatchNorm1d(128, eps=1e-05, momentum=0.1, affine=True, track_running_stats=True)\n",
      "        (3): Dropout(p=0.2, inplace=False)\n",
      "      )\n",
      "    )\n",
      "  )\n",
      "  (linear_layer): Linear(in_features=128, out_features=10, bias=True)\n",
      ")\n",
      "\"view_names\":       ['S1', 'weather', 'DEM', 'S2_S2VI']\n",
      "The missing as augmentation was set on with an augmentation of  15 and following missing_method = {'name': 'ignore', 'where': '', 'value_fill': None}\n",
      "Epoch 0: 100%|██████████| 155/155 [00:07<00:00, 21.74it/s, v_num=30, train_objective=1.450, train_fullview=1.240, train_missingview=1.460]"
     ]
    },
    {
     "name": "stderr",
     "output_type": "stream",
     "text": [
      "Metric val_objective improved. New best score: 0.973\n"
     ]
    },
    {
     "name": "stdout",
     "output_type": "stream",
     "text": [
      "Epoch 1: 100%|██████████| 155/155 [00:07<00:00, 21.29it/s, v_num=30, train_objective=1.360, train_fullview=1.140, train_missingview=1.380]"
     ]
    },
    {
     "name": "stderr",
     "output_type": "stream",
     "text": [
      "Metric val_objective improved by 0.014 >= min_delta = 0.01. New best score: 0.959\n"
     ]
    },
    {
     "name": "stdout",
     "output_type": "stream",
     "text": [
      "Epoch 2: 100%|██████████| 155/155 [00:06<00:00, 22.35it/s, v_num=30, train_objective=0.938, train_fullview=0.609, train_missingview=0.961]"
     ]
    },
    {
     "name": "stderr",
     "output_type": "stream",
     "text": [
      "Metric val_objective improved by 0.101 >= min_delta = 0.01. New best score: 0.858\n",
      "`Trainer.fit` stopped: `max_epochs=3` reached.\n"
     ]
    },
    {
     "name": "stdout",
     "output_type": "stream",
     "text": [
      "Epoch 2: 100%|██████████| 155/155 [00:07<00:00, 21.95it/s, v_num=30, train_objective=0.938, train_fullview=0.609, train_missingview=0.961]\n",
      "Training done\n",
      "Inference with the following views  ['S2_S2VI']  and percentage missing  1.0\n",
      "Fold 1/3 of Run 2/2 in Feat_lstm-MAUG-ignore-Forw_S2_S2VI finished...\n",
      "Inference with the following views  ['S2_S2VI', 'S1']  and percentage missing  1.0\n",
      "Fold 1/3 of Run 2/2 in Feat_lstm-MAUG-ignore-Forw_S2_S2VI_S1 finished...\n",
      "Inference with the following views  ['S1', 'weather', 'DEM']  and percentage missing  1.0\n",
      "Fold 1/3 of Run 2/2 in Feat_lstm-MAUG-ignore-Forw_S1_weather_DEM finished...\n",
      "Fold 1/3 of Run 2/2 in Feat_lstm-MAUG-ignore finished...\n",
      "******************************** Executing model on run 2 and kfold 2\n",
      "You select 5 views from the 8 available, you could use get_view_names() to check which are available, the selected views are ['S1', 'weather', 'DEM', 'S2', 'S2VI'], with additional views ['S2_S2VI']\n",
      "first dimension of list will be the views, instead of the standard of n-samples\n"
     ]
    },
    {
     "name": "stderr",
     "output_type": "stream",
     "text": [
      "100%|██████████| 29642/29642 [00:00<00:00, 197956.17it/s]\n"
     ]
    },
    {
     "name": "stdout",
     "output_type": "stream",
     "text": [
      "You select 5 views from the 8 available, you could use get_view_names() to check which are available, the selected views are ['S1', 'weather', 'DEM', 'S2', 'S2VI'], with additional views ['S2_S2VI']\n",
      "first dimension of list will be the views, instead of the standard of n-samples\n"
     ]
    },
    {
     "name": "stderr",
     "output_type": "stream",
     "text": [
      "100%|██████████| 29642/29642 [00:00<00:00, 311970.07it/s]\n",
      "/home/mena/miniconda3/envs/views2/lib/python3.8/site-packages/pytorch_lightning/utilities/parsing.py:197: UserWarning: Attribute 'predictive_model' is an instance of `nn.Module` and is already saved during checkpointing. It is recommended to ignore them using `self.save_hyperparameters(ignore=['predictive_model'])`.\n",
      "  rank_zero_warn(\n",
      "/home/mena/Documents/repos/com-views/src/datasets/views_loader.py:8: RuntimeWarning: divide by zero encountered in remainder\n",
      "  if v % int(v) == 0:\n",
      "GPU available: True (cuda), used: True\n",
      "TPU available: False, using: 0 TPU cores\n",
      "IPU available: False, using: 0 IPUs\n",
      "HPU available: False, using: 0 HPUs\n",
      "You are using a CUDA device ('NVIDIA GeForce RTX 3080 Laptop GPU') that has Tensor Cores. To properly utilize them, you should set `torch.set_float32_matmul_precision('medium' | 'high')` which will trade-off precision for performance. For more details, read https://pytorch.org/docs/stable/generated/torch.set_float32_matmul_precision.html#torch.set_float32_matmul_precision\n",
      "/home/mena/miniconda3/envs/views2/lib/python3.8/site-packages/pytorch_lightning/callbacks/model_checkpoint.py:612: UserWarning: Checkpoint directory /home/mena/Documents/repos/com-views/config_time/aux/run-saves/checkpoint_logs/cropharvest_multi_train/Feat_lstm-MAUG-ignore exists and is not empty.\n",
      "  rank_zero_warn(f\"Checkpoint directory {dirpath} exists and is not empty.\")\n",
      "LOCAL_RANK: 0 - CUDA_VISIBLE_DEVICES: [0]\n",
      "\n",
      "  | Name            | Type                | Params\n",
      "--------------------------------------------------------\n",
      "0 | views_encoder   | ModuleDict          | 3.1 M \n",
      "1 | fusion_module   | FusionModuleMissing | 659 K \n",
      "2 | prediction_head | Generic_Decoder     | 18.1 K\n",
      "3 | criteria        | CrossEntropyLoss    | 0     \n",
      "--------------------------------------------------------\n",
      "3.8 M     Trainable params\n",
      "0         Non-trainable params\n",
      "3.8 M     Total params\n",
      "15.046    Total estimated model params size (MB)\n"
     ]
    },
    {
     "name": "stdout",
     "output_type": "stream",
     "text": [
      "Training with 19761 samples and validating on 9881\n",
      "Initial parameters of model: \"loss_args\":        {'name': 'ce', 'weight': tensor([0.4306, 3.5670, 0.3493, 2.3609, 0.9935, 7.3735, 2.6959, 1.1762, 7.0324,\n",
      "        0.6228])}\n",
      "\"predictive_model\": Generic_Decoder(\n",
      "  (pre_decoder): MLP(\n",
      "    (layers): Sequential(\n",
      "      (0): Sequential(\n",
      "        (0): Linear(in_features=128, out_features=128, bias=True)\n",
      "        (1): ReLU()\n",
      "        (2): BatchNorm1d(128, eps=1e-05, momentum=0.1, affine=True, track_running_stats=True)\n",
      "        (3): Dropout(p=0.2, inplace=False)\n",
      "      )\n",
      "    )\n",
      "  )\n",
      "  (linear_layer): Linear(in_features=128, out_features=10, bias=True)\n",
      ")\n",
      "\"view_names\":       ['S1', 'weather', 'DEM', 'S2_S2VI']\n",
      "The missing as augmentation was set on with an augmentation of  15 and following missing_method = {'name': 'ignore', 'where': '', 'value_fill': None}\n",
      "Epoch 0: 100%|██████████| 155/155 [00:06<00:00, 23.01it/s, v_num=31, train_objective=1.540, train_fullview=1.210, train_missingview=1.560]"
     ]
    },
    {
     "name": "stderr",
     "output_type": "stream",
     "text": [
      "Metric val_objective improved. New best score: 1.019\n"
     ]
    },
    {
     "name": "stdout",
     "output_type": "stream",
     "text": [
      "Epoch 1: 100%|██████████| 155/155 [00:07<00:00, 21.38it/s, v_num=31, train_objective=1.340, train_fullview=1.020, train_missingview=1.360]"
     ]
    },
    {
     "name": "stderr",
     "output_type": "stream",
     "text": [
      "Metric val_objective improved by 0.107 >= min_delta = 0.01. New best score: 0.912\n"
     ]
    },
    {
     "name": "stdout",
     "output_type": "stream",
     "text": [
      "Epoch 2: 100%|██████████| 155/155 [00:07<00:00, 21.60it/s, v_num=31, train_objective=1.280, train_fullview=0.928, train_missingview=1.310]"
     ]
    },
    {
     "name": "stderr",
     "output_type": "stream",
     "text": [
      "`Trainer.fit` stopped: `max_epochs=3` reached.\n"
     ]
    },
    {
     "name": "stdout",
     "output_type": "stream",
     "text": [
      "Epoch 2: 100%|██████████| 155/155 [00:07<00:00, 21.19it/s, v_num=31, train_objective=1.280, train_fullview=0.928, train_missingview=1.310]\n",
      "Training done\n",
      "Inference with the following views  ['S2_S2VI']  and percentage missing  1.0\n",
      "Fold 2/3 of Run 2/2 in Feat_lstm-MAUG-ignore-Forw_S2_S2VI finished...\n",
      "Inference with the following views  ['S2_S2VI', 'S1']  and percentage missing  1.0\n",
      "Fold 2/3 of Run 2/2 in Feat_lstm-MAUG-ignore-Forw_S2_S2VI_S1 finished...\n",
      "Inference with the following views  ['S1', 'weather', 'DEM']  and percentage missing  1.0\n",
      "Fold 2/3 of Run 2/2 in Feat_lstm-MAUG-ignore-Forw_S1_weather_DEM finished...\n",
      "Fold 2/3 of Run 2/2 in Feat_lstm-MAUG-ignore finished...\n",
      "******************************** Executing model on run 2 and kfold 3\n",
      "You select 5 views from the 8 available, you could use get_view_names() to check which are available, the selected views are ['S1', 'weather', 'DEM', 'S2', 'S2VI'], with additional views ['S2_S2VI']\n",
      "first dimension of list will be the views, instead of the standard of n-samples\n"
     ]
    },
    {
     "name": "stderr",
     "output_type": "stream",
     "text": [
      "100%|██████████| 29642/29642 [00:00<00:00, 202574.65it/s]\n"
     ]
    },
    {
     "name": "stdout",
     "output_type": "stream",
     "text": [
      "You select 5 views from the 8 available, you could use get_view_names() to check which are available, the selected views are ['S1', 'weather', 'DEM', 'S2', 'S2VI'], with additional views ['S2_S2VI']\n",
      "first dimension of list will be the views, instead of the standard of n-samples\n"
     ]
    },
    {
     "name": "stderr",
     "output_type": "stream",
     "text": [
      "100%|██████████| 29642/29642 [00:00<00:00, 384870.96it/s]\n",
      "/home/mena/miniconda3/envs/views2/lib/python3.8/site-packages/pytorch_lightning/utilities/parsing.py:197: UserWarning: Attribute 'predictive_model' is an instance of `nn.Module` and is already saved during checkpointing. It is recommended to ignore them using `self.save_hyperparameters(ignore=['predictive_model'])`.\n",
      "  rank_zero_warn(\n",
      "/home/mena/Documents/repos/com-views/src/datasets/views_loader.py:8: RuntimeWarning: divide by zero encountered in remainder\n",
      "  if v % int(v) == 0:\n",
      "GPU available: True (cuda), used: True\n",
      "TPU available: False, using: 0 TPU cores\n",
      "IPU available: False, using: 0 IPUs\n",
      "HPU available: False, using: 0 HPUs\n",
      "You are using a CUDA device ('NVIDIA GeForce RTX 3080 Laptop GPU') that has Tensor Cores. To properly utilize them, you should set `torch.set_float32_matmul_precision('medium' | 'high')` which will trade-off precision for performance. For more details, read https://pytorch.org/docs/stable/generated/torch.set_float32_matmul_precision.html#torch.set_float32_matmul_precision\n",
      "/home/mena/miniconda3/envs/views2/lib/python3.8/site-packages/pytorch_lightning/callbacks/model_checkpoint.py:612: UserWarning: Checkpoint directory /home/mena/Documents/repos/com-views/config_time/aux/run-saves/checkpoint_logs/cropharvest_multi_train/Feat_lstm-MAUG-ignore exists and is not empty.\n",
      "  rank_zero_warn(f\"Checkpoint directory {dirpath} exists and is not empty.\")\n",
      "LOCAL_RANK: 0 - CUDA_VISIBLE_DEVICES: [0]\n",
      "\n",
      "  | Name            | Type                | Params\n",
      "--------------------------------------------------------\n",
      "0 | views_encoder   | ModuleDict          | 3.1 M \n",
      "1 | fusion_module   | FusionModuleMissing | 659 K \n",
      "2 | prediction_head | Generic_Decoder     | 18.1 K\n",
      "3 | criteria        | CrossEntropyLoss    | 0     \n",
      "--------------------------------------------------------\n",
      "3.8 M     Trainable params\n",
      "0         Non-trainable params\n",
      "3.8 M     Total params\n",
      "15.046    Total estimated model params size (MB)\n"
     ]
    },
    {
     "name": "stdout",
     "output_type": "stream",
     "text": [
      "Training with 19762 samples and validating on 9880\n",
      "Initial parameters of model: \"loss_args\":        {'name': 'ce', 'weight': tensor([0.4371, 3.3158, 0.3486, 2.3277, 0.9773, 7.4574, 2.6778, 1.2035, 6.9585,\n",
      "        0.6222])}\n",
      "\"predictive_model\": Generic_Decoder(\n",
      "  (pre_decoder): MLP(\n",
      "    (layers): Sequential(\n",
      "      (0): Sequential(\n",
      "        (0): Linear(in_features=128, out_features=128, bias=True)\n",
      "        (1): ReLU()\n",
      "        (2): BatchNorm1d(128, eps=1e-05, momentum=0.1, affine=True, track_running_stats=True)\n",
      "        (3): Dropout(p=0.2, inplace=False)\n",
      "      )\n",
      "    )\n",
      "  )\n",
      "  (linear_layer): Linear(in_features=128, out_features=10, bias=True)\n",
      ")\n",
      "\"view_names\":       ['S1', 'weather', 'DEM', 'S2_S2VI']\n",
      "The missing as augmentation was set on with an augmentation of  15 and following missing_method = {'name': 'ignore', 'where': '', 'value_fill': None}\n",
      "Epoch 0: 100%|██████████| 155/155 [00:07<00:00, 20.96it/s, v_num=32, train_objective=1.400, train_fullview=1.080, train_missingview=1.420]"
     ]
    },
    {
     "name": "stderr",
     "output_type": "stream",
     "text": [
      "Metric val_objective improved. New best score: 1.076\n"
     ]
    },
    {
     "name": "stdout",
     "output_type": "stream",
     "text": [
      "Epoch 1: 100%|██████████| 155/155 [00:07<00:00, 19.50it/s, v_num=32, train_objective=1.160, train_fullview=0.953, train_missingview=1.170]"
     ]
    },
    {
     "name": "stderr",
     "output_type": "stream",
     "text": [
      "Metric val_objective improved by 0.132 >= min_delta = 0.01. New best score: 0.944\n"
     ]
    },
    {
     "name": "stdout",
     "output_type": "stream",
     "text": [
      "Epoch 2: 100%|██████████| 155/155 [00:08<00:00, 18.72it/s, v_num=32, train_objective=1.450, train_fullview=1.160, train_missingview=1.470]"
     ]
    },
    {
     "name": "stderr",
     "output_type": "stream",
     "text": [
      "Metric val_objective improved by 0.049 >= min_delta = 0.01. New best score: 0.895\n",
      "`Trainer.fit` stopped: `max_epochs=3` reached.\n"
     ]
    },
    {
     "name": "stdout",
     "output_type": "stream",
     "text": [
      "Epoch 2: 100%|██████████| 155/155 [00:08<00:00, 18.38it/s, v_num=32, train_objective=1.450, train_fullview=1.160, train_missingview=1.470]\n",
      "Training done\n",
      "Inference with the following views  ['S2_S2VI']  and percentage missing  1.0\n",
      "Fold 3/3 of Run 2/2 in Feat_lstm-MAUG-ignore-Forw_S2_S2VI finished...\n",
      "Inference with the following views  ['S2_S2VI', 'S1']  and percentage missing  1.0\n",
      "Fold 3/3 of Run 2/2 in Feat_lstm-MAUG-ignore-Forw_S2_S2VI_S1 finished...\n",
      "Inference with the following views  ['S1', 'weather', 'DEM']  and percentage missing  1.0\n",
      "Fold 3/3 of Run 2/2 in Feat_lstm-MAUG-ignore-Forw_S1_weather_DEM finished...\n",
      "Fold 3/3 of Run 2/2 in Feat_lstm-MAUG-ignore finished...\n",
      "Epochs for Feat_lstm-MAUG-ignore runs on average for 0.00 epochs +- 0.000\n",
      "Finished whole execution of 2 runs in 151.45 secs\n"
     ]
    }
   ],
   "source": [
    "with open(f\"./config_time/baseline_inputTempD.yaml\") as fd:\n",
    "    config_file = yaml.load(fd, Loader=yaml.SafeLoader)\n",
    "metadata_r = main_run_input(config_file)\n",
    "storage_pd[\"ITempD-co\"] = [np.mean(metadata_r[c])/3 if c ==\"training_time\" else np.mean(metadata_r[c]) for c in columns_ ]\n",
    "\n",
    "with open(f\"./config_time/baseline_inputSensD.yaml\") as fd:\n",
    "    config_file = yaml.load(fd, Loader=yaml.SafeLoader)\n",
    "metadata_r = main_run_input(config_file)\n",
    "storage_pd[\"ISensD-co\"] = [np.mean(metadata_r[c])/3 if c ==\"training_time\" else np.mean(metadata_r[c]) for c in columns_ ]\n",
    "\n",
    "with open(f\"./config_time/baseline_featureSensD.yaml\") as fd:\n",
    "    config_file = yaml.load(fd, Loader=yaml.SafeLoader)\n",
    "metadata_r = main_run(config_file)\n",
    "storage_pd[\"FSensD-cr\"] = [np.mean(metadata_r[c])/3 if c ==\"training_time\" else np.mean(metadata_r[c]) for c in columns_ ]\n",
    "\n",
    "with open(f\"./config_time/baseline_featureCoM.yaml\") as fd:\n",
    "    config_file = yaml.load(fd, Loader=yaml.SafeLoader)\n",
    "metadata_r = main_run(config_file)\n",
    "storage_pd[\"FCoMl-co\"] = [np.mean(metadata_r[c])/3 if c ==\"training_time\" else np.mean(metadata_r[c]) for c in columns_ ]\n",
    "\n",
    "with open(f\"./config_time/baseline_ensemble.yaml\") as fd:\n",
    "    config_file = yaml.load(fd, Loader=yaml.SafeLoader)\n",
    "metadata_r = main_run_ensemble(config_file)\n",
    "storage_pd[\"ESensI-av\"] = [np.mean(metadata_r[c])/3 if c ==\"training_time\" else np.mean(metadata_r[c]) for c in columns_ ]\n",
    "\n",
    "#---------------\n",
    "with open(f\"./config_time/com_average.yaml\") as fd:\n",
    "    config_file = yaml.load(fd, Loader=yaml.SafeLoader)\n",
    "metadata_r = main_run(config_file)\n",
    "storage_pd[\"FCoM-av\"] = [np.mean(metadata_r[c])/3 if c ==\"training_time\" else np.mean(metadata_r[c]) for c in columns_ ]\n",
    "\n",
    "with open(f\"./config_time/com_gated.yaml\") as fd:\n",
    "    config_file = yaml.load(fd, Loader=yaml.SafeLoader)\n",
    "metadata_r = main_run(config_file)\n",
    "storage_pd[\"FCoM-ga\"] = [np.mean(metadata_r[c])/3 if c ==\"training_time\" else np.mean(metadata_r[c]) for c in columns_ ]\n",
    "\n",
    "with open(f\"./config_time/com_cross.yaml\") as fd:\n",
    "    config_file = yaml.load(fd, Loader=yaml.SafeLoader)\n",
    "metadata_r = main_run(config_file)\n",
    "storage_pd[\"FCoM-cr\"] = [np.mean(metadata_r[c])/3 if c ==\"training_time\" else np.mean(metadata_r[c]) for c in columns_ ]\n",
    "\n",
    "with open(f\"./config_time/com_memory.yaml\") as fd:\n",
    "    config_file = yaml.load(fd, Loader=yaml.SafeLoader)\n",
    "metadata_r = main_run(config_file)\n",
    "storage_pd[\"FCoM-me\"] = [np.mean(metadata_r[c])/3 if c ==\"training_time\" else np.mean(metadata_r[c]) for c in columns_ ]\n"
   ]
  },
  {
   "cell_type": "code",
   "execution_count": 4,
   "id": "eb9209a4",
   "metadata": {},
   "outputs": [],
   "source": [
    "storage_pd.index = columns_\n",
    "storage_pd.to_csv(f\"./config_time/time_comparison.csv\")"
   ]
  },
  {
   "cell_type": "markdown",
   "id": "1aad8a3a",
   "metadata": {},
   "source": [
    "## Plots"
   ]
  },
  {
   "cell_type": "code",
   "execution_count": 99,
   "id": "3f4e6f9c",
   "metadata": {},
   "outputs": [
    {
     "data": {
      "text/html": [
       "<div>\n",
       "<style scoped>\n",
       "    .dataframe tbody tr th:only-of-type {\n",
       "        vertical-align: middle;\n",
       "    }\n",
       "\n",
       "    .dataframe tbody tr th {\n",
       "        vertical-align: top;\n",
       "    }\n",
       "\n",
       "    .dataframe thead th {\n",
       "        text-align: right;\n",
       "    }\n",
       "</style>\n",
       "<table border=\"1\" class=\"dataframe\">\n",
       "  <thead>\n",
       "    <tr style=\"text-align: right;\">\n",
       "      <th></th>\n",
       "      <th>training_time</th>\n",
       "      <th>No Miss (4/4)</th>\n",
       "      <th>Moderate (3/4)</th>\n",
       "      <th>prediction_time_S2_S2VI_S1_100</th>\n",
       "      <th>Extreme (1/4)</th>\n",
       "    </tr>\n",
       "  </thead>\n",
       "  <tbody>\n",
       "    <tr>\n",
       "      <th>ITempD-co</th>\n",
       "      <td>4.618327</td>\n",
       "      <td>0.304181</td>\n",
       "      <td>0.301853</td>\n",
       "      <td>0.312388</td>\n",
       "      <td>0.293700</td>\n",
       "    </tr>\n",
       "    <tr>\n",
       "      <th>ISensD-co</th>\n",
       "      <td>4.573176</td>\n",
       "      <td>0.308516</td>\n",
       "      <td>0.309647</td>\n",
       "      <td>0.318805</td>\n",
       "      <td>0.307119</td>\n",
       "    </tr>\n",
       "    <tr>\n",
       "      <th>FSensD-cr</th>\n",
       "      <td>2.627565</td>\n",
       "      <td>0.416930</td>\n",
       "      <td>0.376371</td>\n",
       "      <td>0.376837</td>\n",
       "      <td>0.344340</td>\n",
       "    </tr>\n",
       "    <tr>\n",
       "      <th>FCoMl-co</th>\n",
       "      <td>3.972654</td>\n",
       "      <td>0.398202</td>\n",
       "      <td>0.392825</td>\n",
       "      <td>0.377468</td>\n",
       "      <td>0.336656</td>\n",
       "    </tr>\n",
       "    <tr>\n",
       "      <th>ESensI-av</th>\n",
       "      <td>2.904525</td>\n",
       "      <td>0.425278</td>\n",
       "      <td>0.416811</td>\n",
       "      <td>0.420242</td>\n",
       "      <td>0.412305</td>\n",
       "    </tr>\n",
       "    <tr>\n",
       "      <th>FCoM-av</th>\n",
       "      <td>3.990066</td>\n",
       "      <td>0.417343</td>\n",
       "      <td>0.383977</td>\n",
       "      <td>0.367592</td>\n",
       "      <td>0.324951</td>\n",
       "    </tr>\n",
       "    <tr>\n",
       "      <th>FCoM-ga</th>\n",
       "      <td>7.604770</td>\n",
       "      <td>0.478695</td>\n",
       "      <td>0.506125</td>\n",
       "      <td>0.521465</td>\n",
       "      <td>0.489442</td>\n",
       "    </tr>\n",
       "    <tr>\n",
       "      <th>FCoM-cr</th>\n",
       "      <td>7.635951</td>\n",
       "      <td>0.482947</td>\n",
       "      <td>0.436752</td>\n",
       "      <td>0.430465</td>\n",
       "      <td>0.402274</td>\n",
       "    </tr>\n",
       "    <tr>\n",
       "      <th>FCoM-me</th>\n",
       "      <td>7.469992</td>\n",
       "      <td>0.563926</td>\n",
       "      <td>0.519231</td>\n",
       "      <td>0.522964</td>\n",
       "      <td>0.464750</td>\n",
       "    </tr>\n",
       "  </tbody>\n",
       "</table>\n",
       "</div>"
      ],
      "text/plain": [
       "           training_time  No Miss (4/4)  Moderate (3/4)  \\\n",
       "ITempD-co       4.618327       0.304181        0.301853   \n",
       "ISensD-co       4.573176       0.308516        0.309647   \n",
       "FSensD-cr       2.627565       0.416930        0.376371   \n",
       "FCoMl-co        3.972654       0.398202        0.392825   \n",
       "ESensI-av       2.904525       0.425278        0.416811   \n",
       "FCoM-av         3.990066       0.417343        0.383977   \n",
       "FCoM-ga         7.604770       0.478695        0.506125   \n",
       "FCoM-cr         7.635951       0.482947        0.436752   \n",
       "FCoM-me         7.469992       0.563926        0.519231   \n",
       "\n",
       "           prediction_time_S2_S2VI_S1_100  Extreme (1/4)  \n",
       "ITempD-co                        0.312388       0.293700  \n",
       "ISensD-co                        0.318805       0.307119  \n",
       "FSensD-cr                        0.376837       0.344340  \n",
       "FCoMl-co                         0.377468       0.336656  \n",
       "ESensI-av                        0.420242       0.412305  \n",
       "FCoM-av                          0.367592       0.324951  \n",
       "FCoM-ga                          0.521465       0.489442  \n",
       "FCoM-cr                          0.430465       0.402274  \n",
       "FCoM-me                          0.522964       0.464750  "
      ]
     },
     "execution_count": 99,
     "metadata": {},
     "output_type": "execute_result"
    }
   ],
   "source": [
    "storage_pd = pd.read_csv(f\"./config_time/time_comparison.csv\", index_col=0).T\n",
    "storage_pd.columns = [\"training_time\", \"No Miss (4/4)\", \"Extreme (1/4)\",\"prediction_time_S2_S2VI_S1_100\", \"Moderate (3/4)\"]\n",
    "storage_pd = storage_pd.iloc[:, [0, 1, 4, 3, 2]]\n",
    "storage_pd"
   ]
  },
  {
   "cell_type": "code",
   "execution_count": 100,
   "id": "80ee2688",
   "metadata": {},
   "outputs": [],
   "source": [
    "matplotlib.rc('font', **{\"size\":19})\n",
    "args_matplot = {\"mec\" :\"black\", \"ms\": 17, \"alpha\":0.8, \"lw\":2}\n",
    "colors = list(mcolors.TABLEAU_COLORS.values())\n",
    "\n",
    "x_ticks_encoders= storage_pd.index\n",
    "\n",
    "pred_df = pd.melt(storage_pd.reset_index(), id_vars=\"index\", var_name=\"type\", value_name=\"time\")\n",
    "pred_df = pred_df[(pred_df[\"type\"] != \"training_time\") & (pred_df[\"type\"] != \"prediction_time_S2_S2VI_S1_100\")]"
   ]
  },
  {
   "cell_type": "code",
   "execution_count": 71,
   "id": "9a2aa8ae",
   "metadata": {},
   "outputs": [
    {
     "data": {
      "image/png": "[encoded data removed]",
      "text/plain": [
       "<Figure size 1400x500 with 1 Axes>"
      ]
     },
     "metadata": {},
     "output_type": "display_data"
    }
   ],
   "source": [
    "fig, ax = plt.subplots(1,1 ,squeeze=True, figsize=(14, 5))\n",
    "\n",
    "sns.barplot(data=pred_df, y=\"index\", x=\"time\", hue=\"type\", ax=ax, palette=colors)\n",
    "#sns.barplot(data=pred_df, y=x_ticks_encoders, x=\"prediction_time_S1_weather_DEM_100\", ax=ax[1], palette=colors)\n",
    "ax.set_ylabel(\"Method\")\n",
    "ax.set_xlabel(\"Time (s)\")\n",
    "ax.set_title(\"Prediction time\")\n",
    "ax.legend(loc=(0,0), framealpha=0.75, ncols=3)\n",
    "\n",
    "fig.tight_layout(w_pad=0.4)\n",
    "plt.savefig(\"imgs/time_comparison.pdf\", bbox_inches='tight')\n",
    "plt.show()"
   ]
  },
  {
   "cell_type": "code",
   "execution_count": 101,
   "id": "0484ef0d",
   "metadata": {},
   "outputs": [
    {
     "data": {
      "image/png": "[encoded data removed]",
      "text/plain": [
       "<Figure size 1300x500 with 2 Axes>"
      ]
     },
     "metadata": {},
     "output_type": "display_data"
    }
   ],
   "source": [
    "fig, ax = plt.subplots(1,2 ,squeeze=True, figsize=(13, 5), gridspec_kw={'width_ratios': [1.25, 1]})\n",
    "\n",
    "sns.barplot(data=storage_pd, y=x_ticks_encoders, x=\"training_time\", ax=ax[1], palette=colors)\n",
    "ax[1].set_xlabel(\"Time (s)\")\n",
    "ax[1].set_xticks(np.arange(len(x_ticks_encoders)))\n",
    "ax[1].set_title(\"Training time (per epoch)\")\n",
    "ylabels = [v.get_text() for v in ax[1].get_yticklabels()]\n",
    "for i, container in enumerate(ax[1].containers):\n",
    "    top_containers = []\n",
    "    low_containers = []\n",
    "    for value, label, c in zip(container.datavalues, ylabels, container):\n",
    "        if value > 2:\n",
    "            top_containers.append(label)\n",
    "            low_containers.append(\"\")\n",
    "        else:\n",
    "            top_containers.append(\"\")\n",
    "            low_containers.append(label)\n",
    "    ax[1].bar_label(container, labels=top_containers, label_type=\"center\", padding=0, color=\"white\")\n",
    "    ax[1].bar_label(container, labels=low_containers, label_type=\"edge\", padding=0, color=\"black\")\n",
    "ax[1].set_yticks([])\n",
    "ax[1].set_ylabel(\"\")\n",
    "\n",
    "sns.barplot(data=pred_df, y=\"index\", x=\"time\", hue=\"type\", ax=ax[0], palette=colors)\n",
    "ax[0].set_ylabel(\"Method\")\n",
    "ax[0].set_xlabel(\"Time (s)\")\n",
    "ax[0].set_title(\"Prediction time\")\n",
    "ax[0].legend(loc=(0,0), framealpha=0.75, ncols=1)\n",
    "\n",
    "\n",
    "fig.tight_layout(w_pad=0.4)\n",
    "plt.savefig(\"imgs/time_comparison.pdf\", bbox_inches='tight')\n",
    "plt.show()"
   ]
  },
  {
   "cell_type": "code",
   "execution_count": null,
   "id": "0943af6f",
   "metadata": {},
   "outputs": [],
   "source": []
  }
 ],
 "metadata": {
  "kernelspec": {
   "display_name": "views2",
   "language": "python",
   "name": "python3"
  },
  "language_info": {
   "codemirror_mode": {
    "name": "ipython",
    "version": 3
   },
   "file_extension": ".py",
   "mimetype": "text/x-python",
   "name": "python",
   "nbconvert_exporter": "python",
   "pygments_lexer": "ipython3",
   "version": "3.8.16"
  },
  "toc": {
   "base_numbering": 1,
   "nav_menu": {},
   "number_sections": true,
   "sideBar": true,
   "skip_h1_title": false,
   "title_cell": "Table of Contents",
   "title_sidebar": "Contents",
   "toc_cell": false,
   "toc_position": {
    "height": "calc(100% - 180px)",
    "left": "10px",
    "top": "150px",
    "width": "165px"
   },
   "toc_section_display": true,
   "toc_window_display": true
  }
 },
 "nbformat": 4,
 "nbformat_minor": 5
}
